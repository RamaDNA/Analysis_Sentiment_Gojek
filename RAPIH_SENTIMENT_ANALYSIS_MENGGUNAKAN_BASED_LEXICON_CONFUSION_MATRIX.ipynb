{
 "cells": [
  {
   "cell_type": "markdown",
   "id": "5cc7d6da",
   "metadata": {},
   "source": [
    "# Check and analysis gojek app sentimen"
   ]
  },
  {
   "cell_type": "code",
   "execution_count": 119,
   "id": "dc0bbd5c",
   "metadata": {},
   "outputs": [],
   "source": [
    "#dataFrame\n",
    "import pandas as pd\n",
    "import numpy as np\n",
    "\n",
    "#visualization\n",
    "import matplotlib.pyplot as plt\n",
    "plt.style.use('ggplot')\n",
    "\n",
    "import seaborn as sns\n",
    "\n",
    "#sklearn\n",
    "from sklearn.model_selection import train_test_split\n",
    "from sklearn.preprocessing import LabelEncoder\n",
    "from sklearn.feature_extraction.text import CountVectorizer\n",
    "\n",
    "from sklearn.manifold import TSNE\n",
    "from sklearn.metrics import confusion_matrix, classification_report, accuracy_score\n",
    "\n",
    "from sklearn.feature_extraction.text import TfidfVectorizer\n",
    "#NLTK\n",
    "import nltk\n",
    "from nltk.corpus import stopwords\n",
    "\n",
    "#keras\n",
    "from keras.models import Sequential\n",
    "\n",
    "\n",
    "from keras.preprocessing.text import Tokenizer\n",
    "from keras.preprocessing.sequence import pad_sequences\n",
    "from keras.layers import Activation, Dense, Dropout, Embedding, Flatten, Conv1D, MaxPooling1D, LSTM\n",
    "\n",
    "from keras.callbacks import ReduceLROnPlateau, EarlyStopping\n",
    "#stemmer\n",
    "from Sastrawi.Stemmer.StemmerFactory import StemmerFactory\n",
    "\n",
    "# Word2vec\n",
    "import gensim\n",
    "\n",
    "#helper\n",
    "from collections import Counter\n",
    "import emoji\n",
    "import re\n",
    "import time\n",
    "import os\n",
    "import logging\n",
    "import pickle\n",
    "import itertools\n"
   ]
  },
  {
   "cell_type": "code",
   "execution_count": 120,
   "id": "4117118c",
   "metadata": {},
   "outputs": [
    {
     "name": "stdout",
     "output_type": "stream",
     "text": [
      "(20000, 4)\n"
     ]
    }
   ],
   "source": [
    "#read dataset\n",
    "df = pd.read_csv(\"datagojekcopy.csv\")\n",
    "print(df.shape)"
   ]
  },
  {
   "cell_type": "code",
   "execution_count": 121,
   "id": "187ea9c1",
   "metadata": {},
   "outputs": [
    {
     "data": {
      "text/html": [
       "<div>\n",
       "<style scoped>\n",
       "    .dataframe tbody tr th:only-of-type {\n",
       "        vertical-align: middle;\n",
       "    }\n",
       "\n",
       "    .dataframe tbody tr th {\n",
       "        vertical-align: top;\n",
       "    }\n",
       "\n",
       "    .dataframe thead th {\n",
       "        text-align: right;\n",
       "    }\n",
       "</style>\n",
       "<table border=\"1\" class=\"dataframe\">\n",
       "  <thead>\n",
       "    <tr style=\"text-align: right;\">\n",
       "      <th></th>\n",
       "      <th>userName</th>\n",
       "      <th>score</th>\n",
       "      <th>at</th>\n",
       "      <th>content</th>\n",
       "    </tr>\n",
       "  </thead>\n",
       "  <tbody>\n",
       "    <tr>\n",
       "      <th>0</th>\n",
       "      <td>Robbi Eko</td>\n",
       "      <td>5</td>\n",
       "      <td>2023-03-30 14:37:38</td>\n",
       "      <td>sip... terima kasih 🙏</td>\n",
       "    </tr>\n",
       "    <tr>\n",
       "      <th>1</th>\n",
       "      <td>mimi cedar</td>\n",
       "      <td>5</td>\n",
       "      <td>2023-03-30 14:35:59</td>\n",
       "      <td>Bagaimana cara transfer sesama Gopay. Gopay sa...</td>\n",
       "    </tr>\n",
       "    <tr>\n",
       "      <th>2</th>\n",
       "      <td>Elisabeth Kiswati Ladiyo</td>\n",
       "      <td>5</td>\n",
       "      <td>2023-03-30 14:33:41</td>\n",
       "      <td>Aman,dan cepat. Sesuai dengan ekspektasi.👍🏼👍🏼</td>\n",
       "    </tr>\n",
       "    <tr>\n",
       "      <th>3</th>\n",
       "      <td>Jemmi Meliau ibanez</td>\n",
       "      <td>5</td>\n",
       "      <td>2023-03-30 14:23:25</td>\n",
       "      <td>. aplikasi yang cukup membantu</td>\n",
       "    </tr>\n",
       "    <tr>\n",
       "      <th>4</th>\n",
       "      <td>Boedi Arsih</td>\n",
       "      <td>5</td>\n",
       "      <td>2023-03-30 14:19:13</td>\n",
       "      <td>Cepet sampainya</td>\n",
       "    </tr>\n",
       "  </tbody>\n",
       "</table>\n",
       "</div>"
      ],
      "text/plain": [
       "                   userName  score                   at  \\\n",
       "0                 Robbi Eko      5  2023-03-30 14:37:38   \n",
       "1                mimi cedar      5  2023-03-30 14:35:59   \n",
       "2  Elisabeth Kiswati Ladiyo      5  2023-03-30 14:33:41   \n",
       "3       Jemmi Meliau ibanez      5  2023-03-30 14:23:25   \n",
       "4               Boedi Arsih      5  2023-03-30 14:19:13   \n",
       "\n",
       "                                             content  \n",
       "0                              sip... terima kasih 🙏  \n",
       "1  Bagaimana cara transfer sesama Gopay. Gopay sa...  \n",
       "2      Aman,dan cepat. Sesuai dengan ekspektasi.👍🏼👍🏼  \n",
       "3                     . aplikasi yang cukup membantu  \n",
       "4                                    Cepet sampainya  "
      ]
     },
     "execution_count": 121,
     "metadata": {},
     "output_type": "execute_result"
    }
   ],
   "source": [
    "df.head()"
   ]
  },
  {
   "cell_type": "code",
   "execution_count": 122,
   "id": "ca9cfa41",
   "metadata": {},
   "outputs": [
    {
     "data": {
      "image/png": "[encoded data removed]",
      "text/plain": [
       "<Figure size 720x360 with 1 Axes>"
      ]
     },
     "metadata": {},
     "output_type": "display_data"
    }
   ],
   "source": [
    "ax =df['score'].value_counts().sort_index().plot(\n",
    "        kind = 'bar',\n",
    "        title = 'count of review score',\n",
    "        figsize = (10,5))\n",
    "ax.set_xlabel(\"review counts\")\n",
    "plt.show()"
   ]
  },
  {
   "cell_type": "markdown",
   "id": "832e9f30",
   "metadata": {},
   "source": [
    "# Cleaning singkatan kata"
   ]
  },
  {
   "cell_type": "code",
   "execution_count": 123,
   "id": "0a73980a",
   "metadata": {},
   "outputs": [
    {
     "data": {
      "text/html": [
       "<div>\n",
       "<style scoped>\n",
       "    .dataframe tbody tr th:only-of-type {\n",
       "        vertical-align: middle;\n",
       "    }\n",
       "\n",
       "    .dataframe tbody tr th {\n",
       "        vertical-align: top;\n",
       "    }\n",
       "\n",
       "    .dataframe thead th {\n",
       "        text-align: right;\n",
       "    }\n",
       "</style>\n",
       "<table border=\"1\" class=\"dataframe\">\n",
       "  <thead>\n",
       "    <tr style=\"text-align: right;\">\n",
       "      <th></th>\n",
       "      <th>Singkatan</th>\n",
       "      <th>Kata</th>\n",
       "    </tr>\n",
       "  </thead>\n",
       "  <tbody>\n",
       "    <tr>\n",
       "      <th>0</th>\n",
       "      <td>7an</td>\n",
       "      <td>tujuan</td>\n",
       "    </tr>\n",
       "    <tr>\n",
       "      <th>1</th>\n",
       "      <td>@</td>\n",
       "      <td>di</td>\n",
       "    </tr>\n",
       "    <tr>\n",
       "      <th>2</th>\n",
       "      <td>ababil</td>\n",
       "      <td>abg labil</td>\n",
       "    </tr>\n",
       "    <tr>\n",
       "      <th>3</th>\n",
       "      <td>abis</td>\n",
       "      <td>habis</td>\n",
       "    </tr>\n",
       "    <tr>\n",
       "      <th>4</th>\n",
       "      <td>acc</td>\n",
       "      <td>accord</td>\n",
       "    </tr>\n",
       "  </tbody>\n",
       "</table>\n",
       "</div>"
      ],
      "text/plain": [
       "  Singkatan                   Kata\n",
       "0       7an                 tujuan\n",
       "1         @        di             \n",
       "2    ababil  abg labil            \n",
       "3      abis     habis             \n",
       "4       acc    accord             "
      ]
     },
     "execution_count": 123,
     "metadata": {},
     "output_type": "execute_result"
    }
   ],
   "source": [
    "#read_dataset singkatan (data didapat dari scrapping data)\n",
    "df_singkatan_scrap = pd.read_csv(\"singkatan_1_kata.csv\")\n",
    "df_singkatan_scrap.head()"
   ]
  },
  {
   "cell_type": "code",
   "execution_count": 124,
   "id": "ba79185a",
   "metadata": {},
   "outputs": [
    {
     "data": {
      "text/plain": [
       "(1481, 2)"
      ]
     },
     "execution_count": 124,
     "metadata": {},
     "output_type": "execute_result"
    }
   ],
   "source": [
    "#pindahkan ke dictionary\n",
    "singkatan_dict_scrap = dict(zip(df_singkatan_scrap['Singkatan'], df_singkatan_scrap['Kata']))\n",
    "df_singkatan_scrap.shape"
   ]
  },
  {
   "cell_type": "code",
   "execution_count": 125,
   "id": "a4142c4d",
   "metadata": {},
   "outputs": [],
   "source": [
    "#Membuat function mengubah singkatan dari bahasa indonesia\n",
    "singkatan = {\n",
    "    #a\n",
    "    \"apaa\": \"apa\",\n",
    "    \"apaaa\": \"apa\",\n",
    "    \"apaaaa\": \"apa\",\n",
    "    #\"aplikasinya\": \"aplikasi\",\n",
    "    #b\n",
    "    \"bagu\": \"bagus\",\n",
    "    \"bsa\": \"bisa\",\n",
    "    \"byk\": \"banyak\",\n",
    "    #c\n",
    "    #d\n",
    "    \"donlod\"\n",
    "    \"dowload\": \"download\",\n",
    "    \"da\": \"ada\",\n",
    "    \"dll\": \"dan lain-lain\",\n",
    "    \"d\": \"di\",\n",
    "    #e\n",
    "    \"elu\": \"kamu\",\n",
    "    #f\n",
    "    #g\n",
    "    \"gbisa\": \"gak bisa\",\n",
    "    \"gagu\": \"gak guna\",\n",
    "    \"g\": \"gak\",\n",
    "    \"gk\": \"gak\",\n",
    "    \"gohek\": \"gojek\",\n",
    "    \"goek\": \"gojek\",\n",
    "    #h\n",
    "    #i\n",
    "    \"instal\": \"install\",\n",
    "    #j\n",
    "    #k\n",
    "    \"knp\": \"kenapa\",\n",
    "    #l\n",
    "    \"loding\":\"loading\",\n",
    "    \"lg\": \"lagi\",\n",
    "    \"li\": \"beli\",\n",
    "    \"lu\": \"kamu\",\n",
    "    #m\n",
    "    \"mantaap\" : \"mantap\",\n",
    "    \"mantapp\": \"mantap\",\n",
    "    \"mantaf\": \"mantap\",\n",
    "    #n\n",
    "    \"n\": \"dan\",\n",
    "    \"nya\" :\"\",\n",
    "    #o\n",
    "    #p\n",
    "    \"parahh\": \"parah\",\n",
    "    \"parahhh\": \"parah\",\n",
    "    \"parahhhh\": \"parah\",\n",
    "    \"pedning\": \"pending\",\n",
    "    #q\n",
    "    #r\n",
    "    #s\n",
    "    \"sp\": \"siapa\",\n",
    "    \"sdh\": \"sudah\",\n",
    "    \"sngt\": \"sangat\",\n",
    "    #t\n",
    "    \"tq\": \"thank you\",\n",
    "    \"tp\": \"tapi\",\n",
    "    \"trs\": \"terus\",\n",
    "    \"trims\": \"terima kasih\",\n",
    "    #u\n",
    "    \"u\": \"kamu\",\n",
    "    \"udh\": \"udah\",\n",
    "    #v\n",
    "    #w\n",
    "    #x\n",
    "    #y\n",
    "    \"yg\": \"yang\",\n",
    "    \"sy\": \"saya\",\n",
    "    \"y\": \"iya\"\n",
    "    #z\n",
    "    \n",
    "}\n",
    "\n",
    "df_singkatan = pd.DataFrame(list(singkatan.items()),columns = ['singkatan','kata'])\n",
    "singkatan_dict = dict(zip(df_singkatan['singkatan'], df_singkatan['kata']))\n",
    "\n",
    "def changeAbbreviation_DF(text):\n",
    "    words = text.split()\n",
    "    new_words = [singkatan_dict[word] if word in singkatan_dict else word for word in words]\n",
    "    return \" \".join(new_words)\n",
    "\n",
    "def changeAbbreviation_DF_scrap(text):\n",
    "    words = text.split()\n",
    "    new_words =[singkatan_dict_scrap[word] if word in singkatan_dict_scrap else word for word in words]\n",
    "    return \" \".join(new_words)"
   ]
  },
  {
   "cell_type": "markdown",
   "id": "4d6be9ab",
   "metadata": {},
   "source": [
    "# Preprocessing text\n",
    "- menghilangkan emoji\n",
    "- menghilangkan symbol\n",
    "- stemmer\n",
    "- word_stops"
   ]
  },
  {
   "cell_type": "code",
   "execution_count": 126,
   "id": "f3c0c5bf",
   "metadata": {},
   "outputs": [],
   "source": [
    "#Prepare preprocessing text\n",
    "COBA = '\\.'\n",
    "TEXT_CLEANING_RE = '@\\S+|https?:\\S+|http?:\\S|[^A-Za-z0-9]+'\n",
    "stop_words = set(stopwords.words(\"indonesian\"))\n",
    "retain_words = {'baik','sekali'} #menghapus stopword dari kata baik sekali\n",
    "stop_words = stop_words - retain_words\n",
    "factory = StemmerFactory()\n",
    "stemmer = factory.create_stemmer()"
   ]
  },
  {
   "cell_type": "markdown",
   "id": "d4b25256",
   "metadata": {},
   "source": [
    "### create function"
   ]
  },
  {
   "cell_type": "code",
   "execution_count": 127,
   "id": "a681a517",
   "metadata": {},
   "outputs": [],
   "source": [
    "# Remove emoji\n",
    "def remove_emoji(text):\n",
    "    emoji_pattern = re.compile(\"[\"\n",
    "                               u\"\\U0001F600-\\U0001F64F\"  # emoticons\n",
    "                               u\"\\U0001F300-\\U0001F5FF\"  # simbol & piktograf\n",
    "                               u\"\\U0001F680-\\U0001F6FF\"  # transport & simbol peta\n",
    "                               u\"\\U0001F1E0-\\U0001F1FF\"  # bendera (iOS)\n",
    "                               u\"\\U00002702-\\U000027B0\"\n",
    "                               u\"\\U000024C2-\\U0001F251\"\n",
    "                               \"]+\", flags=re.UNICODE)\n",
    "    \n",
    "    return emoji_pattern.sub('',text)"
   ]
  },
  {
   "cell_type": "code",
   "execution_count": 128,
   "id": "925954a8",
   "metadata": {},
   "outputs": [],
   "source": [
    "# remove all emoji\n",
    "def remove_all(text):\n",
    "    sentence = remove_emoji(text)\n",
    "    return sentence\n",
    "\n",
    "#menghilangkan symbol\n",
    "def remove_symbol(text):\n",
    "    text = re.sub(COBA,'',str(text).strip())\n",
    "    return text\n",
    "\n",
    "#menghilangkan symbol\n",
    "def remove_symbol_clean(text):\n",
    "    text = re.sub(TEXT_CLEANING_RE,' ',str(text).lower().strip())\n",
    "    return text\n",
    "\n",
    "#stopwords\n",
    "def stopWordsData(text, stem = False):\n",
    "    tokens = []\n",
    "    for token in text.split():\n",
    "        if token not in stop_words:\n",
    "            if stem:\n",
    "                tokens.append(stemmer.stem(token))\n",
    "            else:\n",
    "                tokens.append(token)\n",
    "    return \" \".join(tokens)"
   ]
  },
  {
   "cell_type": "code",
   "execution_count": 129,
   "id": "8701ef87",
   "metadata": {},
   "outputs": [],
   "source": [
    "# fungsi semua preprocessing\n",
    "def preprocessing_text(text):\n",
    "    content = text\n",
    "    content = remove_all(content)\n",
    "    content = remove_symbol(content)\n",
    "    content = changeAbbreviation_DF(content)\n",
    "    content = changeAbbreviation_DF_scrap(content)\n",
    "    content = remove_symbol_clean(content)\n",
    "    content = stopWordsData(content)\n",
    "    \n",
    "    return content"
   ]
  },
  {
   "cell_type": "code",
   "execution_count": 130,
   "id": "ad0f4686",
   "metadata": {},
   "outputs": [],
   "source": [
    "#preprocessed_content melihat split data stopWors\n",
    "def preprocessed_content(text):\n",
    "    words = text.split()\n",
    "    return words"
   ]
  },
  {
   "cell_type": "code",
   "execution_count": 131,
   "id": "d1e51e8f",
   "metadata": {},
   "outputs": [],
   "source": [
    "## Creaete new_df\n",
    "new_df = df.reset_index(drop = True)"
   ]
  },
  {
   "cell_type": "code",
   "execution_count": 132,
   "id": "6cc38fb0",
   "metadata": {},
   "outputs": [
    {
     "data": {
      "text/plain": [
       "userName        joko suhermanto\n",
       "score                         5\n",
       "at          2023-01-29 14:09:17\n",
       "content                   ⭐⭐⭐⭐⭐\n",
       "Name: 14436, dtype: object"
      ]
     },
     "execution_count": 132,
     "metadata": {},
     "output_type": "execute_result"
    }
   ],
   "source": [
    "new_df.loc[14436]"
   ]
  },
  {
   "cell_type": "code",
   "execution_count": null,
   "id": "85e2e5c2",
   "metadata": {},
   "outputs": [],
   "source": []
  },
  {
   "cell_type": "code",
   "execution_count": 133,
   "id": "447a5e5b",
   "metadata": {},
   "outputs": [
    {
     "name": "stdout",
     "output_type": "stream",
     "text": [
      "19999\n"
     ]
    }
   ],
   "source": [
    "x = 0\n",
    "for x in new_df.index:\n",
    "    if new_df.loc[x,'content'] == \"\":\n",
    "        x +=1\n",
    "print(x)"
   ]
  },
  {
   "cell_type": "code",
   "execution_count": 134,
   "id": "ec9fc3a7",
   "metadata": {},
   "outputs": [
    {
     "data": {
      "text/plain": [
       "userName    0\n",
       "score       0\n",
       "at          0\n",
       "content     0\n",
       "dtype: int64"
      ]
     },
     "execution_count": 134,
     "metadata": {},
     "output_type": "execute_result"
    }
   ],
   "source": [
    "new_df.isnull().sum()"
   ]
  },
  {
   "cell_type": "code",
   "execution_count": 135,
   "id": "221fb6ed",
   "metadata": {},
   "outputs": [],
   "source": [
    "new_df.content = new_df.content.apply(lambda x : remove_all(x))"
   ]
  },
  {
   "cell_type": "code",
   "execution_count": 136,
   "id": "b41576ab",
   "metadata": {},
   "outputs": [
    {
     "data": {
      "text/plain": [
       "(20000, 4)"
      ]
     },
     "execution_count": 136,
     "metadata": {},
     "output_type": "execute_result"
    }
   ],
   "source": [
    "new_df.shape"
   ]
  },
  {
   "cell_type": "code",
   "execution_count": 137,
   "id": "0c656a77",
   "metadata": {},
   "outputs": [
    {
     "data": {
      "text/plain": [
       "(20000, 4)"
      ]
     },
     "execution_count": 137,
     "metadata": {},
     "output_type": "execute_result"
    }
   ],
   "source": [
    "#drop null content\n",
    "for x in new_df.index:\n",
    "    if df.loc[x,'content'] == \"\":\n",
    "        new_df.drop(x, inplace = True)\n",
    "df.shape"
   ]
  },
  {
   "cell_type": "code",
   "execution_count": 138,
   "id": "0a113556",
   "metadata": {},
   "outputs": [
    {
     "name": "stdout",
     "output_type": "stream",
     "text": [
      "278\n"
     ]
    },
    {
     "data": {
      "text/plain": [
       "(19722, 4)"
      ]
     },
     "execution_count": 138,
     "metadata": {},
     "output_type": "execute_result"
    }
   ],
   "source": [
    "y = 0\n",
    "for i in new_df.index:\n",
    "    try:\n",
    "        if new_df.loc[i, 'content'] == \"\":\n",
    "            new_df.drop(i, inplace=True)\n",
    "            y += 1\n",
    "    except KeyError:\n",
    "        continue\n",
    "print(y)\n",
    "new_df.shape"
   ]
  },
  {
   "cell_type": "code",
   "execution_count": 139,
   "id": "c102f298",
   "metadata": {},
   "outputs": [],
   "source": [
    "new_df['[preprocessed_content]'] = new_df['content'].apply(lambda x: preprocessed_content(x))"
   ]
  },
  {
   "cell_type": "code",
   "execution_count": null,
   "id": "52495f08",
   "metadata": {},
   "outputs": [],
   "source": []
  },
  {
   "cell_type": "code",
   "execution_count": null,
   "id": "198e058b",
   "metadata": {},
   "outputs": [],
   "source": []
  },
  {
   "cell_type": "code",
   "execution_count": 140,
   "id": "1bdf7898",
   "metadata": {},
   "outputs": [],
   "source": [
    "new_df.content = new_df.content.apply(lambda x: preprocessing_text(x))"
   ]
  },
  {
   "cell_type": "code",
   "execution_count": 141,
   "id": "2a213e21",
   "metadata": {},
   "outputs": [
    {
     "data": {
      "text/html": [
       "<div>\n",
       "<style scoped>\n",
       "    .dataframe tbody tr th:only-of-type {\n",
       "        vertical-align: middle;\n",
       "    }\n",
       "\n",
       "    .dataframe tbody tr th {\n",
       "        vertical-align: top;\n",
       "    }\n",
       "\n",
       "    .dataframe thead th {\n",
       "        text-align: right;\n",
       "    }\n",
       "</style>\n",
       "<table border=\"1\" class=\"dataframe\">\n",
       "  <thead>\n",
       "    <tr style=\"text-align: right;\">\n",
       "      <th></th>\n",
       "      <th>userName</th>\n",
       "      <th>score</th>\n",
       "      <th>at</th>\n",
       "      <th>content</th>\n",
       "      <th>[preprocessed_content]</th>\n",
       "    </tr>\n",
       "  </thead>\n",
       "  <tbody>\n",
       "    <tr>\n",
       "      <th>0</th>\n",
       "      <td>Robbi Eko</td>\n",
       "      <td>5</td>\n",
       "      <td>2023-03-30 14:37:38</td>\n",
       "      <td>ok terima kasih</td>\n",
       "      <td>[sip..., terima, kasih]</td>\n",
       "    </tr>\n",
       "    <tr>\n",
       "      <th>1</th>\n",
       "      <td>mimi cedar</td>\n",
       "      <td>5</td>\n",
       "      <td>2023-03-30 14:35:59</td>\n",
       "      <td>transfer gopay gopay transfer gopay</td>\n",
       "      <td>[Bagaimana, cara, transfer, sesama, Gopay., Go...</td>\n",
       "    </tr>\n",
       "    <tr>\n",
       "      <th>2</th>\n",
       "      <td>Elisabeth Kiswati Ladiyo</td>\n",
       "      <td>5</td>\n",
       "      <td>2023-03-30 14:33:41</td>\n",
       "      <td>aman cepat sesuai ekspektasi</td>\n",
       "      <td>[Aman,dan, cepat., Sesuai, dengan, ekspektasi.]</td>\n",
       "    </tr>\n",
       "    <tr>\n",
       "      <th>3</th>\n",
       "      <td>Jemmi Meliau ibanez</td>\n",
       "      <td>5</td>\n",
       "      <td>2023-03-30 14:23:25</td>\n",
       "      <td>aplikasi membantu</td>\n",
       "      <td>[., aplikasi, yang, cukup, membantu]</td>\n",
       "    </tr>\n",
       "    <tr>\n",
       "      <th>4</th>\n",
       "      <td>Boedi Arsih</td>\n",
       "      <td>5</td>\n",
       "      <td>2023-03-30 14:19:13</td>\n",
       "      <td>cepet sampainya</td>\n",
       "      <td>[Cepet, sampainya]</td>\n",
       "    </tr>\n",
       "  </tbody>\n",
       "</table>\n",
       "</div>"
      ],
      "text/plain": [
       "                   userName  score                   at  \\\n",
       "0                 Robbi Eko      5  2023-03-30 14:37:38   \n",
       "1                mimi cedar      5  2023-03-30 14:35:59   \n",
       "2  Elisabeth Kiswati Ladiyo      5  2023-03-30 14:33:41   \n",
       "3       Jemmi Meliau ibanez      5  2023-03-30 14:23:25   \n",
       "4               Boedi Arsih      5  2023-03-30 14:19:13   \n",
       "\n",
       "                               content  \\\n",
       "0                      ok terima kasih   \n",
       "1  transfer gopay gopay transfer gopay   \n",
       "2         aman cepat sesuai ekspektasi   \n",
       "3                    aplikasi membantu   \n",
       "4                      cepet sampainya   \n",
       "\n",
       "                              [preprocessed_content]  \n",
       "0                            [sip..., terima, kasih]  \n",
       "1  [Bagaimana, cara, transfer, sesama, Gopay., Go...  \n",
       "2    [Aman,dan, cepat., Sesuai, dengan, ekspektasi.]  \n",
       "3               [., aplikasi, yang, cukup, membantu]  \n",
       "4                                 [Cepet, sampainya]  "
      ]
     },
     "execution_count": 141,
     "metadata": {},
     "output_type": "execute_result"
    }
   ],
   "source": [
    "new_df.head()"
   ]
  },
  {
   "cell_type": "code",
   "execution_count": 142,
   "id": "6d2f3427",
   "metadata": {},
   "outputs": [
    {
     "name": "stdout",
     "output_type": "stream",
     "text": [
      "113\n"
     ]
    },
    {
     "data": {
      "text/plain": [
       "(19609, 5)"
      ]
     },
     "execution_count": 142,
     "metadata": {},
     "output_type": "execute_result"
    }
   ],
   "source": [
    "#drop kembali karena melakukan process stopwords yang kata-katanya tidak diketahui\n",
    "y = 0\n",
    "for i in new_df.index:\n",
    "    try:\n",
    "        if new_df.loc[i, 'content'] == \"\":\n",
    "            new_df.drop(i, inplace=True)\n",
    "            y += 1\n",
    "    except KeyError:\n",
    "        continue\n",
    "print(y)\n",
    "new_df.shape"
   ]
  },
  {
   "cell_type": "code",
   "execution_count": 143,
   "id": "f1442a80",
   "metadata": {},
   "outputs": [],
   "source": [
    "new_df['[preprocessed_content]'] = new_df['content'].apply(lambda x: preprocessed_content(x))"
   ]
  },
  {
   "cell_type": "code",
   "execution_count": 144,
   "id": "716d2a47",
   "metadata": {},
   "outputs": [
    {
     "name": "stdout",
     "output_type": "stream",
     "text": [
      "0\n"
     ]
    },
    {
     "data": {
      "text/plain": [
       "(19609, 5)"
      ]
     },
     "execution_count": 144,
     "metadata": {},
     "output_type": "execute_result"
    }
   ],
   "source": [
    "#drop kembali karena melakukan process stopwords yang kata-katanya tidak diketahui\n",
    "y = 0\n",
    "for i in new_df.index:\n",
    "    try:\n",
    "        if new_df.loc[i, 'content'] == \"\":\n",
    "            new_df.drop(i, inplace=True)\n",
    "            y += 1\n",
    "    except KeyError:\n",
    "        continue\n",
    "print(y)\n",
    "new_df.shape"
   ]
  }
 ],
 "metadata": {
  "kernelspec": {
   "display_name": "Python 3 (ipykernel)",
   "language": "python",
   "name": "python3"
  },
  "language_info": {
   "codemirror_mode": {
    "name": "ipython",
    "version": 3
   },
   "file_extension": ".py",
   "mimetype": "text/x-python",
   "name": "python",
   "nbconvert_exporter": "python",
   "pygments_lexer": "ipython3",
   "version": "3.9.6"
  }
 },
 "nbformat": 4,
 "nbformat_minor": 5
}
