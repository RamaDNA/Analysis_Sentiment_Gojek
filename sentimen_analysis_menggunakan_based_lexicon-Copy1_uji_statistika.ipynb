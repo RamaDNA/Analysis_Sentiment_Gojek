{
 "cells": [
  {
   "cell_type": "markdown",
   "id": "c7dc9bf8",
   "metadata": {},
   "source": [
    "# Check and analysis gojek app sentimen"
   ]
  },
  {
   "cell_type": "code",
   "execution_count": 545,
   "id": "4a93975d",
   "metadata": {},
   "outputs": [],
   "source": [
    "#dataFrame\n",
    "import pandas as pd\n",
    "import numpy as np\n",
    "\n",
    "#visualization\n",
    "import matplotlib.pyplot as plt\n",
    "plt.style.use('ggplot')\n",
    "\n",
    "import seaborn as sns\n",
    "\n",
    "#sklearn\n",
    "from sklearn.model_selection import train_test_split\n",
    "from sklearn.preprocessing import LabelEncoder\n",
    "from sklearn.feature_extraction.text import CountVectorizer\n",
    "\n",
    "from sklearn.manifold import TSNE\n",
    "from sklearn.metrics import confusion_matrix, classification_report, accuracy_score\n",
    "\n",
    "from sklearn.feature_extraction.text import TfidfVectorizer\n",
    "#NLTK\n",
    "import nltk\n",
    "from nltk.corpus import stopwords\n",
    "\n",
    "#keras\n",
    "from keras.models import Sequential\n",
    "\n",
    "\n",
    "from keras.preprocessing.text import Tokenizer\n",
    "from keras.preprocessing.sequence import pad_sequences\n",
    "from keras.layers import Activation, Dense, Dropout, Embedding, Flatten, Conv1D, MaxPooling1D, LSTM\n",
    "\n",
    "from keras.callbacks import ReduceLROnPlateau, EarlyStopping\n",
    "#stemmer\n",
    "from Sastrawi.Stemmer.StemmerFactory import StemmerFactory\n",
    "\n",
    "# Word2vec\n",
    "import gensim\n",
    "\n",
    "#helper\n",
    "from collections import Counter\n",
    "import emoji\n",
    "import re\n",
    "import time\n",
    "import os\n",
    "import logging\n",
    "import pickle\n",
    "import itertools\n"
   ]
  },
  {
   "cell_type": "code",
   "execution_count": 546,
   "id": "762886ce",
   "metadata": {},
   "outputs": [
    {
     "name": "stdout",
     "output_type": "stream",
     "text": [
      "(20000, 4)\n"
     ]
    }
   ],
   "source": [
    "#read dataset\n",
    "df = pd.read_csv(\"datagojekcopy.csv\")\n",
    "print(df.shape)"
   ]
  },
  {
   "cell_type": "code",
   "execution_count": 547,
   "id": "6e5b59fe",
   "metadata": {},
   "outputs": [
    {
     "data": {
      "text/html": [
       "<div>\n",
       "<style scoped>\n",
       "    .dataframe tbody tr th:only-of-type {\n",
       "        vertical-align: middle;\n",
       "    }\n",
       "\n",
       "    .dataframe tbody tr th {\n",
       "        vertical-align: top;\n",
       "    }\n",
       "\n",
       "    .dataframe thead th {\n",
       "        text-align: right;\n",
       "    }\n",
       "</style>\n",
       "<table border=\"1\" class=\"dataframe\">\n",
       "  <thead>\n",
       "    <tr style=\"text-align: right;\">\n",
       "      <th></th>\n",
       "      <th>userName</th>\n",
       "      <th>score</th>\n",
       "      <th>at</th>\n",
       "      <th>content</th>\n",
       "    </tr>\n",
       "  </thead>\n",
       "  <tbody>\n",
       "    <tr>\n",
       "      <th>0</th>\n",
       "      <td>Robbi Eko</td>\n",
       "      <td>5</td>\n",
       "      <td>2023-03-30 14:37:38</td>\n",
       "      <td>sip... terima kasih 🙏</td>\n",
       "    </tr>\n",
       "    <tr>\n",
       "      <th>1</th>\n",
       "      <td>mimi cedar</td>\n",
       "      <td>5</td>\n",
       "      <td>2023-03-30 14:35:59</td>\n",
       "      <td>Bagaimana cara transfer sesama Gopay. Gopay sa...</td>\n",
       "    </tr>\n",
       "    <tr>\n",
       "      <th>2</th>\n",
       "      <td>Elisabeth Kiswati Ladiyo</td>\n",
       "      <td>5</td>\n",
       "      <td>2023-03-30 14:33:41</td>\n",
       "      <td>Aman,dan cepat. Sesuai dengan ekspektasi.👍🏼👍🏼</td>\n",
       "    </tr>\n",
       "    <tr>\n",
       "      <th>3</th>\n",
       "      <td>Jemmi Meliau ibanez</td>\n",
       "      <td>5</td>\n",
       "      <td>2023-03-30 14:23:25</td>\n",
       "      <td>. aplikasi yang cukup membantu</td>\n",
       "    </tr>\n",
       "    <tr>\n",
       "      <th>4</th>\n",
       "      <td>Boedi Arsih</td>\n",
       "      <td>5</td>\n",
       "      <td>2023-03-30 14:19:13</td>\n",
       "      <td>Cepet sampainya</td>\n",
       "    </tr>\n",
       "  </tbody>\n",
       "</table>\n",
       "</div>"
      ],
      "text/plain": [
       "                   userName  score                   at  \\\n",
       "0                 Robbi Eko      5  2023-03-30 14:37:38   \n",
       "1                mimi cedar      5  2023-03-30 14:35:59   \n",
       "2  Elisabeth Kiswati Ladiyo      5  2023-03-30 14:33:41   \n",
       "3       Jemmi Meliau ibanez      5  2023-03-30 14:23:25   \n",
       "4               Boedi Arsih      5  2023-03-30 14:19:13   \n",
       "\n",
       "                                             content  \n",
       "0                              sip... terima kasih 🙏  \n",
       "1  Bagaimana cara transfer sesama Gopay. Gopay sa...  \n",
       "2      Aman,dan cepat. Sesuai dengan ekspektasi.👍🏼👍🏼  \n",
       "3                     . aplikasi yang cukup membantu  \n",
       "4                                    Cepet sampainya  "
      ]
     },
     "execution_count": 547,
     "metadata": {},
     "output_type": "execute_result"
    }
   ],
   "source": [
    "df.head()"
   ]
  },
  {
   "cell_type": "code",
   "execution_count": 548,
   "id": "19b4b3b6",
   "metadata": {},
   "outputs": [
    {
     "data": {
      "image/png": "[encoded data removed]",
      "text/plain": [
       "<Figure size 720x360 with 1 Axes>"
      ]
     },
     "metadata": {},
     "output_type": "display_data"
    }
   ],
   "source": [
    "ax =df['score'].value_counts().sort_index().plot(\n",
    "        kind = 'bar',\n",
    "        title = 'count of review score',\n",
    "        figsize = (10,5))\n",
    "ax.set_xlabel(\"review counts\")\n",
    "plt.show()"
   ]
  },
  {
   "cell_type": "markdown",
   "id": "f42ade1d",
   "metadata": {},
   "source": [
    "# Preprocessing text\n",
    "- menghilangkan emoji\n",
    "- menghilangkan symbol\n",
    "- stemmer\n",
    "- word_stops"
   ]
  },
  {
   "cell_type": "code",
   "execution_count": 549,
   "id": "64adb92c",
   "metadata": {},
   "outputs": [],
   "source": [
    "#Prepare preprocessing text\n",
    "COBA = '\\.'\n",
    "TEXT_CLEANING_RE = '@\\S+|https?:\\S+|http?:\\S|[^A-Za-z0-9]+'\n",
    "stop_words = set(stopwords.words(\"indonesian\"))\n",
    "retain_words = {'baik','sekali'} #menghapus stopword dari kata baik sekali\n",
    "stop_words = stop_words - retain_words\n",
    "factory = StemmerFactory()\n",
    "stemmer = factory.create_stemmer()"
   ]
  },
  {
   "cell_type": "code",
   "execution_count": 550,
   "id": "b05cf243",
   "metadata": {},
   "outputs": [],
   "source": [
    "# Remove emoji\n",
    "def remove_emoji(text):\n",
    "    emoji_pattern = re.compile(\"[\"\n",
    "                               u\"\\U0001F600-\\U0001F64F\"  # emoticons\n",
    "                               u\"\\U0001F300-\\U0001F5FF\"  # simbol & piktograf\n",
    "                               u\"\\U0001F680-\\U0001F6FF\"  # transport & simbol peta\n",
    "                               u\"\\U0001F1E0-\\U0001F1FF\"  # bendera (iOS)\n",
    "                               u\"\\U00002702-\\U000027B0\"\n",
    "                               u\"\\U000024C2-\\U0001F251\"\n",
    "                               \"]+\", flags=re.UNICODE)\n",
    "    \n",
    "    return emoji_pattern.sub('',text)"
   ]
  },
  {
   "cell_type": "code",
   "execution_count": 551,
   "id": "c1cafb48",
   "metadata": {},
   "outputs": [],
   "source": [
    "# remove all emoji\n",
    "def remove_all(text):\n",
    "    sentence = remove_emoji(text)\n",
    "    return sentence\n",
    "    "
   ]
  },
  {
   "cell_type": "code",
   "execution_count": 552,
   "id": "87c0860b",
   "metadata": {},
   "outputs": [],
   "source": [
    "df.content = df.content.apply(lambda x:remove_all(x))"
   ]
  },
  {
   "cell_type": "code",
   "execution_count": 553,
   "id": "b913133f",
   "metadata": {},
   "outputs": [
    {
     "data": {
      "text/html": [
       "<div>\n",
       "<style scoped>\n",
       "    .dataframe tbody tr th:only-of-type {\n",
       "        vertical-align: middle;\n",
       "    }\n",
       "\n",
       "    .dataframe tbody tr th {\n",
       "        vertical-align: top;\n",
       "    }\n",
       "\n",
       "    .dataframe thead th {\n",
       "        text-align: right;\n",
       "    }\n",
       "</style>\n",
       "<table border=\"1\" class=\"dataframe\">\n",
       "  <thead>\n",
       "    <tr style=\"text-align: right;\">\n",
       "      <th></th>\n",
       "      <th>userName</th>\n",
       "      <th>score</th>\n",
       "      <th>at</th>\n",
       "      <th>content</th>\n",
       "    </tr>\n",
       "  </thead>\n",
       "  <tbody>\n",
       "    <tr>\n",
       "      <th>0</th>\n",
       "      <td>Robbi Eko</td>\n",
       "      <td>5</td>\n",
       "      <td>2023-03-30 14:37:38</td>\n",
       "      <td>sip... terima kasih</td>\n",
       "    </tr>\n",
       "    <tr>\n",
       "      <th>1</th>\n",
       "      <td>mimi cedar</td>\n",
       "      <td>5</td>\n",
       "      <td>2023-03-30 14:35:59</td>\n",
       "      <td>Bagaimana cara transfer sesama Gopay. Gopay sa...</td>\n",
       "    </tr>\n",
       "    <tr>\n",
       "      <th>2</th>\n",
       "      <td>Elisabeth Kiswati Ladiyo</td>\n",
       "      <td>5</td>\n",
       "      <td>2023-03-30 14:33:41</td>\n",
       "      <td>Aman,dan cepat. Sesuai dengan ekspektasi.</td>\n",
       "    </tr>\n",
       "    <tr>\n",
       "      <th>3</th>\n",
       "      <td>Jemmi Meliau ibanez</td>\n",
       "      <td>5</td>\n",
       "      <td>2023-03-30 14:23:25</td>\n",
       "      <td>. aplikasi yang cukup membantu</td>\n",
       "    </tr>\n",
       "    <tr>\n",
       "      <th>4</th>\n",
       "      <td>Boedi Arsih</td>\n",
       "      <td>5</td>\n",
       "      <td>2023-03-30 14:19:13</td>\n",
       "      <td>Cepet sampainya</td>\n",
       "    </tr>\n",
       "  </tbody>\n",
       "</table>\n",
       "</div>"
      ],
      "text/plain": [
       "                   userName  score                   at  \\\n",
       "0                 Robbi Eko      5  2023-03-30 14:37:38   \n",
       "1                mimi cedar      5  2023-03-30 14:35:59   \n",
       "2  Elisabeth Kiswati Ladiyo      5  2023-03-30 14:33:41   \n",
       "3       Jemmi Meliau ibanez      5  2023-03-30 14:23:25   \n",
       "4               Boedi Arsih      5  2023-03-30 14:19:13   \n",
       "\n",
       "                                             content  \n",
       "0                               sip... terima kasih   \n",
       "1  Bagaimana cara transfer sesama Gopay. Gopay sa...  \n",
       "2          Aman,dan cepat. Sesuai dengan ekspektasi.  \n",
       "3                     . aplikasi yang cukup membantu  \n",
       "4                                    Cepet sampainya  "
      ]
     },
     "execution_count": 553,
     "metadata": {},
     "output_type": "execute_result"
    }
   ],
   "source": [
    "df.head()"
   ]
  },
  {
   "cell_type": "code",
   "execution_count": 554,
   "id": "60024485",
   "metadata": {},
   "outputs": [
    {
     "data": {
      "text/plain": [
       "(20000, 4)"
      ]
     },
     "execution_count": 554,
     "metadata": {},
     "output_type": "execute_result"
    }
   ],
   "source": [
    "df.shape"
   ]
  },
  {
   "cell_type": "code",
   "execution_count": 555,
   "id": "a98cc068",
   "metadata": {},
   "outputs": [
    {
     "data": {
      "text/plain": [
       "(19722, 4)"
      ]
     },
     "execution_count": 555,
     "metadata": {},
     "output_type": "execute_result"
    }
   ],
   "source": [
    "#drop null content\n",
    "for x in df.index:\n",
    "    if df.loc[x,'content'] == \"\":\n",
    "        df.drop(x, inplace = True)\n",
    "df.shape"
   ]
  },
  {
   "cell_type": "code",
   "execution_count": 556,
   "id": "0d9c5419",
   "metadata": {},
   "outputs": [],
   "source": [
    "#menghilangkan symbol\n",
    "def remove_symbol(text):\n",
    "    text = re.sub(COBA,'',str(text).strip())\n",
    "    return text"
   ]
  },
  {
   "cell_type": "code",
   "execution_count": 557,
   "id": "8d915c23",
   "metadata": {},
   "outputs": [],
   "source": [
    "#menghilangkan symbol\n",
    "def remove_symbol_clean(text):\n",
    "    text = re.sub(TEXT_CLEANING_RE,' ',str(text).lower().strip())\n",
    "    return text"
   ]
  },
  {
   "cell_type": "code",
   "execution_count": 558,
   "id": "1cc35c5f",
   "metadata": {},
   "outputs": [],
   "source": [
    "#stopwords\n",
    "def stopWordsData(text, stem = False):\n",
    "    tokens = []\n",
    "    for token in text.split():\n",
    "        if token not in stop_words:\n",
    "            if stem:\n",
    "                tokens.append(stemmer.stem(token))\n",
    "            else:\n",
    "                tokens.append(token)\n",
    "    return \" \".join(tokens)"
   ]
  },
  {
   "cell_type": "markdown",
   "id": "45750724",
   "metadata": {},
   "source": [
    "# Cleaning singkatan kata"
   ]
  },
  {
   "cell_type": "code",
   "execution_count": 559,
   "id": "65da29bb",
   "metadata": {},
   "outputs": [
    {
     "data": {
      "text/html": [
       "<div>\n",
       "<style scoped>\n",
       "    .dataframe tbody tr th:only-of-type {\n",
       "        vertical-align: middle;\n",
       "    }\n",
       "\n",
       "    .dataframe tbody tr th {\n",
       "        vertical-align: top;\n",
       "    }\n",
       "\n",
       "    .dataframe thead th {\n",
       "        text-align: right;\n",
       "    }\n",
       "</style>\n",
       "<table border=\"1\" class=\"dataframe\">\n",
       "  <thead>\n",
       "    <tr style=\"text-align: right;\">\n",
       "      <th></th>\n",
       "      <th>Singkatan</th>\n",
       "      <th>Kata</th>\n",
       "    </tr>\n",
       "  </thead>\n",
       "  <tbody>\n",
       "    <tr>\n",
       "      <th>0</th>\n",
       "      <td>7an</td>\n",
       "      <td>tujuan</td>\n",
       "    </tr>\n",
       "    <tr>\n",
       "      <th>1</th>\n",
       "      <td>@</td>\n",
       "      <td>di</td>\n",
       "    </tr>\n",
       "    <tr>\n",
       "      <th>2</th>\n",
       "      <td>ababil</td>\n",
       "      <td>abg labil</td>\n",
       "    </tr>\n",
       "    <tr>\n",
       "      <th>3</th>\n",
       "      <td>abis</td>\n",
       "      <td>habis</td>\n",
       "    </tr>\n",
       "    <tr>\n",
       "      <th>4</th>\n",
       "      <td>acc</td>\n",
       "      <td>accord</td>\n",
       "    </tr>\n",
       "  </tbody>\n",
       "</table>\n",
       "</div>"
      ],
      "text/plain": [
       "  Singkatan                   Kata\n",
       "0       7an                 tujuan\n",
       "1         @        di             \n",
       "2    ababil  abg labil            \n",
       "3      abis     habis             \n",
       "4       acc    accord             "
      ]
     },
     "execution_count": 559,
     "metadata": {},
     "output_type": "execute_result"
    }
   ],
   "source": [
    "#read_dataset singkatan (data didapat dari scrapping data)\n",
    "df_singkatan_scrap = pd.read_csv(\"singkatan_1_kata.csv\")\n",
    "df_singkatan_scrap.head()"
   ]
  },
  {
   "cell_type": "code",
   "execution_count": 560,
   "id": "f1f43fb7",
   "metadata": {},
   "outputs": [
    {
     "data": {
      "text/plain": [
       "(1481, 2)"
      ]
     },
     "execution_count": 560,
     "metadata": {},
     "output_type": "execute_result"
    }
   ],
   "source": [
    "#pindahkan ke dictionary\n",
    "singkatan_dict_scrap = dict(zip(df_singkatan_scrap['Singkatan'], df_singkatan_scrap['Kata']))\n",
    "df_singkatan_scrap.shape"
   ]
  },
  {
   "cell_type": "code",
   "execution_count": 561,
   "id": "79515e28",
   "metadata": {},
   "outputs": [],
   "source": [
    "#Membuat function mengubah singkatan dari bahasa indonesia\n",
    "singkatan = {\n",
    "    #a\n",
    "    \"apaa\": \"apa\",\n",
    "    \"apaaa\": \"apa\",\n",
    "    \"apaaaa\": \"apa\",\n",
    "    #\"aplikasinya\": \"aplikasi\",\n",
    "    #b\n",
    "    \"bagu\": \"bagus\",\n",
    "    \"bsa\": \"bisa\",\n",
    "    \"byk\": \"banyak\",\n",
    "    #c\n",
    "    #d\n",
    "    \"donlod\"\n",
    "    \"dowload\": \"download\",\n",
    "    \"da\": \"ada\",\n",
    "    \"dll\": \"dan lain-lain\",\n",
    "    \"d\": \"di\",\n",
    "    #e\n",
    "    \"elu\": \"kamu\",\n",
    "    #f\n",
    "    #g\n",
    "    \"gbisa\": \"gak bisa\",\n",
    "    \"gagu\": \"gak guna\",\n",
    "    \"g\": \"gak\",\n",
    "    \"gk\": \"gak\",\n",
    "    \"gohek\": \"gojek\",\n",
    "    \"goek\": \"gojek\",\n",
    "    #h\n",
    "    #i\n",
    "    \"instal\": \"install\",\n",
    "    #j\n",
    "    #k\n",
    "    \"knp\": \"kenapa\",\n",
    "    #l\n",
    "    \"loding\":\"loading\",\n",
    "    \"lg\": \"lagi\",\n",
    "    \"li\": \"beli\",\n",
    "    \"lu\": \"kamu\",\n",
    "    #m\n",
    "    \"mantaap\" : \"mantap\",\n",
    "    \"mantapp\": \"mantap\",\n",
    "    \"mantaf\": \"mantap\",\n",
    "    #n\n",
    "    \"n\": \"dan\",\n",
    "    \"nya\" :\"\",\n",
    "    #o\n",
    "    #p\n",
    "    \"parahh\": \"parah\",\n",
    "    \"parahhh\": \"parah\",\n",
    "    \"parahhhh\": \"parah\",\n",
    "    \"pedning\": \"pending\",\n",
    "    #q\n",
    "    #r\n",
    "    #s\n",
    "    \"sp\": \"siapa\",\n",
    "    \"sdh\": \"sudah\",\n",
    "    \"sngt\": \"sangat\",\n",
    "    #t\n",
    "    \"tq\": \"thank you\",\n",
    "    \"tp\": \"tapi\",\n",
    "    \"trs\": \"terus\",\n",
    "    \"trims\": \"terima kasih\",\n",
    "    #u\n",
    "    \"u\": \"kamu\",\n",
    "    \"udh\": \"udah\",\n",
    "    #v\n",
    "    #w\n",
    "    #x\n",
    "    #y\n",
    "    \"yg\": \"yang\",\n",
    "    \"sy\": \"saya\",\n",
    "    \"y\": \"iya\"\n",
    "    #z\n",
    "    \n",
    "}\n",
    "\n",
    "df_singkatan = pd.DataFrame(list(singkatan.items()),columns = ['singkatan','kata'])\n",
    "singkatan_dict = dict(zip(df_singkatan['singkatan'], df_singkatan['kata']))\n",
    "\n",
    "def changeAbbreviation_DF(text):\n",
    "    words = text.split()\n",
    "    new_words = [singkatan_dict[word] if word in singkatan_dict else word for word in words]\n",
    "    return \" \".join(new_words)\n",
    "\n",
    "def changeAbbreviation_DF_scrap(text):\n",
    "    words = text.split()\n",
    "    new_words =[singkatan_dict_scrap[word] if word in singkatan_dict_scrap else word for word in words]\n",
    "    return \" \".join(new_words)\n",
    "\n",
    "def changeAbbreviation(text):\n",
    "    words = text.split()\n",
    "    \n",
    "    for i in range(len(words)):\n",
    "        if words[i] in df_singkatan['singkatan']:\n",
    "            words[i] = df_singkatan['kata',[words[i]]]\n",
    "    return \" \".join(words)"
   ]
  },
  {
   "cell_type": "code",
   "execution_count": 562,
   "id": "9519550e",
   "metadata": {},
   "outputs": [],
   "source": [
    "#remove symbol tandak titik .\n",
    "df.content = df.content.apply(lambda x: remove_symbol(x))"
   ]
  },
  {
   "cell_type": "code",
   "execution_count": 563,
   "id": "a7393631",
   "metadata": {},
   "outputs": [],
   "source": [
    "#normalisasi mengubah singkatan\n",
    "df.content = df.content.apply(lambda x: changeAbbreviation_DF(x))"
   ]
  },
  {
   "cell_type": "code",
   "execution_count": 564,
   "id": "35602abb",
   "metadata": {},
   "outputs": [
    {
     "name": "stdout",
     "output_type": "stream",
     "text": [
      "pas di gunakan untuk pembayaran gak bisa di gunakan padahal udah gak bawa uang lagi dana ada di gopay menjengkelkan buang waktu malu maluin aja payah\n"
     ]
    }
   ],
   "source": [
    "text = df.loc[33,'content']\n",
    "print(text)"
   ]
  },
  {
   "cell_type": "code",
   "execution_count": 565,
   "id": "505957df",
   "metadata": {},
   "outputs": [
    {
     "name": "stdout",
     "output_type": "stream",
     "text": [
      "pas di gunakan untuk pembayaran gak bisa di gunakan padahal udah gak bawa uang lagi dana ada di gopay menjengkelkan buang waktu malu maluin aja payah\n"
     ]
    }
   ],
   "source": [
    "text = df.loc[33,'content']\n",
    "print(text)"
   ]
  },
  {
   "cell_type": "code",
   "execution_count": 566,
   "id": "bc20a59d",
   "metadata": {},
   "outputs": [
    {
     "name": "stdout",
     "output_type": "stream",
     "text": [
      "Tiba\" akun hrs upgrade ke gopplus padahal saya pengguna dr tahun 2016 dan smua transaksi berantakan\n"
     ]
    }
   ],
   "source": [
    "text = df.loc[45,'content']\n",
    "print(text)"
   ]
  },
  {
   "cell_type": "code",
   "execution_count": 567,
   "id": "edc119e9",
   "metadata": {},
   "outputs": [],
   "source": [
    "#normalisasi mengubah singkatan\n",
    "df.content = df.content.apply(lambda x: changeAbbreviation_DF_scrap(x))"
   ]
  },
  {
   "cell_type": "code",
   "execution_count": 568,
   "id": "bd96a7e1",
   "metadata": {},
   "outputs": [
    {
     "name": "stdout",
     "output_type": "stream",
     "text": [
      "Tiba\" akun harus              upgrade ke gopplus padahal saya pengguna dari              tahun 2016 dan semua              transaksi berantakan\n"
     ]
    }
   ],
   "source": [
    "text = df.loc[45,'content']\n",
    "print(text)"
   ]
  },
  {
   "cell_type": "code",
   "execution_count": 569,
   "id": "a1f5cf93",
   "metadata": {},
   "outputs": [],
   "source": [
    "#hapus symbol\n",
    "df.content = df.content.apply(lambda x: remove_symbol_clean(x))"
   ]
  },
  {
   "cell_type": "code",
   "execution_count": 570,
   "id": "598d05f8",
   "metadata": {},
   "outputs": [
    {
     "name": "stdout",
     "output_type": "stream",
     "text": [
      "tiba akun harus upgrade ke gopplus padahal saya pengguna dari tahun 2016 dan semua transaksi berantakan\n"
     ]
    }
   ],
   "source": [
    "text = df.loc[45,'content']\n",
    "print(text)"
   ]
  },
  {
   "cell_type": "code",
   "execution_count": 571,
   "id": "e7e2d308",
   "metadata": {},
   "outputs": [],
   "source": [
    "#Function Merger preprocessing_text\n",
    "\n",
    "# def preprocessing_text(text):\n",
    "#     content = text\n",
    "#     content = remove_symbol(content)\n",
    "#     content = changeAbbreviation_DF(content)\n",
    "#     content = stopWordsData(content)\n",
    "    \n",
    "#     return content\n",
    "    \n",
    "    "
   ]
  },
  {
   "cell_type": "code",
   "execution_count": 572,
   "id": "0d61f334",
   "metadata": {},
   "outputs": [],
   "source": [
    "def preprocessing_text(text):\n",
    "    content = text\n",
    "    content = remove_all(content)\n",
    "    content = remove_symbol(content)\n",
    "    content = changeAbbreviation_DF(content)\n",
    "    content = changeAbbreviation_DF_scrap(content)\n",
    "    content = remove_symbol_clean(content)\n",
    "    content = stopWordsData(content)\n",
    "    \n",
    "    return content"
   ]
  },
  {
   "cell_type": "markdown",
   "id": "a6607693",
   "metadata": {},
   "source": [
    "## Buat new_df untuk Membuat similiar untuk proses normalisasi"
   ]
  },
  {
   "cell_type": "code",
   "execution_count": 573,
   "id": "c04aa5f9",
   "metadata": {},
   "outputs": [
    {
     "data": {
      "text/plain": [
       "'tiba akun harus upgrade ke gopplus padahal saya pengguna dari tahun 2016 dan semua transaksi berantakan'"
      ]
     },
     "execution_count": 573,
     "metadata": {},
     "output_type": "execute_result"
    }
   ],
   "source": [
    "df.loc[45,'content']"
   ]
  },
  {
   "cell_type": "code",
   "execution_count": 574,
   "id": "07c6083f",
   "metadata": {},
   "outputs": [],
   "source": [
    "df.content = df.content.apply(lambda x : preprocessing_text(x))"
   ]
  },
  {
   "cell_type": "code",
   "execution_count": 575,
   "id": "508c40ab",
   "metadata": {},
   "outputs": [
    {
     "data": {
      "text/plain": [
       "'akun upgrade gopplus pengguna 2016 transaksi berantakan'"
      ]
     },
     "execution_count": 575,
     "metadata": {},
     "output_type": "execute_result"
    }
   ],
   "source": [
    "df.loc[45,'content']"
   ]
  },
  {
   "cell_type": "code",
   "execution_count": 576,
   "id": "b1cd39e3",
   "metadata": {},
   "outputs": [
    {
     "data": {
      "text/html": [
       "<div>\n",
       "<style scoped>\n",
       "    .dataframe tbody tr th:only-of-type {\n",
       "        vertical-align: middle;\n",
       "    }\n",
       "\n",
       "    .dataframe tbody tr th {\n",
       "        vertical-align: top;\n",
       "    }\n",
       "\n",
       "    .dataframe thead th {\n",
       "        text-align: right;\n",
       "    }\n",
       "</style>\n",
       "<table border=\"1\" class=\"dataframe\">\n",
       "  <thead>\n",
       "    <tr style=\"text-align: right;\">\n",
       "      <th></th>\n",
       "      <th>userName</th>\n",
       "      <th>score</th>\n",
       "      <th>at</th>\n",
       "      <th>content</th>\n",
       "    </tr>\n",
       "  </thead>\n",
       "  <tbody>\n",
       "    <tr>\n",
       "      <th>0</th>\n",
       "      <td>Robbi Eko</td>\n",
       "      <td>5</td>\n",
       "      <td>2023-03-30 14:37:38</td>\n",
       "      <td>ok terima kasih</td>\n",
       "    </tr>\n",
       "    <tr>\n",
       "      <th>1</th>\n",
       "      <td>mimi cedar</td>\n",
       "      <td>5</td>\n",
       "      <td>2023-03-30 14:35:59</td>\n",
       "      <td>transfer gopay gopay transfer gopay</td>\n",
       "    </tr>\n",
       "    <tr>\n",
       "      <th>2</th>\n",
       "      <td>Elisabeth Kiswati Ladiyo</td>\n",
       "      <td>5</td>\n",
       "      <td>2023-03-30 14:33:41</td>\n",
       "      <td>aman cepat sesuai ekspektasi</td>\n",
       "    </tr>\n",
       "    <tr>\n",
       "      <th>3</th>\n",
       "      <td>Jemmi Meliau ibanez</td>\n",
       "      <td>5</td>\n",
       "      <td>2023-03-30 14:23:25</td>\n",
       "      <td>aplikasi membantu</td>\n",
       "    </tr>\n",
       "    <tr>\n",
       "      <th>4</th>\n",
       "      <td>Boedi Arsih</td>\n",
       "      <td>5</td>\n",
       "      <td>2023-03-30 14:19:13</td>\n",
       "      <td>cepat sampainya</td>\n",
       "    </tr>\n",
       "  </tbody>\n",
       "</table>\n",
       "</div>"
      ],
      "text/plain": [
       "                   userName  score                   at  \\\n",
       "0                 Robbi Eko      5  2023-03-30 14:37:38   \n",
       "1                mimi cedar      5  2023-03-30 14:35:59   \n",
       "2  Elisabeth Kiswati Ladiyo      5  2023-03-30 14:33:41   \n",
       "3       Jemmi Meliau ibanez      5  2023-03-30 14:23:25   \n",
       "4               Boedi Arsih      5  2023-03-30 14:19:13   \n",
       "\n",
       "                               content  \n",
       "0                      ok terima kasih  \n",
       "1  transfer gopay gopay transfer gopay  \n",
       "2         aman cepat sesuai ekspektasi  \n",
       "3                    aplikasi membantu  \n",
       "4                      cepat sampainya  "
      ]
     },
     "execution_count": 576,
     "metadata": {},
     "output_type": "execute_result"
    }
   ],
   "source": [
    "new_df = df.reset_index(drop = True)\n",
    "new_df.head()"
   ]
  },
  {
   "cell_type": "code",
   "execution_count": 577,
   "id": "518659a4",
   "metadata": {},
   "outputs": [],
   "source": [
    "new_df.content = new_df.content.apply(lambda x: preprocessing_text(x))"
   ]
  },
  {
   "cell_type": "code",
   "execution_count": 578,
   "id": "2ebe2b31",
   "metadata": {},
   "outputs": [
    {
     "data": {
      "text/html": [
       "<div>\n",
       "<style scoped>\n",
       "    .dataframe tbody tr th:only-of-type {\n",
       "        vertical-align: middle;\n",
       "    }\n",
       "\n",
       "    .dataframe tbody tr th {\n",
       "        vertical-align: top;\n",
       "    }\n",
       "\n",
       "    .dataframe thead th {\n",
       "        text-align: right;\n",
       "    }\n",
       "</style>\n",
       "<table border=\"1\" class=\"dataframe\">\n",
       "  <thead>\n",
       "    <tr style=\"text-align: right;\">\n",
       "      <th></th>\n",
       "      <th>userName</th>\n",
       "      <th>score</th>\n",
       "      <th>at</th>\n",
       "      <th>content</th>\n",
       "    </tr>\n",
       "  </thead>\n",
       "  <tbody>\n",
       "    <tr>\n",
       "      <th>0</th>\n",
       "      <td>Robbi Eko</td>\n",
       "      <td>5</td>\n",
       "      <td>2023-03-30 14:37:38</td>\n",
       "      <td>ok terima kasih</td>\n",
       "    </tr>\n",
       "    <tr>\n",
       "      <th>1</th>\n",
       "      <td>mimi cedar</td>\n",
       "      <td>5</td>\n",
       "      <td>2023-03-30 14:35:59</td>\n",
       "      <td>transfer gopay gopay transfer gopay</td>\n",
       "    </tr>\n",
       "    <tr>\n",
       "      <th>2</th>\n",
       "      <td>Elisabeth Kiswati Ladiyo</td>\n",
       "      <td>5</td>\n",
       "      <td>2023-03-30 14:33:41</td>\n",
       "      <td>aman cepat sesuai ekspektasi</td>\n",
       "    </tr>\n",
       "    <tr>\n",
       "      <th>3</th>\n",
       "      <td>Jemmi Meliau ibanez</td>\n",
       "      <td>5</td>\n",
       "      <td>2023-03-30 14:23:25</td>\n",
       "      <td>aplikasi membantu</td>\n",
       "    </tr>\n",
       "    <tr>\n",
       "      <th>4</th>\n",
       "      <td>Boedi Arsih</td>\n",
       "      <td>5</td>\n",
       "      <td>2023-03-30 14:19:13</td>\n",
       "      <td>cepat sampainya</td>\n",
       "    </tr>\n",
       "  </tbody>\n",
       "</table>\n",
       "</div>"
      ],
      "text/plain": [
       "                   userName  score                   at  \\\n",
       "0                 Robbi Eko      5  2023-03-30 14:37:38   \n",
       "1                mimi cedar      5  2023-03-30 14:35:59   \n",
       "2  Elisabeth Kiswati Ladiyo      5  2023-03-30 14:33:41   \n",
       "3       Jemmi Meliau ibanez      5  2023-03-30 14:23:25   \n",
       "4               Boedi Arsih      5  2023-03-30 14:19:13   \n",
       "\n",
       "                               content  \n",
       "0                      ok terima kasih  \n",
       "1  transfer gopay gopay transfer gopay  \n",
       "2         aman cepat sesuai ekspektasi  \n",
       "3                    aplikasi membantu  \n",
       "4                      cepat sampainya  "
      ]
     },
     "execution_count": 578,
     "metadata": {},
     "output_type": "execute_result"
    }
   ],
   "source": [
    "new_df.head()"
   ]
  },
  {
   "cell_type": "markdown",
   "id": "eb721e9c",
   "metadata": {},
   "source": [
    "# INI ADALAH SAMPLE DATASET HASIL SCRAPING UNTUK TESTING"
   ]
  },
  {
   "cell_type": "markdown",
   "id": "b31e8393",
   "metadata": {},
   "source": [
    "## sentimen menggunakan Inset based lexicon\n",
    "link https://github.com/fajri91/InSet"
   ]
  },
  {
   "cell_type": "code",
   "execution_count": 579,
   "id": "a8a0530b",
   "metadata": {},
   "outputs": [
    {
     "data": {
      "text/html": [
       "<div>\n",
       "<style scoped>\n",
       "    .dataframe tbody tr th:only-of-type {\n",
       "        vertical-align: middle;\n",
       "    }\n",
       "\n",
       "    .dataframe tbody tr th {\n",
       "        vertical-align: top;\n",
       "    }\n",
       "\n",
       "    .dataframe thead th {\n",
       "        text-align: right;\n",
       "    }\n",
       "</style>\n",
       "<table border=\"1\" class=\"dataframe\">\n",
       "  <thead>\n",
       "    <tr style=\"text-align: right;\">\n",
       "      <th></th>\n",
       "      <th>userName</th>\n",
       "      <th>score</th>\n",
       "      <th>at</th>\n",
       "      <th>content</th>\n",
       "    </tr>\n",
       "  </thead>\n",
       "  <tbody>\n",
       "    <tr>\n",
       "      <th>0</th>\n",
       "      <td>Robbi Eko</td>\n",
       "      <td>5</td>\n",
       "      <td>2023-03-30 14:37:38</td>\n",
       "      <td>ok terima kasih</td>\n",
       "    </tr>\n",
       "    <tr>\n",
       "      <th>1</th>\n",
       "      <td>mimi cedar</td>\n",
       "      <td>5</td>\n",
       "      <td>2023-03-30 14:35:59</td>\n",
       "      <td>transfer gopay gopay transfer gopay</td>\n",
       "    </tr>\n",
       "    <tr>\n",
       "      <th>2</th>\n",
       "      <td>Elisabeth Kiswati Ladiyo</td>\n",
       "      <td>5</td>\n",
       "      <td>2023-03-30 14:33:41</td>\n",
       "      <td>aman cepat sesuai ekspektasi</td>\n",
       "    </tr>\n",
       "    <tr>\n",
       "      <th>3</th>\n",
       "      <td>Jemmi Meliau ibanez</td>\n",
       "      <td>5</td>\n",
       "      <td>2023-03-30 14:23:25</td>\n",
       "      <td>aplikasi membantu</td>\n",
       "    </tr>\n",
       "    <tr>\n",
       "      <th>4</th>\n",
       "      <td>Boedi Arsih</td>\n",
       "      <td>5</td>\n",
       "      <td>2023-03-30 14:19:13</td>\n",
       "      <td>cepat sampainya</td>\n",
       "    </tr>\n",
       "  </tbody>\n",
       "</table>\n",
       "</div>"
      ],
      "text/plain": [
       "                   userName  score                   at  \\\n",
       "0                 Robbi Eko      5  2023-03-30 14:37:38   \n",
       "1                mimi cedar      5  2023-03-30 14:35:59   \n",
       "2  Elisabeth Kiswati Ladiyo      5  2023-03-30 14:33:41   \n",
       "3       Jemmi Meliau ibanez      5  2023-03-30 14:23:25   \n",
       "4               Boedi Arsih      5  2023-03-30 14:19:13   \n",
       "\n",
       "                               content  \n",
       "0                      ok terima kasih  \n",
       "1  transfer gopay gopay transfer gopay  \n",
       "2         aman cepat sesuai ekspektasi  \n",
       "3                    aplikasi membantu  \n",
       "4                      cepat sampainya  "
      ]
     },
     "execution_count": 579,
     "metadata": {},
     "output_type": "execute_result"
    }
   ],
   "source": [
    "new_df.head()"
   ]
  },
  {
   "cell_type": "code",
   "execution_count": 580,
   "id": "f783bd67",
   "metadata": {},
   "outputs": [],
   "source": [
    "#preprocessed_content\n",
    "def preprocessed_content(text):\n",
    "    words = text.split()\n",
    "    return words"
   ]
  },
  {
   "cell_type": "code",
   "execution_count": 581,
   "id": "90f28ee6",
   "metadata": {},
   "outputs": [],
   "source": [
    "new_df['[preprocessed_content]'] = new_df['content'].apply(lambda x: preprocessed_content(x))"
   ]
  },
  {
   "cell_type": "code",
   "execution_count": 582,
   "id": "56245895",
   "metadata": {},
   "outputs": [
    {
     "data": {
      "text/plain": [
       "(19722, 5)"
      ]
     },
     "execution_count": 582,
     "metadata": {},
     "output_type": "execute_result"
    }
   ],
   "source": [
    "new_df.shape"
   ]
  },
  {
   "cell_type": "code",
   "execution_count": 583,
   "id": "fdabe149",
   "metadata": {},
   "outputs": [
    {
     "name": "stdout",
     "output_type": "stream",
     "text": [
      "127\n"
     ]
    },
    {
     "data": {
      "text/plain": [
       "(19595, 5)"
      ]
     },
     "execution_count": 583,
     "metadata": {},
     "output_type": "execute_result"
    }
   ],
   "source": [
    "#drop kembali karena melakukan process stopwords yang kata-katanya tidak diketahui\n",
    "y = 0\n",
    "for i in new_df.index:\n",
    "    try:\n",
    "        if new_df.loc[i, 'content'] == \"\":\n",
    "            new_df.drop(i, inplace=True)\n",
    "            y += 1\n",
    "    except KeyError:\n",
    "        continue\n",
    "print(y)\n",
    "new_df.shape"
   ]
  },
  {
   "cell_type": "code",
   "execution_count": 584,
   "id": "6b75057d",
   "metadata": {},
   "outputs": [],
   "source": [
    "#mereset index kembali setelah di drop\n",
    "new_df = new_df.reset_index(drop = True)"
   ]
  },
  {
   "cell_type": "markdown",
   "id": "b2b05e58",
   "metadata": {},
   "source": [
    "### READ TSV BASED_LEXICON"
   ]
  },
  {
   "cell_type": "code",
   "execution_count": 585,
   "id": "5177e2a1",
   "metadata": {},
   "outputs": [],
   "source": [
    "#read tsv\n",
    "#negatif\n",
    "df_negatif = pd.read_csv('negative.tsv', sep='\\t')"
   ]
  },
  {
   "cell_type": "code",
   "execution_count": 586,
   "id": "1d441733",
   "metadata": {},
   "outputs": [],
   "source": [
    "df_positif = pd.read_csv('InSet-Master\\positive.tsv',sep='\\t')"
   ]
  },
  {
   "cell_type": "code",
   "execution_count": 587,
   "id": "ade6d6e3",
   "metadata": {},
   "outputs": [],
   "source": [
    "# ad_new = pd.DataFrame({\n",
    "#     'word': ['perbaiki'],\n",
    "#     'weight': [-1]\n",
    "# })\n",
    "\n",
    "# df_negatif = pd.concat([df_negatif,ad_new], ignore_index=True)\n",
    "#Merubah lexicon karena kalimat tersebut bersifat positif\n",
    "#pada dataFrame Negatif\n",
    "#aplikasi = 0,bagus = 0 ,membantu = 0 \n",
    "df_negatif.loc[df_negatif['word'] == 'membantu','weight'] = 0\n",
    "df_negatif.loc[df_negatif['word'] == 'aplikasi','weight'] = 0\n",
    "df_negatif.loc[df_negatif['word'] == 'bagus','weight'] = 0\n",
    "\n",
    "\n",
    "#ubah menjadi dictionary\n",
    "sentiment_lexicon_positif = df_positif.set_index('word')['weight'].to_dict()\n",
    "sentiment_lexicon_negatif = df_negatif.set_index('word')['weight'].to_dict()"
   ]
  },
  {
   "cell_type": "code",
   "execution_count": 588,
   "id": "7fb7fd42",
   "metadata": {},
   "outputs": [],
   "source": [
    "#Function positif\n",
    "def analyze_sentiment_positif(sentence):\n",
    "    words = sentence.split()\n",
    "    sentiment_score = 0\n",
    "    #hasil = \"netral\"\n",
    "    \n",
    "    for word in words:\n",
    "        sentiment_score += sentiment_lexicon_positif.get(word, 0)\n",
    "        \n",
    "    if sentiment_score > 0:\n",
    "        return sentiment_score\n",
    "    elif sentiment_score < 0:\n",
    "        return sentiment_score\n",
    "    else:\n",
    "        return sentiment_score\n",
    "        \n",
    "def analyze_sentiment_negatif(sentence):\n",
    "    words = sentence.split()\n",
    "    sentiment_score = 0\n",
    "    #hasil = \"netral\"\n",
    "    \n",
    "    for word in words:\n",
    "        sentiment_score += sentiment_lexicon_negatif.get(word, 0)\n",
    "        \n",
    "    if sentiment_score > 0:\n",
    "        return sentiment_score\n",
    "    elif sentiment_score < 0:\n",
    "        return sentiment_score\n",
    "    else:\n",
    "        return sentiment_score"
   ]
  },
  {
   "cell_type": "code",
   "execution_count": 589,
   "id": "49f0b5df",
   "metadata": {},
   "outputs": [],
   "source": [
    "new_df['lexicon_positif'] = 0\n",
    "new_df['lexicon_negatif'] = 0"
   ]
  },
  {
   "cell_type": "code",
   "execution_count": 590,
   "id": "6f96ac6d",
   "metadata": {},
   "outputs": [],
   "source": [
    "new_df.lexicon_positif = new_df.content.apply(lambda x: analyze_sentiment_positif(x))"
   ]
  },
  {
   "cell_type": "code",
   "execution_count": 591,
   "id": "b4917e61",
   "metadata": {},
   "outputs": [],
   "source": [
    "new_df.lexicon_negatif = new_df.content.apply(lambda x: analyze_sentiment_negatif(x))"
   ]
  },
  {
   "cell_type": "code",
   "execution_count": 592,
   "id": "1294d83f",
   "metadata": {},
   "outputs": [
    {
     "name": "stdout",
     "output_type": "stream",
     "text": [
      "finish\n"
     ]
    }
   ],
   "source": [
    "final = []\n",
    "for x in new_df.index:\n",
    "    hasil = 0\n",
    "    hasil = new_df.loc[x,'lexicon_positif'] + new_df.loc[x,'lexicon_negatif']\n",
    "    final.append(hasil)\n",
    "print(\"finish\")"
   ]
  },
  {
   "cell_type": "code",
   "execution_count": 593,
   "id": "c0c80cb3",
   "metadata": {},
   "outputs": [],
   "source": [
    "new_df['final_lexicon'] = final"
   ]
  },
  {
   "cell_type": "code",
   "execution_count": 594,
   "id": "a04d556e",
   "metadata": {},
   "outputs": [
    {
     "data": {
      "text/html": [
       "<div>\n",
       "<style scoped>\n",
       "    .dataframe tbody tr th:only-of-type {\n",
       "        vertical-align: middle;\n",
       "    }\n",
       "\n",
       "    .dataframe tbody tr th {\n",
       "        vertical-align: top;\n",
       "    }\n",
       "\n",
       "    .dataframe thead th {\n",
       "        text-align: right;\n",
       "    }\n",
       "</style>\n",
       "<table border=\"1\" class=\"dataframe\">\n",
       "  <thead>\n",
       "    <tr style=\"text-align: right;\">\n",
       "      <th></th>\n",
       "      <th>userName</th>\n",
       "      <th>score</th>\n",
       "      <th>at</th>\n",
       "      <th>content</th>\n",
       "      <th>[preprocessed_content]</th>\n",
       "      <th>lexicon_positif</th>\n",
       "      <th>lexicon_negatif</th>\n",
       "      <th>final_lexicon</th>\n",
       "    </tr>\n",
       "  </thead>\n",
       "  <tbody>\n",
       "    <tr>\n",
       "      <th>0</th>\n",
       "      <td>Robbi Eko</td>\n",
       "      <td>5</td>\n",
       "      <td>2023-03-30 14:37:38</td>\n",
       "      <td>ok terima kasih</td>\n",
       "      <td>[ok, terima, kasih]</td>\n",
       "      <td>8</td>\n",
       "      <td>-1</td>\n",
       "      <td>7</td>\n",
       "    </tr>\n",
       "    <tr>\n",
       "      <th>1</th>\n",
       "      <td>mimi cedar</td>\n",
       "      <td>5</td>\n",
       "      <td>2023-03-30 14:35:59</td>\n",
       "      <td>transfer gopay gopay transfer gopay</td>\n",
       "      <td>[transfer, gopay, gopay, transfer, gopay]</td>\n",
       "      <td>0</td>\n",
       "      <td>0</td>\n",
       "      <td>0</td>\n",
       "    </tr>\n",
       "    <tr>\n",
       "      <th>2</th>\n",
       "      <td>Elisabeth Kiswati Ladiyo</td>\n",
       "      <td>5</td>\n",
       "      <td>2023-03-30 14:33:41</td>\n",
       "      <td>aman cepat sesuai ekspektasi</td>\n",
       "      <td>[aman, cepat, sesuai, ekspektasi]</td>\n",
       "      <td>6</td>\n",
       "      <td>-3</td>\n",
       "      <td>3</td>\n",
       "    </tr>\n",
       "    <tr>\n",
       "      <th>3</th>\n",
       "      <td>Jemmi Meliau ibanez</td>\n",
       "      <td>5</td>\n",
       "      <td>2023-03-30 14:23:25</td>\n",
       "      <td>aplikasi membantu</td>\n",
       "      <td>[aplikasi, membantu]</td>\n",
       "      <td>4</td>\n",
       "      <td>0</td>\n",
       "      <td>4</td>\n",
       "    </tr>\n",
       "    <tr>\n",
       "      <th>4</th>\n",
       "      <td>Boedi Arsih</td>\n",
       "      <td>5</td>\n",
       "      <td>2023-03-30 14:19:13</td>\n",
       "      <td>cepat sampainya</td>\n",
       "      <td>[cepat, sampainya]</td>\n",
       "      <td>3</td>\n",
       "      <td>-3</td>\n",
       "      <td>0</td>\n",
       "    </tr>\n",
       "    <tr>\n",
       "      <th>5</th>\n",
       "      <td>Nabila Nayla</td>\n",
       "      <td>5</td>\n",
       "      <td>2023-03-30 14:17:12</td>\n",
       "      <td>yihaw</td>\n",
       "      <td>[yihaw]</td>\n",
       "      <td>0</td>\n",
       "      <td>0</td>\n",
       "      <td>0</td>\n",
       "    </tr>\n",
       "    <tr>\n",
       "      <th>6</th>\n",
       "      <td>Irsya chanel</td>\n",
       "      <td>5</td>\n",
       "      <td>2023-03-30 14:15:20</td>\n",
       "      <td>bagus</td>\n",
       "      <td>[bagus]</td>\n",
       "      <td>2</td>\n",
       "      <td>0</td>\n",
       "      <td>2</td>\n",
       "    </tr>\n",
       "    <tr>\n",
       "      <th>7</th>\n",
       "      <td>Sunar tiee</td>\n",
       "      <td>2</td>\n",
       "      <td>2023-03-30 13:55:29</td>\n",
       "      <td>kalou perdalam susah dapetnya</td>\n",
       "      <td>[kalou, perdalam, susah, dapetnya]</td>\n",
       "      <td>0</td>\n",
       "      <td>-3</td>\n",
       "      <td>-3</td>\n",
       "    </tr>\n",
       "    <tr>\n",
       "      <th>8</th>\n",
       "      <td>Irwan Sulaeman</td>\n",
       "      <td>5</td>\n",
       "      <td>2023-03-30 13:50:32</td>\n",
       "      <td>baik sekali</td>\n",
       "      <td>[baik, sekali]</td>\n",
       "      <td>3</td>\n",
       "      <td>-2</td>\n",
       "      <td>1</td>\n",
       "    </tr>\n",
       "    <tr>\n",
       "      <th>9</th>\n",
       "      <td>EKA WAHYU WIDIYANTO</td>\n",
       "      <td>1</td>\n",
       "      <td>2023-03-30 13:47:43</td>\n",
       "      <td>top up gopay nomer akun salah kirim orang iya ...</td>\n",
       "      <td>[top, up, gopay, nomer, akun, salah, kirim, or...</td>\n",
       "      <td>7</td>\n",
       "      <td>-5</td>\n",
       "      <td>2</td>\n",
       "    </tr>\n",
       "    <tr>\n",
       "      <th>10</th>\n",
       "      <td>Petrus Widjijono</td>\n",
       "      <td>5</td>\n",
       "      <td>2023-03-30 13:38:54</td>\n",
       "      <td>baik</td>\n",
       "      <td>[baik]</td>\n",
       "      <td>3</td>\n",
       "      <td>-1</td>\n",
       "      <td>2</td>\n",
       "    </tr>\n",
       "    <tr>\n",
       "      <th>11</th>\n",
       "      <td>Thomas Gorga</td>\n",
       "      <td>1</td>\n",
       "      <td>2023-03-30 13:37:33</td>\n",
       "      <td>akun sebulan anyepin</td>\n",
       "      <td>[akun, sebulan, anyepin]</td>\n",
       "      <td>0</td>\n",
       "      <td>0</td>\n",
       "      <td>0</td>\n",
       "    </tr>\n",
       "    <tr>\n",
       "      <th>12</th>\n",
       "      <td>waliya habibah</td>\n",
       "      <td>1</td>\n",
       "      <td>2023-03-30 13:35:59</td>\n",
       "      <td>tolong iya admin training supir goride mengala...</td>\n",
       "      <td>[tolong, iya, admin, training, supir, goride, ...</td>\n",
       "      <td>11</td>\n",
       "      <td>-23</td>\n",
       "      <td>-12</td>\n",
       "    </tr>\n",
       "    <tr>\n",
       "      <th>13</th>\n",
       "      <td>Aisuryani Suryani</td>\n",
       "      <td>5</td>\n",
       "      <td>2023-03-30 13:22:49</td>\n",
       "      <td>ok</td>\n",
       "      <td>[ok]</td>\n",
       "      <td>4</td>\n",
       "      <td>0</td>\n",
       "      <td>4</td>\n",
       "    </tr>\n",
       "    <tr>\n",
       "      <th>14</th>\n",
       "      <td>Ridho Budi</td>\n",
       "      <td>3</td>\n",
       "      <td>2023-03-30 13:20:55</td>\n",
       "      <td>sistem bayar ditempat sih</td>\n",
       "      <td>[sistem, bayar, ditempat, sih]</td>\n",
       "      <td>1</td>\n",
       "      <td>-7</td>\n",
       "      <td>-6</td>\n",
       "    </tr>\n",
       "    <tr>\n",
       "      <th>15</th>\n",
       "      <td>Josh 1mmanuel</td>\n",
       "      <td>1</td>\n",
       "      <td>2023-03-30 13:12:31</td>\n",
       "      <td>komplain 2 balas loading transaksi hapus dowlo...</td>\n",
       "      <td>[komplain, 2, balas, loading, transaksi, hapus...</td>\n",
       "      <td>15</td>\n",
       "      <td>-13</td>\n",
       "      <td>2</td>\n",
       "    </tr>\n",
       "    <tr>\n",
       "      <th>16</th>\n",
       "      <td>lucia ambar</td>\n",
       "      <td>5</td>\n",
       "      <td>2023-03-30 12:59:43</td>\n",
       "      <td>menu tarik tunai mohon diperbaiki muncul terim...</td>\n",
       "      <td>[menu, tarik, tunai, mohon, diperbaiki, muncul...</td>\n",
       "      <td>13</td>\n",
       "      <td>-5</td>\n",
       "      <td>8</td>\n",
       "    </tr>\n",
       "    <tr>\n",
       "      <th>17</th>\n",
       "      <td>Puji anto Puji</td>\n",
       "      <td>5</td>\n",
       "      <td>2023-03-30 12:59:17</td>\n",
       "      <td>bagus</td>\n",
       "      <td>[bagus]</td>\n",
       "      <td>2</td>\n",
       "      <td>0</td>\n",
       "      <td>2</td>\n",
       "    </tr>\n",
       "    <tr>\n",
       "      <th>18</th>\n",
       "      <td>Yanti Ibhu</td>\n",
       "      <td>5</td>\n",
       "      <td>2023-03-30 12:58:13</td>\n",
       "      <td>gojek oke</td>\n",
       "      <td>[gojek, oke]</td>\n",
       "      <td>2</td>\n",
       "      <td>0</td>\n",
       "      <td>2</td>\n",
       "    </tr>\n",
       "    <tr>\n",
       "      <th>19</th>\n",
       "      <td>Suharman Arman</td>\n",
       "      <td>1</td>\n",
       "      <td>2023-03-30 12:49:19</td>\n",
       "      <td>gojekindonesia luh kasih kerjaan orang it akun</td>\n",
       "      <td>[gojekindonesia, luh, kasih, kerjaan, orang, i...</td>\n",
       "      <td>4</td>\n",
       "      <td>-1</td>\n",
       "      <td>3</td>\n",
       "    </tr>\n",
       "    <tr>\n",
       "      <th>20</th>\n",
       "      <td>Invinix Hot</td>\n",
       "      <td>5</td>\n",
       "      <td>2023-03-30 12:47:43</td>\n",
       "      <td>perbaiki</td>\n",
       "      <td>[perbaiki]</td>\n",
       "      <td>0</td>\n",
       "      <td>0</td>\n",
       "      <td>0</td>\n",
       "    </tr>\n",
       "    <tr>\n",
       "      <th>21</th>\n",
       "      <td>Samira Laila Luthfiani</td>\n",
       "      <td>1</td>\n",
       "      <td>2023-03-30 12:39:55</td>\n",
       "      <td>2x tf bank pending melulu gajelass baik perbai...</td>\n",
       "      <td>[2x, tf, bank, pending, melulu, gajelass, baik...</td>\n",
       "      <td>4</td>\n",
       "      <td>-7</td>\n",
       "      <td>-3</td>\n",
       "    </tr>\n",
       "    <tr>\n",
       "      <th>22</th>\n",
       "      <td>Hadisaputra chanel</td>\n",
       "      <td>5</td>\n",
       "      <td>2023-03-30 12:10:10</td>\n",
       "      <td>membantu memudahkan tujuan mantap</td>\n",
       "      <td>[membantu, memudahkan, tujuan, mantap]</td>\n",
       "      <td>12</td>\n",
       "      <td>-1</td>\n",
       "      <td>11</td>\n",
       "    </tr>\n",
       "    <tr>\n",
       "      <th>23</th>\n",
       "      <td>Fernanda Cahya</td>\n",
       "      <td>1</td>\n",
       "      <td>2023-03-30 12:08:15</td>\n",
       "      <td>user gopaylater tinggal jateng sih kebanyakan ...</td>\n",
       "      <td>[user, gopaylater, tinggal, jateng, sih, keban...</td>\n",
       "      <td>6</td>\n",
       "      <td>-24</td>\n",
       "      <td>-18</td>\n",
       "    </tr>\n",
       "    <tr>\n",
       "      <th>24</th>\n",
       "      <td>Amoy Diva Naura</td>\n",
       "      <td>5</td>\n",
       "      <td>2023-03-30 12:02:56</td>\n",
       "      <td>bagus</td>\n",
       "      <td>[bagus]</td>\n",
       "      <td>2</td>\n",
       "      <td>0</td>\n",
       "      <td>2</td>\n",
       "    </tr>\n",
       "    <tr>\n",
       "      <th>25</th>\n",
       "      <td>JV bee</td>\n",
       "      <td>2</td>\n",
       "      <td>2023-03-30 12:02:38</td>\n",
       "      <td>iya upgrade gopay plus iya butuh banget</td>\n",
       "      <td>[iya, upgrade, gopay, plus, iya, butuh, banget]</td>\n",
       "      <td>3</td>\n",
       "      <td>-5</td>\n",
       "      <td>-2</td>\n",
       "    </tr>\n",
       "    <tr>\n",
       "      <th>26</th>\n",
       "      <td>Raden MasTaka AluGaming Official</td>\n",
       "      <td>1</td>\n",
       "      <td>2023-03-30 11:57:30</td>\n",
       "      <td>payah</td>\n",
       "      <td>[payah]</td>\n",
       "      <td>0</td>\n",
       "      <td>0</td>\n",
       "      <td>0</td>\n",
       "    </tr>\n",
       "    <tr>\n",
       "      <th>27</th>\n",
       "      <td>RUSIDI (Rosi)</td>\n",
       "      <td>1</td>\n",
       "      <td>2023-03-30 11:44:29</td>\n",
       "      <td>daerah pamekasan pakai gojek karyawanya memili...</td>\n",
       "      <td>[daerah, pamekasan, pakai, gojek, karyawanya, ...</td>\n",
       "      <td>0</td>\n",
       "      <td>0</td>\n",
       "      <td>0</td>\n",
       "    </tr>\n",
       "    <tr>\n",
       "      <th>28</th>\n",
       "      <td>ayu destalia</td>\n",
       "      <td>1</td>\n",
       "      <td>2023-03-30 11:32:25</td>\n",
       "      <td>driver ngeluh tarif manusiawi</td>\n",
       "      <td>[driver, ngeluh, tarif, manusiawi]</td>\n",
       "      <td>0</td>\n",
       "      <td>-4</td>\n",
       "      <td>-4</td>\n",
       "    </tr>\n",
       "    <tr>\n",
       "      <th>29</th>\n",
       "      <td>Lia salon</td>\n",
       "      <td>1</td>\n",
       "      <td>2023-03-30 11:22:04</td>\n",
       "      <td>driver putus mitra alasannya doain bangkrut se...</td>\n",
       "      <td>[driver, putus, mitra, alasannya, doain, bangk...</td>\n",
       "      <td>13</td>\n",
       "      <td>-17</td>\n",
       "      <td>-4</td>\n",
       "    </tr>\n",
       "    <tr>\n",
       "      <th>30</th>\n",
       "      <td>Gudeg Ceker Racer</td>\n",
       "      <td>1</td>\n",
       "      <td>2023-03-30 11:13:46</td>\n",
       "      <td>sih transaksi pakai gopay disuruh update melul...</td>\n",
       "      <td>[sih, transaksi, pakai, gopay, disuruh, update...</td>\n",
       "      <td>4</td>\n",
       "      <td>-10</td>\n",
       "      <td>-6</td>\n",
       "    </tr>\n",
       "    <tr>\n",
       "      <th>31</th>\n",
       "      <td>isye yolanda</td>\n",
       "      <td>5</td>\n",
       "      <td>2023-03-30 11:12:26</td>\n",
       "      <td>drivernya oke oke baik sabar</td>\n",
       "      <td>[drivernya, oke, oke, baik, sabar]</td>\n",
       "      <td>12</td>\n",
       "      <td>-1</td>\n",
       "      <td>11</td>\n",
       "    </tr>\n",
       "    <tr>\n",
       "      <th>32</th>\n",
       "      <td>Endra Wati</td>\n",
       "      <td>5</td>\n",
       "      <td>2023-03-30 10:55:54</td>\n",
       "      <td>gojek membantu berpergian</td>\n",
       "      <td>[gojek, membantu, berpergian]</td>\n",
       "      <td>4</td>\n",
       "      <td>0</td>\n",
       "      <td>4</td>\n",
       "    </tr>\n",
       "    <tr>\n",
       "      <th>33</th>\n",
       "      <td>suwito adi prasetya gojek sby</td>\n",
       "      <td>5</td>\n",
       "      <td>2023-03-30 10:52:16</td>\n",
       "      <td>pas pembayaran bawa uang dana gopay menjengkel...</td>\n",
       "      <td>[pas, pembayaran, bawa, uang, dana, gopay, men...</td>\n",
       "      <td>10</td>\n",
       "      <td>-10</td>\n",
       "      <td>0</td>\n",
       "    </tr>\n",
       "    <tr>\n",
       "      <th>34</th>\n",
       "      <td>Ivan Aditya</td>\n",
       "      <td>1</td>\n",
       "      <td>2023-03-30 10:51:47</td>\n",
       "      <td>update terbaru maret 2023 error fitur gopay ke...</td>\n",
       "      <td>[update, terbaru, maret, 2023, error, fitur, g...</td>\n",
       "      <td>11</td>\n",
       "      <td>-15</td>\n",
       "      <td>-4</td>\n",
       "    </tr>\n",
       "    <tr>\n",
       "      <th>35</th>\n",
       "      <td>Rosida Sitinjak</td>\n",
       "      <td>5</td>\n",
       "      <td>2023-03-30 10:51:10</td>\n",
       "      <td>terimaksih bantuan</td>\n",
       "      <td>[terimaksih, bantuan]</td>\n",
       "      <td>4</td>\n",
       "      <td>0</td>\n",
       "      <td>4</td>\n",
       "    </tr>\n",
       "    <tr>\n",
       "      <th>36</th>\n",
       "      <td>rigen adv</td>\n",
       "      <td>5</td>\n",
       "      <td>2023-03-30 10:50:58</td>\n",
       "      <td>memudahkqn urusan</td>\n",
       "      <td>[memudahkqn, urusan]</td>\n",
       "      <td>0</td>\n",
       "      <td>0</td>\n",
       "      <td>0</td>\n",
       "    </tr>\n",
       "    <tr>\n",
       "      <th>37</th>\n",
       "      <td>Hanif rabbani</td>\n",
       "      <td>1</td>\n",
       "      <td>2023-03-30 10:49:29</td>\n",
       "      <td>order food gabung customer lainsia sia belanja</td>\n",
       "      <td>[order, food, gabung, customer, lainsia, sia, ...</td>\n",
       "      <td>2</td>\n",
       "      <td>-13</td>\n",
       "      <td>-11</td>\n",
       "    </tr>\n",
       "    <tr>\n",
       "      <th>38</th>\n",
       "      <td>Hendra Wijaya</td>\n",
       "      <td>5</td>\n",
       "      <td>2023-03-30 10:44:16</td>\n",
       "      <td>3x24 jam tf bank terima kasih responnya</td>\n",
       "      <td>[3x24, jam, tf, bank, terima, kasih, responnya]</td>\n",
       "      <td>4</td>\n",
       "      <td>-1</td>\n",
       "      <td>3</td>\n",
       "    </tr>\n",
       "    <tr>\n",
       "      <th>39</th>\n",
       "      <td>Zero Z</td>\n",
       "      <td>5</td>\n",
       "      <td>2023-03-30 10:40:16</td>\n",
       "      <td>bagus</td>\n",
       "      <td>[bagus]</td>\n",
       "      <td>2</td>\n",
       "      <td>0</td>\n",
       "      <td>2</td>\n",
       "    </tr>\n",
       "    <tr>\n",
       "      <th>40</th>\n",
       "      <td>Fery Eri</td>\n",
       "      <td>1</td>\n",
       "      <td>2023-03-30 10:36:00</td>\n",
       "      <td>pelit</td>\n",
       "      <td>[pelit]</td>\n",
       "      <td>4</td>\n",
       "      <td>-5</td>\n",
       "      <td>-1</td>\n",
       "    </tr>\n",
       "    <tr>\n",
       "      <th>41</th>\n",
       "      <td>GAYATRI</td>\n",
       "      <td>5</td>\n",
       "      <td>2023-03-30 10:35:44</td>\n",
       "      <td>bagus</td>\n",
       "      <td>[bagus]</td>\n",
       "      <td>2</td>\n",
       "      <td>0</td>\n",
       "      <td>2</td>\n",
       "    </tr>\n",
       "    <tr>\n",
       "      <th>42</th>\n",
       "      <td>Eengsuhendar Suhendar</td>\n",
       "      <td>5</td>\n",
       "      <td>2023-03-30 10:35:26</td>\n",
       "      <td>mantap</td>\n",
       "      <td>[mantap]</td>\n",
       "      <td>5</td>\n",
       "      <td>0</td>\n",
       "      <td>5</td>\n",
       "    </tr>\n",
       "    <tr>\n",
       "      <th>43</th>\n",
       "      <td>ANDI SUBANDI</td>\n",
       "      <td>5</td>\n",
       "      <td>2023-03-30 10:35:18</td>\n",
       "      <td>coba iya moga berhasil upgred gopay plus turun...</td>\n",
       "      <td>[coba, iya, moga, berhasil, upgred, gopay, plu...</td>\n",
       "      <td>9</td>\n",
       "      <td>-4</td>\n",
       "      <td>5</td>\n",
       "    </tr>\n",
       "    <tr>\n",
       "      <th>44</th>\n",
       "      <td>angga putra</td>\n",
       "      <td>5</td>\n",
       "      <td>2023-03-30 10:33:25</td>\n",
       "      <td>pelayanan bagus</td>\n",
       "      <td>[pelayanan, bagus]</td>\n",
       "      <td>5</td>\n",
       "      <td>0</td>\n",
       "      <td>5</td>\n",
       "    </tr>\n",
       "    <tr>\n",
       "      <th>45</th>\n",
       "      <td>Riyan Priyantoro</td>\n",
       "      <td>1</td>\n",
       "      <td>2023-03-30 10:31:30</td>\n",
       "      <td>akun upgrade gopplus pengguna 2016 transaksi b...</td>\n",
       "      <td>[akun, upgrade, gopplus, pengguna, 2016, trans...</td>\n",
       "      <td>5</td>\n",
       "      <td>-5</td>\n",
       "      <td>0</td>\n",
       "    </tr>\n",
       "    <tr>\n",
       "      <th>46</th>\n",
       "      <td>Cindy Laurensia</td>\n",
       "      <td>3</td>\n",
       "      <td>2023-03-30 10:30:44</td>\n",
       "      <td>lupa nomor hp daftar email</td>\n",
       "      <td>[lupa, nomor, hp, daftar, email]</td>\n",
       "      <td>2</td>\n",
       "      <td>-6</td>\n",
       "      <td>-4</td>\n",
       "    </tr>\n",
       "    <tr>\n",
       "      <th>47</th>\n",
       "      <td>Nathalia Sby</td>\n",
       "      <td>5</td>\n",
       "      <td>2023-03-30 10:30:05</td>\n",
       "      <td>promonya mantull</td>\n",
       "      <td>[promonya, mantull]</td>\n",
       "      <td>0</td>\n",
       "      <td>0</td>\n",
       "      <td>0</td>\n",
       "    </tr>\n",
       "    <tr>\n",
       "      <th>48</th>\n",
       "      <td>Vino Bastian</td>\n",
       "      <td>1</td>\n",
       "      <td>2023-03-30 10:29:27</td>\n",
       "      <td>hilang orderan gabungan memesan makanan nyaman</td>\n",
       "      <td>[hilang, orderan, gabungan, memesan, makanan, ...</td>\n",
       "      <td>10</td>\n",
       "      <td>-9</td>\n",
       "      <td>1</td>\n",
       "    </tr>\n",
       "    <tr>\n",
       "      <th>49</th>\n",
       "      <td>Pasha As</td>\n",
       "      <td>2</td>\n",
       "      <td>2023-03-30 10:29:17</td>\n",
       "      <td>layanan gosend kali ganti driver cancel melulu...</td>\n",
       "      <td>[layanan, gosend, kali, ganti, driver, cancel,...</td>\n",
       "      <td>15</td>\n",
       "      <td>-11</td>\n",
       "      <td>4</td>\n",
       "    </tr>\n",
       "  </tbody>\n",
       "</table>\n",
       "</div>"
      ],
      "text/plain": [
       "                            userName  score                   at  \\\n",
       "0                          Robbi Eko      5  2023-03-30 14:37:38   \n",
       "1                         mimi cedar      5  2023-03-30 14:35:59   \n",
       "2           Elisabeth Kiswati Ladiyo      5  2023-03-30 14:33:41   \n",
       "3                Jemmi Meliau ibanez      5  2023-03-30 14:23:25   \n",
       "4                        Boedi Arsih      5  2023-03-30 14:19:13   \n",
       "5                       Nabila Nayla      5  2023-03-30 14:17:12   \n",
       "6                       Irsya chanel      5  2023-03-30 14:15:20   \n",
       "7                         Sunar tiee      2  2023-03-30 13:55:29   \n",
       "8                     Irwan Sulaeman      5  2023-03-30 13:50:32   \n",
       "9                EKA WAHYU WIDIYANTO      1  2023-03-30 13:47:43   \n",
       "10                  Petrus Widjijono      5  2023-03-30 13:38:54   \n",
       "11                      Thomas Gorga      1  2023-03-30 13:37:33   \n",
       "12                    waliya habibah      1  2023-03-30 13:35:59   \n",
       "13                 Aisuryani Suryani      5  2023-03-30 13:22:49   \n",
       "14                        Ridho Budi      3  2023-03-30 13:20:55   \n",
       "15                     Josh 1mmanuel      1  2023-03-30 13:12:31   \n",
       "16                       lucia ambar      5  2023-03-30 12:59:43   \n",
       "17                    Puji anto Puji      5  2023-03-30 12:59:17   \n",
       "18                        Yanti Ibhu      5  2023-03-30 12:58:13   \n",
       "19                    Suharman Arman      1  2023-03-30 12:49:19   \n",
       "20                       Invinix Hot      5  2023-03-30 12:47:43   \n",
       "21            Samira Laila Luthfiani      1  2023-03-30 12:39:55   \n",
       "22                Hadisaputra chanel      5  2023-03-30 12:10:10   \n",
       "23                    Fernanda Cahya      1  2023-03-30 12:08:15   \n",
       "24                   Amoy Diva Naura      5  2023-03-30 12:02:56   \n",
       "25                            JV bee      2  2023-03-30 12:02:38   \n",
       "26  Raden MasTaka AluGaming Official      1  2023-03-30 11:57:30   \n",
       "27                     RUSIDI (Rosi)      1  2023-03-30 11:44:29   \n",
       "28                      ayu destalia      1  2023-03-30 11:32:25   \n",
       "29                         Lia salon      1  2023-03-30 11:22:04   \n",
       "30                 Gudeg Ceker Racer      1  2023-03-30 11:13:46   \n",
       "31                      isye yolanda      5  2023-03-30 11:12:26   \n",
       "32                        Endra Wati      5  2023-03-30 10:55:54   \n",
       "33     suwito adi prasetya gojek sby      5  2023-03-30 10:52:16   \n",
       "34                       Ivan Aditya      1  2023-03-30 10:51:47   \n",
       "35                   Rosida Sitinjak      5  2023-03-30 10:51:10   \n",
       "36                         rigen adv      5  2023-03-30 10:50:58   \n",
       "37                     Hanif rabbani      1  2023-03-30 10:49:29   \n",
       "38                     Hendra Wijaya      5  2023-03-30 10:44:16   \n",
       "39                            Zero Z      5  2023-03-30 10:40:16   \n",
       "40                          Fery Eri      1  2023-03-30 10:36:00   \n",
       "41                           GAYATRI      5  2023-03-30 10:35:44   \n",
       "42             Eengsuhendar Suhendar      5  2023-03-30 10:35:26   \n",
       "43                      ANDI SUBANDI      5  2023-03-30 10:35:18   \n",
       "44                       angga putra      5  2023-03-30 10:33:25   \n",
       "45                  Riyan Priyantoro      1  2023-03-30 10:31:30   \n",
       "46                   Cindy Laurensia      3  2023-03-30 10:30:44   \n",
       "47                      Nathalia Sby      5  2023-03-30 10:30:05   \n",
       "48                      Vino Bastian      1  2023-03-30 10:29:27   \n",
       "49                          Pasha As      2  2023-03-30 10:29:17   \n",
       "\n",
       "                                              content  \\\n",
       "0                                     ok terima kasih   \n",
       "1                 transfer gopay gopay transfer gopay   \n",
       "2                        aman cepat sesuai ekspektasi   \n",
       "3                                   aplikasi membantu   \n",
       "4                                     cepat sampainya   \n",
       "5                                               yihaw   \n",
       "6                                               bagus   \n",
       "7                       kalou perdalam susah dapetnya   \n",
       "8                                         baik sekali   \n",
       "9   top up gopay nomer akun salah kirim orang iya ...   \n",
       "10                                               baik   \n",
       "11                               akun sebulan anyepin   \n",
       "12  tolong iya admin training supir goride mengala...   \n",
       "13                                                 ok   \n",
       "14                          sistem bayar ditempat sih   \n",
       "15  komplain 2 balas loading transaksi hapus dowlo...   \n",
       "16  menu tarik tunai mohon diperbaiki muncul terim...   \n",
       "17                                              bagus   \n",
       "18                                          gojek oke   \n",
       "19     gojekindonesia luh kasih kerjaan orang it akun   \n",
       "20                                           perbaiki   \n",
       "21  2x tf bank pending melulu gajelass baik perbai...   \n",
       "22                  membantu memudahkan tujuan mantap   \n",
       "23  user gopaylater tinggal jateng sih kebanyakan ...   \n",
       "24                                              bagus   \n",
       "25            iya upgrade gopay plus iya butuh banget   \n",
       "26                                              payah   \n",
       "27  daerah pamekasan pakai gojek karyawanya memili...   \n",
       "28                      driver ngeluh tarif manusiawi   \n",
       "29  driver putus mitra alasannya doain bangkrut se...   \n",
       "30  sih transaksi pakai gopay disuruh update melul...   \n",
       "31                       drivernya oke oke baik sabar   \n",
       "32                          gojek membantu berpergian   \n",
       "33  pas pembayaran bawa uang dana gopay menjengkel...   \n",
       "34  update terbaru maret 2023 error fitur gopay ke...   \n",
       "35                                 terimaksih bantuan   \n",
       "36                                  memudahkqn urusan   \n",
       "37     order food gabung customer lainsia sia belanja   \n",
       "38            3x24 jam tf bank terima kasih responnya   \n",
       "39                                              bagus   \n",
       "40                                              pelit   \n",
       "41                                              bagus   \n",
       "42                                             mantap   \n",
       "43  coba iya moga berhasil upgred gopay plus turun...   \n",
       "44                                    pelayanan bagus   \n",
       "45  akun upgrade gopplus pengguna 2016 transaksi b...   \n",
       "46                         lupa nomor hp daftar email   \n",
       "47                                   promonya mantull   \n",
       "48     hilang orderan gabungan memesan makanan nyaman   \n",
       "49  layanan gosend kali ganti driver cancel melulu...   \n",
       "\n",
       "                               [preprocessed_content]  lexicon_positif  \\\n",
       "0                                 [ok, terima, kasih]                8   \n",
       "1           [transfer, gopay, gopay, transfer, gopay]                0   \n",
       "2                   [aman, cepat, sesuai, ekspektasi]                6   \n",
       "3                                [aplikasi, membantu]                4   \n",
       "4                                  [cepat, sampainya]                3   \n",
       "5                                             [yihaw]                0   \n",
       "6                                             [bagus]                2   \n",
       "7                  [kalou, perdalam, susah, dapetnya]                0   \n",
       "8                                      [baik, sekali]                3   \n",
       "9   [top, up, gopay, nomer, akun, salah, kirim, or...                7   \n",
       "10                                             [baik]                3   \n",
       "11                           [akun, sebulan, anyepin]                0   \n",
       "12  [tolong, iya, admin, training, supir, goride, ...               11   \n",
       "13                                               [ok]                4   \n",
       "14                     [sistem, bayar, ditempat, sih]                1   \n",
       "15  [komplain, 2, balas, loading, transaksi, hapus...               15   \n",
       "16  [menu, tarik, tunai, mohon, diperbaiki, muncul...               13   \n",
       "17                                            [bagus]                2   \n",
       "18                                       [gojek, oke]                2   \n",
       "19  [gojekindonesia, luh, kasih, kerjaan, orang, i...                4   \n",
       "20                                         [perbaiki]                0   \n",
       "21  [2x, tf, bank, pending, melulu, gajelass, baik...                4   \n",
       "22             [membantu, memudahkan, tujuan, mantap]               12   \n",
       "23  [user, gopaylater, tinggal, jateng, sih, keban...                6   \n",
       "24                                            [bagus]                2   \n",
       "25    [iya, upgrade, gopay, plus, iya, butuh, banget]                3   \n",
       "26                                            [payah]                0   \n",
       "27  [daerah, pamekasan, pakai, gojek, karyawanya, ...                0   \n",
       "28                 [driver, ngeluh, tarif, manusiawi]                0   \n",
       "29  [driver, putus, mitra, alasannya, doain, bangk...               13   \n",
       "30  [sih, transaksi, pakai, gopay, disuruh, update...                4   \n",
       "31                 [drivernya, oke, oke, baik, sabar]               12   \n",
       "32                      [gojek, membantu, berpergian]                4   \n",
       "33  [pas, pembayaran, bawa, uang, dana, gopay, men...               10   \n",
       "34  [update, terbaru, maret, 2023, error, fitur, g...               11   \n",
       "35                              [terimaksih, bantuan]                4   \n",
       "36                               [memudahkqn, urusan]                0   \n",
       "37  [order, food, gabung, customer, lainsia, sia, ...                2   \n",
       "38    [3x24, jam, tf, bank, terima, kasih, responnya]                4   \n",
       "39                                            [bagus]                2   \n",
       "40                                            [pelit]                4   \n",
       "41                                            [bagus]                2   \n",
       "42                                           [mantap]                5   \n",
       "43  [coba, iya, moga, berhasil, upgred, gopay, plu...                9   \n",
       "44                                 [pelayanan, bagus]                5   \n",
       "45  [akun, upgrade, gopplus, pengguna, 2016, trans...                5   \n",
       "46                   [lupa, nomor, hp, daftar, email]                2   \n",
       "47                                [promonya, mantull]                0   \n",
       "48  [hilang, orderan, gabungan, memesan, makanan, ...               10   \n",
       "49  [layanan, gosend, kali, ganti, driver, cancel,...               15   \n",
       "\n",
       "    lexicon_negatif  final_lexicon  \n",
       "0                -1              7  \n",
       "1                 0              0  \n",
       "2                -3              3  \n",
       "3                 0              4  \n",
       "4                -3              0  \n",
       "5                 0              0  \n",
       "6                 0              2  \n",
       "7                -3             -3  \n",
       "8                -2              1  \n",
       "9                -5              2  \n",
       "10               -1              2  \n",
       "11                0              0  \n",
       "12              -23            -12  \n",
       "13                0              4  \n",
       "14               -7             -6  \n",
       "15              -13              2  \n",
       "16               -5              8  \n",
       "17                0              2  \n",
       "18                0              2  \n",
       "19               -1              3  \n",
       "20                0              0  \n",
       "21               -7             -3  \n",
       "22               -1             11  \n",
       "23              -24            -18  \n",
       "24                0              2  \n",
       "25               -5             -2  \n",
       "26                0              0  \n",
       "27                0              0  \n",
       "28               -4             -4  \n",
       "29              -17             -4  \n",
       "30              -10             -6  \n",
       "31               -1             11  \n",
       "32                0              4  \n",
       "33              -10              0  \n",
       "34              -15             -4  \n",
       "35                0              4  \n",
       "36                0              0  \n",
       "37              -13            -11  \n",
       "38               -1              3  \n",
       "39                0              2  \n",
       "40               -5             -1  \n",
       "41                0              2  \n",
       "42                0              5  \n",
       "43               -4              5  \n",
       "44                0              5  \n",
       "45               -5              0  \n",
       "46               -6             -4  \n",
       "47                0              0  \n",
       "48               -9              1  \n",
       "49              -11              4  "
      ]
     },
     "execution_count": 594,
     "metadata": {},
     "output_type": "execute_result"
    }
   ],
   "source": [
    "new_df.head(50)"
   ]
  },
  {
   "cell_type": "code",
   "execution_count": 595,
   "id": "dbe8331a",
   "metadata": {},
   "outputs": [
    {
     "name": "stdout",
     "output_type": "stream",
     "text": [
      "finish\n"
     ]
    }
   ],
   "source": [
    "#change label if lexicon > 0 positive, lexicon < 0 negative, lexicon == 0 neutral\n",
    "status_lexicon = []\n",
    "\n",
    "for x in new_df.index:\n",
    "    status = \"neutral\"\n",
    "    if new_df.loc[x,'final_lexicon'] > 0:\n",
    "        status = \"positif\"\n",
    "        status_lexicon.append(status)\n",
    "    elif new_df.loc[x,'final_lexicon'] < 0:\n",
    "        status = \"negatif\"\n",
    "        status_lexicon.append(status)\n",
    "    else:\n",
    "        status_lexicon.append(status)\n",
    "        \n",
    "print(\"finish\")"
   ]
  },
  {
   "cell_type": "code",
   "execution_count": 596,
   "id": "8f9996aa",
   "metadata": {},
   "outputs": [],
   "source": [
    "new_df['status_lexicon'] = status_lexicon"
   ]
  },
  {
   "cell_type": "code",
   "execution_count": 597,
   "id": "b9767a64",
   "metadata": {},
   "outputs": [
    {
     "name": "stdout",
     "output_type": "stream",
     "text": [
      "finish\n"
     ]
    }
   ],
   "source": [
    "#mengubah dari column score menjadi sentimen\n",
    "#jika score negatif < 3=3 neutral < positif\n",
    "score_lexicon = []\n",
    "\n",
    "#menggunakan looping\n",
    "for i in new_df.index:\n",
    "    text = \"neutral\"\n",
    "    if new_df.loc[i,'score'] < 3:\n",
    "        text = \"negatif\"\n",
    "        score_lexicon.append(text)\n",
    "    elif new_df.loc[i,'score'] > 3:\n",
    "        text = \"positif\"\n",
    "        score_lexicon.append(text)\n",
    "    else:\n",
    "        score_lexicon.append(text)\n",
    "print(\"finish\")"
   ]
  },
  {
   "cell_type": "code",
   "execution_count": 598,
   "id": "0b521333",
   "metadata": {},
   "outputs": [],
   "source": [
    "new_df['score_lexicon'] = score_lexicon"
   ]
  },
  {
   "cell_type": "code",
   "execution_count": 599,
   "id": "b4174890",
   "metadata": {},
   "outputs": [
    {
     "data": {
      "text/html": [
       "<div>\n",
       "<style scoped>\n",
       "    .dataframe tbody tr th:only-of-type {\n",
       "        vertical-align: middle;\n",
       "    }\n",
       "\n",
       "    .dataframe tbody tr th {\n",
       "        vertical-align: top;\n",
       "    }\n",
       "\n",
       "    .dataframe thead th {\n",
       "        text-align: right;\n",
       "    }\n",
       "</style>\n",
       "<table border=\"1\" class=\"dataframe\">\n",
       "  <thead>\n",
       "    <tr style=\"text-align: right;\">\n",
       "      <th></th>\n",
       "      <th>userName</th>\n",
       "      <th>score</th>\n",
       "      <th>at</th>\n",
       "      <th>content</th>\n",
       "      <th>[preprocessed_content]</th>\n",
       "      <th>lexicon_positif</th>\n",
       "      <th>lexicon_negatif</th>\n",
       "      <th>final_lexicon</th>\n",
       "      <th>status_lexicon</th>\n",
       "      <th>score_lexicon</th>\n",
       "    </tr>\n",
       "  </thead>\n",
       "  <tbody>\n",
       "    <tr>\n",
       "      <th>0</th>\n",
       "      <td>Robbi Eko</td>\n",
       "      <td>5</td>\n",
       "      <td>2023-03-30 14:37:38</td>\n",
       "      <td>ok terima kasih</td>\n",
       "      <td>[ok, terima, kasih]</td>\n",
       "      <td>8</td>\n",
       "      <td>-1</td>\n",
       "      <td>7</td>\n",
       "      <td>positif</td>\n",
       "      <td>positif</td>\n",
       "    </tr>\n",
       "    <tr>\n",
       "      <th>1</th>\n",
       "      <td>mimi cedar</td>\n",
       "      <td>5</td>\n",
       "      <td>2023-03-30 14:35:59</td>\n",
       "      <td>transfer gopay gopay transfer gopay</td>\n",
       "      <td>[transfer, gopay, gopay, transfer, gopay]</td>\n",
       "      <td>0</td>\n",
       "      <td>0</td>\n",
       "      <td>0</td>\n",
       "      <td>neutral</td>\n",
       "      <td>positif</td>\n",
       "    </tr>\n",
       "    <tr>\n",
       "      <th>2</th>\n",
       "      <td>Elisabeth Kiswati Ladiyo</td>\n",
       "      <td>5</td>\n",
       "      <td>2023-03-30 14:33:41</td>\n",
       "      <td>aman cepat sesuai ekspektasi</td>\n",
       "      <td>[aman, cepat, sesuai, ekspektasi]</td>\n",
       "      <td>6</td>\n",
       "      <td>-3</td>\n",
       "      <td>3</td>\n",
       "      <td>positif</td>\n",
       "      <td>positif</td>\n",
       "    </tr>\n",
       "    <tr>\n",
       "      <th>3</th>\n",
       "      <td>Jemmi Meliau ibanez</td>\n",
       "      <td>5</td>\n",
       "      <td>2023-03-30 14:23:25</td>\n",
       "      <td>aplikasi membantu</td>\n",
       "      <td>[aplikasi, membantu]</td>\n",
       "      <td>4</td>\n",
       "      <td>0</td>\n",
       "      <td>4</td>\n",
       "      <td>positif</td>\n",
       "      <td>positif</td>\n",
       "    </tr>\n",
       "    <tr>\n",
       "      <th>4</th>\n",
       "      <td>Boedi Arsih</td>\n",
       "      <td>5</td>\n",
       "      <td>2023-03-30 14:19:13</td>\n",
       "      <td>cepat sampainya</td>\n",
       "      <td>[cepat, sampainya]</td>\n",
       "      <td>3</td>\n",
       "      <td>-3</td>\n",
       "      <td>0</td>\n",
       "      <td>neutral</td>\n",
       "      <td>positif</td>\n",
       "    </tr>\n",
       "    <tr>\n",
       "      <th>5</th>\n",
       "      <td>Nabila Nayla</td>\n",
       "      <td>5</td>\n",
       "      <td>2023-03-30 14:17:12</td>\n",
       "      <td>yihaw</td>\n",
       "      <td>[yihaw]</td>\n",
       "      <td>0</td>\n",
       "      <td>0</td>\n",
       "      <td>0</td>\n",
       "      <td>neutral</td>\n",
       "      <td>positif</td>\n",
       "    </tr>\n",
       "    <tr>\n",
       "      <th>6</th>\n",
       "      <td>Irsya chanel</td>\n",
       "      <td>5</td>\n",
       "      <td>2023-03-30 14:15:20</td>\n",
       "      <td>bagus</td>\n",
       "      <td>[bagus]</td>\n",
       "      <td>2</td>\n",
       "      <td>0</td>\n",
       "      <td>2</td>\n",
       "      <td>positif</td>\n",
       "      <td>positif</td>\n",
       "    </tr>\n",
       "    <tr>\n",
       "      <th>7</th>\n",
       "      <td>Sunar tiee</td>\n",
       "      <td>2</td>\n",
       "      <td>2023-03-30 13:55:29</td>\n",
       "      <td>kalou perdalam susah dapetnya</td>\n",
       "      <td>[kalou, perdalam, susah, dapetnya]</td>\n",
       "      <td>0</td>\n",
       "      <td>-3</td>\n",
       "      <td>-3</td>\n",
       "      <td>negatif</td>\n",
       "      <td>negatif</td>\n",
       "    </tr>\n",
       "    <tr>\n",
       "      <th>8</th>\n",
       "      <td>Irwan Sulaeman</td>\n",
       "      <td>5</td>\n",
       "      <td>2023-03-30 13:50:32</td>\n",
       "      <td>baik sekali</td>\n",
       "      <td>[baik, sekali]</td>\n",
       "      <td>3</td>\n",
       "      <td>-2</td>\n",
       "      <td>1</td>\n",
       "      <td>positif</td>\n",
       "      <td>positif</td>\n",
       "    </tr>\n",
       "    <tr>\n",
       "      <th>9</th>\n",
       "      <td>EKA WAHYU WIDIYANTO</td>\n",
       "      <td>1</td>\n",
       "      <td>2023-03-30 13:47:43</td>\n",
       "      <td>top up gopay nomer akun salah kirim orang iya ...</td>\n",
       "      <td>[top, up, gopay, nomer, akun, salah, kirim, or...</td>\n",
       "      <td>7</td>\n",
       "      <td>-5</td>\n",
       "      <td>2</td>\n",
       "      <td>positif</td>\n",
       "      <td>negatif</td>\n",
       "    </tr>\n",
       "    <tr>\n",
       "      <th>10</th>\n",
       "      <td>Petrus Widjijono</td>\n",
       "      <td>5</td>\n",
       "      <td>2023-03-30 13:38:54</td>\n",
       "      <td>baik</td>\n",
       "      <td>[baik]</td>\n",
       "      <td>3</td>\n",
       "      <td>-1</td>\n",
       "      <td>2</td>\n",
       "      <td>positif</td>\n",
       "      <td>positif</td>\n",
       "    </tr>\n",
       "    <tr>\n",
       "      <th>11</th>\n",
       "      <td>Thomas Gorga</td>\n",
       "      <td>1</td>\n",
       "      <td>2023-03-30 13:37:33</td>\n",
       "      <td>akun sebulan anyepin</td>\n",
       "      <td>[akun, sebulan, anyepin]</td>\n",
       "      <td>0</td>\n",
       "      <td>0</td>\n",
       "      <td>0</td>\n",
       "      <td>neutral</td>\n",
       "      <td>negatif</td>\n",
       "    </tr>\n",
       "    <tr>\n",
       "      <th>12</th>\n",
       "      <td>waliya habibah</td>\n",
       "      <td>1</td>\n",
       "      <td>2023-03-30 13:35:59</td>\n",
       "      <td>tolong iya admin training supir goride mengala...</td>\n",
       "      <td>[tolong, iya, admin, training, supir, goride, ...</td>\n",
       "      <td>11</td>\n",
       "      <td>-23</td>\n",
       "      <td>-12</td>\n",
       "      <td>negatif</td>\n",
       "      <td>negatif</td>\n",
       "    </tr>\n",
       "    <tr>\n",
       "      <th>13</th>\n",
       "      <td>Aisuryani Suryani</td>\n",
       "      <td>5</td>\n",
       "      <td>2023-03-30 13:22:49</td>\n",
       "      <td>ok</td>\n",
       "      <td>[ok]</td>\n",
       "      <td>4</td>\n",
       "      <td>0</td>\n",
       "      <td>4</td>\n",
       "      <td>positif</td>\n",
       "      <td>positif</td>\n",
       "    </tr>\n",
       "    <tr>\n",
       "      <th>14</th>\n",
       "      <td>Ridho Budi</td>\n",
       "      <td>3</td>\n",
       "      <td>2023-03-30 13:20:55</td>\n",
       "      <td>sistem bayar ditempat sih</td>\n",
       "      <td>[sistem, bayar, ditempat, sih]</td>\n",
       "      <td>1</td>\n",
       "      <td>-7</td>\n",
       "      <td>-6</td>\n",
       "      <td>negatif</td>\n",
       "      <td>neutral</td>\n",
       "    </tr>\n",
       "    <tr>\n",
       "      <th>15</th>\n",
       "      <td>Josh 1mmanuel</td>\n",
       "      <td>1</td>\n",
       "      <td>2023-03-30 13:12:31</td>\n",
       "      <td>komplain 2 balas loading transaksi hapus dowlo...</td>\n",
       "      <td>[komplain, 2, balas, loading, transaksi, hapus...</td>\n",
       "      <td>15</td>\n",
       "      <td>-13</td>\n",
       "      <td>2</td>\n",
       "      <td>positif</td>\n",
       "      <td>negatif</td>\n",
       "    </tr>\n",
       "    <tr>\n",
       "      <th>16</th>\n",
       "      <td>lucia ambar</td>\n",
       "      <td>5</td>\n",
       "      <td>2023-03-30 12:59:43</td>\n",
       "      <td>menu tarik tunai mohon diperbaiki muncul terim...</td>\n",
       "      <td>[menu, tarik, tunai, mohon, diperbaiki, muncul...</td>\n",
       "      <td>13</td>\n",
       "      <td>-5</td>\n",
       "      <td>8</td>\n",
       "      <td>positif</td>\n",
       "      <td>positif</td>\n",
       "    </tr>\n",
       "    <tr>\n",
       "      <th>17</th>\n",
       "      <td>Puji anto Puji</td>\n",
       "      <td>5</td>\n",
       "      <td>2023-03-30 12:59:17</td>\n",
       "      <td>bagus</td>\n",
       "      <td>[bagus]</td>\n",
       "      <td>2</td>\n",
       "      <td>0</td>\n",
       "      <td>2</td>\n",
       "      <td>positif</td>\n",
       "      <td>positif</td>\n",
       "    </tr>\n",
       "    <tr>\n",
       "      <th>18</th>\n",
       "      <td>Yanti Ibhu</td>\n",
       "      <td>5</td>\n",
       "      <td>2023-03-30 12:58:13</td>\n",
       "      <td>gojek oke</td>\n",
       "      <td>[gojek, oke]</td>\n",
       "      <td>2</td>\n",
       "      <td>0</td>\n",
       "      <td>2</td>\n",
       "      <td>positif</td>\n",
       "      <td>positif</td>\n",
       "    </tr>\n",
       "    <tr>\n",
       "      <th>19</th>\n",
       "      <td>Suharman Arman</td>\n",
       "      <td>1</td>\n",
       "      <td>2023-03-30 12:49:19</td>\n",
       "      <td>gojekindonesia luh kasih kerjaan orang it akun</td>\n",
       "      <td>[gojekindonesia, luh, kasih, kerjaan, orang, i...</td>\n",
       "      <td>4</td>\n",
       "      <td>-1</td>\n",
       "      <td>3</td>\n",
       "      <td>positif</td>\n",
       "      <td>negatif</td>\n",
       "    </tr>\n",
       "    <tr>\n",
       "      <th>20</th>\n",
       "      <td>Invinix Hot</td>\n",
       "      <td>5</td>\n",
       "      <td>2023-03-30 12:47:43</td>\n",
       "      <td>perbaiki</td>\n",
       "      <td>[perbaiki]</td>\n",
       "      <td>0</td>\n",
       "      <td>0</td>\n",
       "      <td>0</td>\n",
       "      <td>neutral</td>\n",
       "      <td>positif</td>\n",
       "    </tr>\n",
       "    <tr>\n",
       "      <th>21</th>\n",
       "      <td>Samira Laila Luthfiani</td>\n",
       "      <td>1</td>\n",
       "      <td>2023-03-30 12:39:55</td>\n",
       "      <td>2x tf bank pending melulu gajelass baik perbai...</td>\n",
       "      <td>[2x, tf, bank, pending, melulu, gajelass, baik...</td>\n",
       "      <td>4</td>\n",
       "      <td>-7</td>\n",
       "      <td>-3</td>\n",
       "      <td>negatif</td>\n",
       "      <td>negatif</td>\n",
       "    </tr>\n",
       "    <tr>\n",
       "      <th>22</th>\n",
       "      <td>Hadisaputra chanel</td>\n",
       "      <td>5</td>\n",
       "      <td>2023-03-30 12:10:10</td>\n",
       "      <td>membantu memudahkan tujuan mantap</td>\n",
       "      <td>[membantu, memudahkan, tujuan, mantap]</td>\n",
       "      <td>12</td>\n",
       "      <td>-1</td>\n",
       "      <td>11</td>\n",
       "      <td>positif</td>\n",
       "      <td>positif</td>\n",
       "    </tr>\n",
       "    <tr>\n",
       "      <th>23</th>\n",
       "      <td>Fernanda Cahya</td>\n",
       "      <td>1</td>\n",
       "      <td>2023-03-30 12:08:15</td>\n",
       "      <td>user gopaylater tinggal jateng sih kebanyakan ...</td>\n",
       "      <td>[user, gopaylater, tinggal, jateng, sih, keban...</td>\n",
       "      <td>6</td>\n",
       "      <td>-24</td>\n",
       "      <td>-18</td>\n",
       "      <td>negatif</td>\n",
       "      <td>negatif</td>\n",
       "    </tr>\n",
       "    <tr>\n",
       "      <th>24</th>\n",
       "      <td>Amoy Diva Naura</td>\n",
       "      <td>5</td>\n",
       "      <td>2023-03-30 12:02:56</td>\n",
       "      <td>bagus</td>\n",
       "      <td>[bagus]</td>\n",
       "      <td>2</td>\n",
       "      <td>0</td>\n",
       "      <td>2</td>\n",
       "      <td>positif</td>\n",
       "      <td>positif</td>\n",
       "    </tr>\n",
       "    <tr>\n",
       "      <th>25</th>\n",
       "      <td>JV bee</td>\n",
       "      <td>2</td>\n",
       "      <td>2023-03-30 12:02:38</td>\n",
       "      <td>iya upgrade gopay plus iya butuh banget</td>\n",
       "      <td>[iya, upgrade, gopay, plus, iya, butuh, banget]</td>\n",
       "      <td>3</td>\n",
       "      <td>-5</td>\n",
       "      <td>-2</td>\n",
       "      <td>negatif</td>\n",
       "      <td>negatif</td>\n",
       "    </tr>\n",
       "    <tr>\n",
       "      <th>26</th>\n",
       "      <td>Raden MasTaka AluGaming Official</td>\n",
       "      <td>1</td>\n",
       "      <td>2023-03-30 11:57:30</td>\n",
       "      <td>payah</td>\n",
       "      <td>[payah]</td>\n",
       "      <td>0</td>\n",
       "      <td>0</td>\n",
       "      <td>0</td>\n",
       "      <td>neutral</td>\n",
       "      <td>negatif</td>\n",
       "    </tr>\n",
       "    <tr>\n",
       "      <th>27</th>\n",
       "      <td>RUSIDI (Rosi)</td>\n",
       "      <td>1</td>\n",
       "      <td>2023-03-30 11:44:29</td>\n",
       "      <td>daerah pamekasan pakai gojek karyawanya memili...</td>\n",
       "      <td>[daerah, pamekasan, pakai, gojek, karyawanya, ...</td>\n",
       "      <td>0</td>\n",
       "      <td>0</td>\n",
       "      <td>0</td>\n",
       "      <td>neutral</td>\n",
       "      <td>negatif</td>\n",
       "    </tr>\n",
       "    <tr>\n",
       "      <th>28</th>\n",
       "      <td>ayu destalia</td>\n",
       "      <td>1</td>\n",
       "      <td>2023-03-30 11:32:25</td>\n",
       "      <td>driver ngeluh tarif manusiawi</td>\n",
       "      <td>[driver, ngeluh, tarif, manusiawi]</td>\n",
       "      <td>0</td>\n",
       "      <td>-4</td>\n",
       "      <td>-4</td>\n",
       "      <td>negatif</td>\n",
       "      <td>negatif</td>\n",
       "    </tr>\n",
       "    <tr>\n",
       "      <th>29</th>\n",
       "      <td>Lia salon</td>\n",
       "      <td>1</td>\n",
       "      <td>2023-03-30 11:22:04</td>\n",
       "      <td>driver putus mitra alasannya doain bangkrut se...</td>\n",
       "      <td>[driver, putus, mitra, alasannya, doain, bangk...</td>\n",
       "      <td>13</td>\n",
       "      <td>-17</td>\n",
       "      <td>-4</td>\n",
       "      <td>negatif</td>\n",
       "      <td>negatif</td>\n",
       "    </tr>\n",
       "    <tr>\n",
       "      <th>30</th>\n",
       "      <td>Gudeg Ceker Racer</td>\n",
       "      <td>1</td>\n",
       "      <td>2023-03-30 11:13:46</td>\n",
       "      <td>sih transaksi pakai gopay disuruh update melul...</td>\n",
       "      <td>[sih, transaksi, pakai, gopay, disuruh, update...</td>\n",
       "      <td>4</td>\n",
       "      <td>-10</td>\n",
       "      <td>-6</td>\n",
       "      <td>negatif</td>\n",
       "      <td>negatif</td>\n",
       "    </tr>\n",
       "    <tr>\n",
       "      <th>31</th>\n",
       "      <td>isye yolanda</td>\n",
       "      <td>5</td>\n",
       "      <td>2023-03-30 11:12:26</td>\n",
       "      <td>drivernya oke oke baik sabar</td>\n",
       "      <td>[drivernya, oke, oke, baik, sabar]</td>\n",
       "      <td>12</td>\n",
       "      <td>-1</td>\n",
       "      <td>11</td>\n",
       "      <td>positif</td>\n",
       "      <td>positif</td>\n",
       "    </tr>\n",
       "    <tr>\n",
       "      <th>32</th>\n",
       "      <td>Endra Wati</td>\n",
       "      <td>5</td>\n",
       "      <td>2023-03-30 10:55:54</td>\n",
       "      <td>gojek membantu berpergian</td>\n",
       "      <td>[gojek, membantu, berpergian]</td>\n",
       "      <td>4</td>\n",
       "      <td>0</td>\n",
       "      <td>4</td>\n",
       "      <td>positif</td>\n",
       "      <td>positif</td>\n",
       "    </tr>\n",
       "    <tr>\n",
       "      <th>33</th>\n",
       "      <td>suwito adi prasetya gojek sby</td>\n",
       "      <td>5</td>\n",
       "      <td>2023-03-30 10:52:16</td>\n",
       "      <td>pas pembayaran bawa uang dana gopay menjengkel...</td>\n",
       "      <td>[pas, pembayaran, bawa, uang, dana, gopay, men...</td>\n",
       "      <td>10</td>\n",
       "      <td>-10</td>\n",
       "      <td>0</td>\n",
       "      <td>neutral</td>\n",
       "      <td>positif</td>\n",
       "    </tr>\n",
       "    <tr>\n",
       "      <th>34</th>\n",
       "      <td>Ivan Aditya</td>\n",
       "      <td>1</td>\n",
       "      <td>2023-03-30 10:51:47</td>\n",
       "      <td>update terbaru maret 2023 error fitur gopay ke...</td>\n",
       "      <td>[update, terbaru, maret, 2023, error, fitur, g...</td>\n",
       "      <td>11</td>\n",
       "      <td>-15</td>\n",
       "      <td>-4</td>\n",
       "      <td>negatif</td>\n",
       "      <td>negatif</td>\n",
       "    </tr>\n",
       "    <tr>\n",
       "      <th>35</th>\n",
       "      <td>Rosida Sitinjak</td>\n",
       "      <td>5</td>\n",
       "      <td>2023-03-30 10:51:10</td>\n",
       "      <td>terimaksih bantuan</td>\n",
       "      <td>[terimaksih, bantuan]</td>\n",
       "      <td>4</td>\n",
       "      <td>0</td>\n",
       "      <td>4</td>\n",
       "      <td>positif</td>\n",
       "      <td>positif</td>\n",
       "    </tr>\n",
       "    <tr>\n",
       "      <th>36</th>\n",
       "      <td>rigen adv</td>\n",
       "      <td>5</td>\n",
       "      <td>2023-03-30 10:50:58</td>\n",
       "      <td>memudahkqn urusan</td>\n",
       "      <td>[memudahkqn, urusan]</td>\n",
       "      <td>0</td>\n",
       "      <td>0</td>\n",
       "      <td>0</td>\n",
       "      <td>neutral</td>\n",
       "      <td>positif</td>\n",
       "    </tr>\n",
       "    <tr>\n",
       "      <th>37</th>\n",
       "      <td>Hanif rabbani</td>\n",
       "      <td>1</td>\n",
       "      <td>2023-03-30 10:49:29</td>\n",
       "      <td>order food gabung customer lainsia sia belanja</td>\n",
       "      <td>[order, food, gabung, customer, lainsia, sia, ...</td>\n",
       "      <td>2</td>\n",
       "      <td>-13</td>\n",
       "      <td>-11</td>\n",
       "      <td>negatif</td>\n",
       "      <td>negatif</td>\n",
       "    </tr>\n",
       "    <tr>\n",
       "      <th>38</th>\n",
       "      <td>Hendra Wijaya</td>\n",
       "      <td>5</td>\n",
       "      <td>2023-03-30 10:44:16</td>\n",
       "      <td>3x24 jam tf bank terima kasih responnya</td>\n",
       "      <td>[3x24, jam, tf, bank, terima, kasih, responnya]</td>\n",
       "      <td>4</td>\n",
       "      <td>-1</td>\n",
       "      <td>3</td>\n",
       "      <td>positif</td>\n",
       "      <td>positif</td>\n",
       "    </tr>\n",
       "    <tr>\n",
       "      <th>39</th>\n",
       "      <td>Zero Z</td>\n",
       "      <td>5</td>\n",
       "      <td>2023-03-30 10:40:16</td>\n",
       "      <td>bagus</td>\n",
       "      <td>[bagus]</td>\n",
       "      <td>2</td>\n",
       "      <td>0</td>\n",
       "      <td>2</td>\n",
       "      <td>positif</td>\n",
       "      <td>positif</td>\n",
       "    </tr>\n",
       "    <tr>\n",
       "      <th>40</th>\n",
       "      <td>Fery Eri</td>\n",
       "      <td>1</td>\n",
       "      <td>2023-03-30 10:36:00</td>\n",
       "      <td>pelit</td>\n",
       "      <td>[pelit]</td>\n",
       "      <td>4</td>\n",
       "      <td>-5</td>\n",
       "      <td>-1</td>\n",
       "      <td>negatif</td>\n",
       "      <td>negatif</td>\n",
       "    </tr>\n",
       "    <tr>\n",
       "      <th>41</th>\n",
       "      <td>GAYATRI</td>\n",
       "      <td>5</td>\n",
       "      <td>2023-03-30 10:35:44</td>\n",
       "      <td>bagus</td>\n",
       "      <td>[bagus]</td>\n",
       "      <td>2</td>\n",
       "      <td>0</td>\n",
       "      <td>2</td>\n",
       "      <td>positif</td>\n",
       "      <td>positif</td>\n",
       "    </tr>\n",
       "    <tr>\n",
       "      <th>42</th>\n",
       "      <td>Eengsuhendar Suhendar</td>\n",
       "      <td>5</td>\n",
       "      <td>2023-03-30 10:35:26</td>\n",
       "      <td>mantap</td>\n",
       "      <td>[mantap]</td>\n",
       "      <td>5</td>\n",
       "      <td>0</td>\n",
       "      <td>5</td>\n",
       "      <td>positif</td>\n",
       "      <td>positif</td>\n",
       "    </tr>\n",
       "    <tr>\n",
       "      <th>43</th>\n",
       "      <td>ANDI SUBANDI</td>\n",
       "      <td>5</td>\n",
       "      <td>2023-03-30 10:35:18</td>\n",
       "      <td>coba iya moga berhasil upgred gopay plus turun...</td>\n",
       "      <td>[coba, iya, moga, berhasil, upgred, gopay, plu...</td>\n",
       "      <td>9</td>\n",
       "      <td>-4</td>\n",
       "      <td>5</td>\n",
       "      <td>positif</td>\n",
       "      <td>positif</td>\n",
       "    </tr>\n",
       "    <tr>\n",
       "      <th>44</th>\n",
       "      <td>angga putra</td>\n",
       "      <td>5</td>\n",
       "      <td>2023-03-30 10:33:25</td>\n",
       "      <td>pelayanan bagus</td>\n",
       "      <td>[pelayanan, bagus]</td>\n",
       "      <td>5</td>\n",
       "      <td>0</td>\n",
       "      <td>5</td>\n",
       "      <td>positif</td>\n",
       "      <td>positif</td>\n",
       "    </tr>\n",
       "    <tr>\n",
       "      <th>45</th>\n",
       "      <td>Riyan Priyantoro</td>\n",
       "      <td>1</td>\n",
       "      <td>2023-03-30 10:31:30</td>\n",
       "      <td>akun upgrade gopplus pengguna 2016 transaksi b...</td>\n",
       "      <td>[akun, upgrade, gopplus, pengguna, 2016, trans...</td>\n",
       "      <td>5</td>\n",
       "      <td>-5</td>\n",
       "      <td>0</td>\n",
       "      <td>neutral</td>\n",
       "      <td>negatif</td>\n",
       "    </tr>\n",
       "    <tr>\n",
       "      <th>46</th>\n",
       "      <td>Cindy Laurensia</td>\n",
       "      <td>3</td>\n",
       "      <td>2023-03-30 10:30:44</td>\n",
       "      <td>lupa nomor hp daftar email</td>\n",
       "      <td>[lupa, nomor, hp, daftar, email]</td>\n",
       "      <td>2</td>\n",
       "      <td>-6</td>\n",
       "      <td>-4</td>\n",
       "      <td>negatif</td>\n",
       "      <td>neutral</td>\n",
       "    </tr>\n",
       "    <tr>\n",
       "      <th>47</th>\n",
       "      <td>Nathalia Sby</td>\n",
       "      <td>5</td>\n",
       "      <td>2023-03-30 10:30:05</td>\n",
       "      <td>promonya mantull</td>\n",
       "      <td>[promonya, mantull]</td>\n",
       "      <td>0</td>\n",
       "      <td>0</td>\n",
       "      <td>0</td>\n",
       "      <td>neutral</td>\n",
       "      <td>positif</td>\n",
       "    </tr>\n",
       "    <tr>\n",
       "      <th>48</th>\n",
       "      <td>Vino Bastian</td>\n",
       "      <td>1</td>\n",
       "      <td>2023-03-30 10:29:27</td>\n",
       "      <td>hilang orderan gabungan memesan makanan nyaman</td>\n",
       "      <td>[hilang, orderan, gabungan, memesan, makanan, ...</td>\n",
       "      <td>10</td>\n",
       "      <td>-9</td>\n",
       "      <td>1</td>\n",
       "      <td>positif</td>\n",
       "      <td>negatif</td>\n",
       "    </tr>\n",
       "    <tr>\n",
       "      <th>49</th>\n",
       "      <td>Pasha As</td>\n",
       "      <td>2</td>\n",
       "      <td>2023-03-30 10:29:17</td>\n",
       "      <td>layanan gosend kali ganti driver cancel melulu...</td>\n",
       "      <td>[layanan, gosend, kali, ganti, driver, cancel,...</td>\n",
       "      <td>15</td>\n",
       "      <td>-11</td>\n",
       "      <td>4</td>\n",
       "      <td>positif</td>\n",
       "      <td>negatif</td>\n",
       "    </tr>\n",
       "  </tbody>\n",
       "</table>\n",
       "</div>"
      ],
      "text/plain": [
       "                            userName  score                   at  \\\n",
       "0                          Robbi Eko      5  2023-03-30 14:37:38   \n",
       "1                         mimi cedar      5  2023-03-30 14:35:59   \n",
       "2           Elisabeth Kiswati Ladiyo      5  2023-03-30 14:33:41   \n",
       "3                Jemmi Meliau ibanez      5  2023-03-30 14:23:25   \n",
       "4                        Boedi Arsih      5  2023-03-30 14:19:13   \n",
       "5                       Nabila Nayla      5  2023-03-30 14:17:12   \n",
       "6                       Irsya chanel      5  2023-03-30 14:15:20   \n",
       "7                         Sunar tiee      2  2023-03-30 13:55:29   \n",
       "8                     Irwan Sulaeman      5  2023-03-30 13:50:32   \n",
       "9                EKA WAHYU WIDIYANTO      1  2023-03-30 13:47:43   \n",
       "10                  Petrus Widjijono      5  2023-03-30 13:38:54   \n",
       "11                      Thomas Gorga      1  2023-03-30 13:37:33   \n",
       "12                    waliya habibah      1  2023-03-30 13:35:59   \n",
       "13                 Aisuryani Suryani      5  2023-03-30 13:22:49   \n",
       "14                        Ridho Budi      3  2023-03-30 13:20:55   \n",
       "15                     Josh 1mmanuel      1  2023-03-30 13:12:31   \n",
       "16                       lucia ambar      5  2023-03-30 12:59:43   \n",
       "17                    Puji anto Puji      5  2023-03-30 12:59:17   \n",
       "18                        Yanti Ibhu      5  2023-03-30 12:58:13   \n",
       "19                    Suharman Arman      1  2023-03-30 12:49:19   \n",
       "20                       Invinix Hot      5  2023-03-30 12:47:43   \n",
       "21            Samira Laila Luthfiani      1  2023-03-30 12:39:55   \n",
       "22                Hadisaputra chanel      5  2023-03-30 12:10:10   \n",
       "23                    Fernanda Cahya      1  2023-03-30 12:08:15   \n",
       "24                   Amoy Diva Naura      5  2023-03-30 12:02:56   \n",
       "25                            JV bee      2  2023-03-30 12:02:38   \n",
       "26  Raden MasTaka AluGaming Official      1  2023-03-30 11:57:30   \n",
       "27                     RUSIDI (Rosi)      1  2023-03-30 11:44:29   \n",
       "28                      ayu destalia      1  2023-03-30 11:32:25   \n",
       "29                         Lia salon      1  2023-03-30 11:22:04   \n",
       "30                 Gudeg Ceker Racer      1  2023-03-30 11:13:46   \n",
       "31                      isye yolanda      5  2023-03-30 11:12:26   \n",
       "32                        Endra Wati      5  2023-03-30 10:55:54   \n",
       "33     suwito adi prasetya gojek sby      5  2023-03-30 10:52:16   \n",
       "34                       Ivan Aditya      1  2023-03-30 10:51:47   \n",
       "35                   Rosida Sitinjak      5  2023-03-30 10:51:10   \n",
       "36                         rigen adv      5  2023-03-30 10:50:58   \n",
       "37                     Hanif rabbani      1  2023-03-30 10:49:29   \n",
       "38                     Hendra Wijaya      5  2023-03-30 10:44:16   \n",
       "39                            Zero Z      5  2023-03-30 10:40:16   \n",
       "40                          Fery Eri      1  2023-03-30 10:36:00   \n",
       "41                           GAYATRI      5  2023-03-30 10:35:44   \n",
       "42             Eengsuhendar Suhendar      5  2023-03-30 10:35:26   \n",
       "43                      ANDI SUBANDI      5  2023-03-30 10:35:18   \n",
       "44                       angga putra      5  2023-03-30 10:33:25   \n",
       "45                  Riyan Priyantoro      1  2023-03-30 10:31:30   \n",
       "46                   Cindy Laurensia      3  2023-03-30 10:30:44   \n",
       "47                      Nathalia Sby      5  2023-03-30 10:30:05   \n",
       "48                      Vino Bastian      1  2023-03-30 10:29:27   \n",
       "49                          Pasha As      2  2023-03-30 10:29:17   \n",
       "\n",
       "                                              content  \\\n",
       "0                                     ok terima kasih   \n",
       "1                 transfer gopay gopay transfer gopay   \n",
       "2                        aman cepat sesuai ekspektasi   \n",
       "3                                   aplikasi membantu   \n",
       "4                                     cepat sampainya   \n",
       "5                                               yihaw   \n",
       "6                                               bagus   \n",
       "7                       kalou perdalam susah dapetnya   \n",
       "8                                         baik sekali   \n",
       "9   top up gopay nomer akun salah kirim orang iya ...   \n",
       "10                                               baik   \n",
       "11                               akun sebulan anyepin   \n",
       "12  tolong iya admin training supir goride mengala...   \n",
       "13                                                 ok   \n",
       "14                          sistem bayar ditempat sih   \n",
       "15  komplain 2 balas loading transaksi hapus dowlo...   \n",
       "16  menu tarik tunai mohon diperbaiki muncul terim...   \n",
       "17                                              bagus   \n",
       "18                                          gojek oke   \n",
       "19     gojekindonesia luh kasih kerjaan orang it akun   \n",
       "20                                           perbaiki   \n",
       "21  2x tf bank pending melulu gajelass baik perbai...   \n",
       "22                  membantu memudahkan tujuan mantap   \n",
       "23  user gopaylater tinggal jateng sih kebanyakan ...   \n",
       "24                                              bagus   \n",
       "25            iya upgrade gopay plus iya butuh banget   \n",
       "26                                              payah   \n",
       "27  daerah pamekasan pakai gojek karyawanya memili...   \n",
       "28                      driver ngeluh tarif manusiawi   \n",
       "29  driver putus mitra alasannya doain bangkrut se...   \n",
       "30  sih transaksi pakai gopay disuruh update melul...   \n",
       "31                       drivernya oke oke baik sabar   \n",
       "32                          gojek membantu berpergian   \n",
       "33  pas pembayaran bawa uang dana gopay menjengkel...   \n",
       "34  update terbaru maret 2023 error fitur gopay ke...   \n",
       "35                                 terimaksih bantuan   \n",
       "36                                  memudahkqn urusan   \n",
       "37     order food gabung customer lainsia sia belanja   \n",
       "38            3x24 jam tf bank terima kasih responnya   \n",
       "39                                              bagus   \n",
       "40                                              pelit   \n",
       "41                                              bagus   \n",
       "42                                             mantap   \n",
       "43  coba iya moga berhasil upgred gopay plus turun...   \n",
       "44                                    pelayanan bagus   \n",
       "45  akun upgrade gopplus pengguna 2016 transaksi b...   \n",
       "46                         lupa nomor hp daftar email   \n",
       "47                                   promonya mantull   \n",
       "48     hilang orderan gabungan memesan makanan nyaman   \n",
       "49  layanan gosend kali ganti driver cancel melulu...   \n",
       "\n",
       "                               [preprocessed_content]  lexicon_positif  \\\n",
       "0                                 [ok, terima, kasih]                8   \n",
       "1           [transfer, gopay, gopay, transfer, gopay]                0   \n",
       "2                   [aman, cepat, sesuai, ekspektasi]                6   \n",
       "3                                [aplikasi, membantu]                4   \n",
       "4                                  [cepat, sampainya]                3   \n",
       "5                                             [yihaw]                0   \n",
       "6                                             [bagus]                2   \n",
       "7                  [kalou, perdalam, susah, dapetnya]                0   \n",
       "8                                      [baik, sekali]                3   \n",
       "9   [top, up, gopay, nomer, akun, salah, kirim, or...                7   \n",
       "10                                             [baik]                3   \n",
       "11                           [akun, sebulan, anyepin]                0   \n",
       "12  [tolong, iya, admin, training, supir, goride, ...               11   \n",
       "13                                               [ok]                4   \n",
       "14                     [sistem, bayar, ditempat, sih]                1   \n",
       "15  [komplain, 2, balas, loading, transaksi, hapus...               15   \n",
       "16  [menu, tarik, tunai, mohon, diperbaiki, muncul...               13   \n",
       "17                                            [bagus]                2   \n",
       "18                                       [gojek, oke]                2   \n",
       "19  [gojekindonesia, luh, kasih, kerjaan, orang, i...                4   \n",
       "20                                         [perbaiki]                0   \n",
       "21  [2x, tf, bank, pending, melulu, gajelass, baik...                4   \n",
       "22             [membantu, memudahkan, tujuan, mantap]               12   \n",
       "23  [user, gopaylater, tinggal, jateng, sih, keban...                6   \n",
       "24                                            [bagus]                2   \n",
       "25    [iya, upgrade, gopay, plus, iya, butuh, banget]                3   \n",
       "26                                            [payah]                0   \n",
       "27  [daerah, pamekasan, pakai, gojek, karyawanya, ...                0   \n",
       "28                 [driver, ngeluh, tarif, manusiawi]                0   \n",
       "29  [driver, putus, mitra, alasannya, doain, bangk...               13   \n",
       "30  [sih, transaksi, pakai, gopay, disuruh, update...                4   \n",
       "31                 [drivernya, oke, oke, baik, sabar]               12   \n",
       "32                      [gojek, membantu, berpergian]                4   \n",
       "33  [pas, pembayaran, bawa, uang, dana, gopay, men...               10   \n",
       "34  [update, terbaru, maret, 2023, error, fitur, g...               11   \n",
       "35                              [terimaksih, bantuan]                4   \n",
       "36                               [memudahkqn, urusan]                0   \n",
       "37  [order, food, gabung, customer, lainsia, sia, ...                2   \n",
       "38    [3x24, jam, tf, bank, terima, kasih, responnya]                4   \n",
       "39                                            [bagus]                2   \n",
       "40                                            [pelit]                4   \n",
       "41                                            [bagus]                2   \n",
       "42                                           [mantap]                5   \n",
       "43  [coba, iya, moga, berhasil, upgred, gopay, plu...                9   \n",
       "44                                 [pelayanan, bagus]                5   \n",
       "45  [akun, upgrade, gopplus, pengguna, 2016, trans...                5   \n",
       "46                   [lupa, nomor, hp, daftar, email]                2   \n",
       "47                                [promonya, mantull]                0   \n",
       "48  [hilang, orderan, gabungan, memesan, makanan, ...               10   \n",
       "49  [layanan, gosend, kali, ganti, driver, cancel,...               15   \n",
       "\n",
       "    lexicon_negatif  final_lexicon status_lexicon score_lexicon  \n",
       "0                -1              7        positif       positif  \n",
       "1                 0              0        neutral       positif  \n",
       "2                -3              3        positif       positif  \n",
       "3                 0              4        positif       positif  \n",
       "4                -3              0        neutral       positif  \n",
       "5                 0              0        neutral       positif  \n",
       "6                 0              2        positif       positif  \n",
       "7                -3             -3        negatif       negatif  \n",
       "8                -2              1        positif       positif  \n",
       "9                -5              2        positif       negatif  \n",
       "10               -1              2        positif       positif  \n",
       "11                0              0        neutral       negatif  \n",
       "12              -23            -12        negatif       negatif  \n",
       "13                0              4        positif       positif  \n",
       "14               -7             -6        negatif       neutral  \n",
       "15              -13              2        positif       negatif  \n",
       "16               -5              8        positif       positif  \n",
       "17                0              2        positif       positif  \n",
       "18                0              2        positif       positif  \n",
       "19               -1              3        positif       negatif  \n",
       "20                0              0        neutral       positif  \n",
       "21               -7             -3        negatif       negatif  \n",
       "22               -1             11        positif       positif  \n",
       "23              -24            -18        negatif       negatif  \n",
       "24                0              2        positif       positif  \n",
       "25               -5             -2        negatif       negatif  \n",
       "26                0              0        neutral       negatif  \n",
       "27                0              0        neutral       negatif  \n",
       "28               -4             -4        negatif       negatif  \n",
       "29              -17             -4        negatif       negatif  \n",
       "30              -10             -6        negatif       negatif  \n",
       "31               -1             11        positif       positif  \n",
       "32                0              4        positif       positif  \n",
       "33              -10              0        neutral       positif  \n",
       "34              -15             -4        negatif       negatif  \n",
       "35                0              4        positif       positif  \n",
       "36                0              0        neutral       positif  \n",
       "37              -13            -11        negatif       negatif  \n",
       "38               -1              3        positif       positif  \n",
       "39                0              2        positif       positif  \n",
       "40               -5             -1        negatif       negatif  \n",
       "41                0              2        positif       positif  \n",
       "42                0              5        positif       positif  \n",
       "43               -4              5        positif       positif  \n",
       "44                0              5        positif       positif  \n",
       "45               -5              0        neutral       negatif  \n",
       "46               -6             -4        negatif       neutral  \n",
       "47                0              0        neutral       positif  \n",
       "48               -9              1        positif       negatif  \n",
       "49              -11              4        positif       negatif  "
      ]
     },
     "execution_count": 599,
     "metadata": {},
     "output_type": "execute_result"
    }
   ],
   "source": [
    "new_df.head(50)"
   ]
  },
  {
   "cell_type": "markdown",
   "id": "43cdd054",
   "metadata": {},
   "source": [
    "## Visualization atau plotting dari based lexicon isset"
   ]
  },
  {
   "cell_type": "code",
   "execution_count": 600,
   "id": "4983a956",
   "metadata": {},
   "outputs": [
    {
     "data": {
      "text/plain": [
       "(19595, 10)"
      ]
     },
     "execution_count": 600,
     "metadata": {},
     "output_type": "execute_result"
    }
   ],
   "source": [
    "new_df.shape"
   ]
  },
  {
   "cell_type": "code",
   "execution_count": 601,
   "id": "8b73ee3c",
   "metadata": {},
   "outputs": [
    {
     "data": {
      "text/plain": [
       "positif    11618\n",
       "negatif     4257\n",
       "neutral     3720\n",
       "Name: status_lexicon, dtype: int64"
      ]
     },
     "execution_count": 601,
     "metadata": {},
     "output_type": "execute_result"
    }
   ],
   "source": [
    "## Visualization\n",
    "new_df['status_lexicon'].value_counts()"
   ]
  },
  {
   "cell_type": "code",
   "execution_count": 602,
   "id": "42795949",
   "metadata": {},
   "outputs": [
    {
     "data": {
      "text/plain": [
       "positif    12552\n",
       "negatif     6208\n",
       "neutral      835\n",
       "Name: score_lexicon, dtype: int64"
      ]
     },
     "execution_count": 602,
     "metadata": {},
     "output_type": "execute_result"
    }
   ],
   "source": [
    "## Visualization\n",
    "new_df['score_lexicon'].value_counts()"
   ]
  },
  {
   "cell_type": "code",
   "execution_count": 603,
   "id": "ea58716d",
   "metadata": {},
   "outputs": [
    {
     "data": {
      "text/plain": [
       "Text(0.5, 1.0, 'Dataset labels distribuition')"
      ]
     },
     "execution_count": 603,
     "metadata": {},
     "output_type": "execute_result"
    },
    {
     "data": {
      "image/png": "[encoded data removed]",
      "text/plain": [
       "<Figure size 1152x576 with 1 Axes>"
      ]
     },
     "metadata": {},
     "output_type": "display_data"
    }
   ],
   "source": [
    "status_cnt = Counter(new_df.status_lexicon)\n",
    "\n",
    "plt.figure(figsize=(16,8))\n",
    "plt.bar(status_cnt.keys(), status_cnt.values())\n",
    "plt.title(\"Dataset labels distribuition\")"
   ]
  },
  {
   "cell_type": "code",
   "execution_count": 604,
   "id": "efc7cd13",
   "metadata": {},
   "outputs": [
    {
     "data": {
      "image/png": "[encoded data removed]",
      "text/plain": [
       "<Figure size 1152x576 with 2 Axes>"
      ]
     },
     "metadata": {},
     "output_type": "display_data"
    }
   ],
   "source": [
    "# Menghitung frekuensi dari status_lexicon\n",
    "status_cnt = Counter(new_df.status_lexicon)\n",
    "\n",
    "# Menghitung frekuensi dari score_lexicon\n",
    "score_cnt = Counter(new_df.score_lexicon)\n",
    "\n",
    "# Membuat figure dengan 2 subplot\n",
    "fig, ax = plt.subplots(1, 2, figsize=(16,8))\n",
    "\n",
    "# Visualisasi status_lexicon\n",
    "ax[0].bar(status_cnt.keys(), status_cnt.values(), color='b')\n",
    "ax[0].set_title(\"Dataset labels distribution for status_lexicon\")\n",
    "ax[0].set_ylabel(\"Count\")\n",
    "ax[0].set_xlabel(\"Labels\")\n",
    "\n",
    "# Visualisasi score_lexicon\n",
    "ax[1].bar(score_cnt.keys(), score_cnt.values(), color='r')\n",
    "ax[1].set_title(\"Dataset labels distribution for score_lexicon\")\n",
    "ax[1].set_ylabel(\"Count\")\n",
    "ax[1].set_xlabel(\"Labels\")\n",
    "\n",
    "# Menyesuaikan layout\n",
    "plt.tight_layout()\n",
    "plt.show()\n"
   ]
  },
  {
   "cell_type": "code",
   "execution_count": 605,
   "id": "1a4fba7a",
   "metadata": {},
   "outputs": [
    {
     "data": {
      "application/vnd.plotly.v1+json": {
       "config": {
        "plotlyServerURL": "https://plot.ly"
       },
       "data": [
        {
         "domain": {
          "x": [
           0,
           0.45
          ],
          "y": [
           0,
           1
          ]
         },
         "labels": [
          "positif",
          "neutral",
          "negatif"
         ],
         "name": "status_lexicon",
         "title": {
          "text": "status lexicon"
         },
         "type": "pie",
         "values": [
          11618,
          3720,
          4257
         ]
        },
        {
         "domain": {
          "x": [
           0.55,
           1
          ],
          "y": [
           0,
           1
          ]
         },
         "labels": [
          "positif",
          "negatif",
          "neutral"
         ],
         "name": "score_lexicon",
         "title": {
          "text": "score lexicon"
         },
         "type": "pie",
         "values": [
          12552,
          6208,
          835
         ]
        }
       ],
       "layout": {
        "font": {
         "color": "black"
        },
        "paper_bgcolor": "white",
        "plot_bgcolor": "black",
        "template": {
         "data": {
          "bar": [
           {
            "error_x": {
             "color": "#2a3f5f"
            },
            "error_y": {
             "color": "#2a3f5f"
            },
            "marker": {
             "line": {
              "color": "#E5ECF6",
              "width": 0.5
             },
             "pattern": {
              "fillmode": "overlay",
              "size": 10,
              "solidity": 0.2
             }
            },
            "type": "bar"
           }
          ],
          "barpolar": [
           {
            "marker": {
             "line": {
              "color": "#E5ECF6",
              "width": 0.5
             },
             "pattern": {
              "fillmode": "overlay",
              "size": 10,
              "solidity": 0.2
             }
            },
            "type": "barpolar"
           }
          ],
          "carpet": [
           {
            "aaxis": {
             "endlinecolor": "#2a3f5f",
             "gridcolor": "white",
             "linecolor": "white",
             "minorgridcolor": "white",
             "startlinecolor": "#2a3f5f"
            },
            "baxis": {
             "endlinecolor": "#2a3f5f",
             "gridcolor": "white",
             "linecolor": "white",
             "minorgridcolor": "white",
             "startlinecolor": "#2a3f5f"
            },
            "type": "carpet"
           }
          ],
          "choropleth": [
           {
            "colorbar": {
             "outlinewidth": 0,
             "ticks": ""
            },
            "type": "choropleth"
           }
          ],
          "contour": [
           {
            "colorbar": {
             "outlinewidth": 0,
             "ticks": ""
            },
            "colorscale": [
             [
              0,
              "#0d0887"
             ],
             [
              0.1111111111111111,
              "#46039f"
             ],
             [
              0.2222222222222222,
              "#7201a8"
             ],
             [
              0.3333333333333333,
              "#9c179e"
             ],
             [
              0.4444444444444444,
              "#bd3786"
             ],
             [
              0.5555555555555556,
              "#d8576b"
             ],
             [
              0.6666666666666666,
              "#ed7953"
             ],
             [
              0.7777777777777778,
              "#fb9f3a"
             ],
             [
              0.8888888888888888,
              "#fdca26"
             ],
             [
              1,
              "#f0f921"
             ]
            ],
            "type": "contour"
           }
          ],
          "contourcarpet": [
           {
            "colorbar": {
             "outlinewidth": 0,
             "ticks": ""
            },
            "type": "contourcarpet"
           }
          ],
          "heatmap": [
           {
            "colorbar": {
             "outlinewidth": 0,
             "ticks": ""
            },
            "colorscale": [
             [
              0,
              "#0d0887"
             ],
             [
              0.1111111111111111,
              "#46039f"
             ],
             [
              0.2222222222222222,
              "#7201a8"
             ],
             [
              0.3333333333333333,
              "#9c179e"
             ],
             [
              0.4444444444444444,
              "#bd3786"
             ],
             [
              0.5555555555555556,
              "#d8576b"
             ],
             [
              0.6666666666666666,
              "#ed7953"
             ],
             [
              0.7777777777777778,
              "#fb9f3a"
             ],
             [
              0.8888888888888888,
              "#fdca26"
             ],
             [
              1,
              "#f0f921"
             ]
            ],
            "type": "heatmap"
           }
          ],
          "heatmapgl": [
           {
            "colorbar": {
             "outlinewidth": 0,
             "ticks": ""
            },
            "colorscale": [
             [
              0,
              "#0d0887"
             ],
             [
              0.1111111111111111,
              "#46039f"
             ],
             [
              0.2222222222222222,
              "#7201a8"
             ],
             [
              0.3333333333333333,
              "#9c179e"
             ],
             [
              0.4444444444444444,
              "#bd3786"
             ],
             [
              0.5555555555555556,
              "#d8576b"
             ],
             [
              0.6666666666666666,
              "#ed7953"
             ],
             [
              0.7777777777777778,
              "#fb9f3a"
             ],
             [
              0.8888888888888888,
              "#fdca26"
             ],
             [
              1,
              "#f0f921"
             ]
            ],
            "type": "heatmapgl"
           }
          ],
          "histogram": [
           {
            "marker": {
             "pattern": {
              "fillmode": "overlay",
              "size": 10,
              "solidity": 0.2
             }
            },
            "type": "histogram"
           }
          ],
          "histogram2d": [
           {
            "colorbar": {
             "outlinewidth": 0,
             "ticks": ""
            },
            "colorscale": [
             [
              0,
              "#0d0887"
             ],
             [
              0.1111111111111111,
              "#46039f"
             ],
             [
              0.2222222222222222,
              "#7201a8"
             ],
             [
              0.3333333333333333,
              "#9c179e"
             ],
             [
              0.4444444444444444,
              "#bd3786"
             ],
             [
              0.5555555555555556,
              "#d8576b"
             ],
             [
              0.6666666666666666,
              "#ed7953"
             ],
             [
              0.7777777777777778,
              "#fb9f3a"
             ],
             [
              0.8888888888888888,
              "#fdca26"
             ],
             [
              1,
              "#f0f921"
             ]
            ],
            "type": "histogram2d"
           }
          ],
          "histogram2dcontour": [
           {
            "colorbar": {
             "outlinewidth": 0,
             "ticks": ""
            },
            "colorscale": [
             [
              0,
              "#0d0887"
             ],
             [
              0.1111111111111111,
              "#46039f"
             ],
             [
              0.2222222222222222,
              "#7201a8"
             ],
             [
              0.3333333333333333,
              "#9c179e"
             ],
             [
              0.4444444444444444,
              "#bd3786"
             ],
             [
              0.5555555555555556,
              "#d8576b"
             ],
             [
              0.6666666666666666,
              "#ed7953"
             ],
             [
              0.7777777777777778,
              "#fb9f3a"
             ],
             [
              0.8888888888888888,
              "#fdca26"
             ],
             [
              1,
              "#f0f921"
             ]
            ],
            "type": "histogram2dcontour"
           }
          ],
          "mesh3d": [
           {
            "colorbar": {
             "outlinewidth": 0,
             "ticks": ""
            },
            "type": "mesh3d"
           }
          ],
          "parcoords": [
           {
            "line": {
             "colorbar": {
              "outlinewidth": 0,
              "ticks": ""
             }
            },
            "type": "parcoords"
           }
          ],
          "pie": [
           {
            "automargin": true,
            "type": "pie"
           }
          ],
          "scatter": [
           {
            "fillpattern": {
             "fillmode": "overlay",
             "size": 10,
             "solidity": 0.2
            },
            "type": "scatter"
           }
          ],
          "scatter3d": [
           {
            "line": {
             "colorbar": {
              "outlinewidth": 0,
              "ticks": ""
             }
            },
            "marker": {
             "colorbar": {
              "outlinewidth": 0,
              "ticks": ""
             }
            },
            "type": "scatter3d"
           }
          ],
          "scattercarpet": [
           {
            "marker": {
             "colorbar": {
              "outlinewidth": 0,
              "ticks": ""
             }
            },
            "type": "scattercarpet"
           }
          ],
          "scattergeo": [
           {
            "marker": {
             "colorbar": {
              "outlinewidth": 0,
              "ticks": ""
             }
            },
            "type": "scattergeo"
           }
          ],
          "scattergl": [
           {
            "marker": {
             "colorbar": {
              "outlinewidth": 0,
              "ticks": ""
             }
            },
            "type": "scattergl"
           }
          ],
          "scattermapbox": [
           {
            "marker": {
             "colorbar": {
              "outlinewidth": 0,
              "ticks": ""
             }
            },
            "type": "scattermapbox"
           }
          ],
          "scatterpolar": [
           {
            "marker": {
             "colorbar": {
              "outlinewidth": 0,
              "ticks": ""
             }
            },
            "type": "scatterpolar"
           }
          ],
          "scatterpolargl": [
           {
            "marker": {
             "colorbar": {
              "outlinewidth": 0,
              "ticks": ""
             }
            },
            "type": "scatterpolargl"
           }
          ],
          "scatterternary": [
           {
            "marker": {
             "colorbar": {
              "outlinewidth": 0,
              "ticks": ""
             }
            },
            "type": "scatterternary"
           }
          ],
          "surface": [
           {
            "colorbar": {
             "outlinewidth": 0,
             "ticks": ""
            },
            "colorscale": [
             [
              0,
              "#0d0887"
             ],
             [
              0.1111111111111111,
              "#46039f"
             ],
             [
              0.2222222222222222,
              "#7201a8"
             ],
             [
              0.3333333333333333,
              "#9c179e"
             ],
             [
              0.4444444444444444,
              "#bd3786"
             ],
             [
              0.5555555555555556,
              "#d8576b"
             ],
             [
              0.6666666666666666,
              "#ed7953"
             ],
             [
              0.7777777777777778,
              "#fb9f3a"
             ],
             [
              0.8888888888888888,
              "#fdca26"
             ],
             [
              1,
              "#f0f921"
             ]
            ],
            "type": "surface"
           }
          ],
          "table": [
           {
            "cells": {
             "fill": {
              "color": "#EBF0F8"
             },
             "line": {
              "color": "white"
             }
            },
            "header": {
             "fill": {
              "color": "#C8D4E3"
             },
             "line": {
              "color": "white"
             }
            },
            "type": "table"
           }
          ]
         },
         "layout": {
          "annotationdefaults": {
           "arrowcolor": "#2a3f5f",
           "arrowhead": 0,
           "arrowwidth": 1
          },
          "autotypenumbers": "strict",
          "coloraxis": {
           "colorbar": {
            "outlinewidth": 0,
            "ticks": ""
           }
          },
          "colorscale": {
           "diverging": [
            [
             0,
             "#8e0152"
            ],
            [
             0.1,
             "#c51b7d"
            ],
            [
             0.2,
             "#de77ae"
            ],
            [
             0.3,
             "#f1b6da"
            ],
            [
             0.4,
             "#fde0ef"
            ],
            [
             0.5,
             "#f7f7f7"
            ],
            [
             0.6,
             "#e6f5d0"
            ],
            [
             0.7,
             "#b8e186"
            ],
            [
             0.8,
             "#7fbc41"
            ],
            [
             0.9,
             "#4d9221"
            ],
            [
             1,
             "#276419"
            ]
           ],
           "sequential": [
            [
             0,
             "#0d0887"
            ],
            [
             0.1111111111111111,
             "#46039f"
            ],
            [
             0.2222222222222222,
             "#7201a8"
            ],
            [
             0.3333333333333333,
             "#9c179e"
            ],
            [
             0.4444444444444444,
             "#bd3786"
            ],
            [
             0.5555555555555556,
             "#d8576b"
            ],
            [
             0.6666666666666666,
             "#ed7953"
            ],
            [
             0.7777777777777778,
             "#fb9f3a"
            ],
            [
             0.8888888888888888,
             "#fdca26"
            ],
            [
             1,
             "#f0f921"
            ]
           ],
           "sequentialminus": [
            [
             0,
             "#0d0887"
            ],
            [
             0.1111111111111111,
             "#46039f"
            ],
            [
             0.2222222222222222,
             "#7201a8"
            ],
            [
             0.3333333333333333,
             "#9c179e"
            ],
            [
             0.4444444444444444,
             "#bd3786"
            ],
            [
             0.5555555555555556,
             "#d8576b"
            ],
            [
             0.6666666666666666,
             "#ed7953"
            ],
            [
             0.7777777777777778,
             "#fb9f3a"
            ],
            [
             0.8888888888888888,
             "#fdca26"
            ],
            [
             1,
             "#f0f921"
            ]
           ]
          },
          "colorway": [
           "#636efa",
           "#EF553B",
           "#00cc96",
           "#ab63fa",
           "#FFA15A",
           "#19d3f3",
           "#FF6692",
           "#B6E880",
           "#FF97FF",
           "#FECB52"
          ],
          "font": {
           "color": "#2a3f5f"
          },
          "geo": {
           "bgcolor": "white",
           "lakecolor": "white",
           "landcolor": "#E5ECF6",
           "showlakes": true,
           "showland": true,
           "subunitcolor": "white"
          },
          "hoverlabel": {
           "align": "left"
          },
          "hovermode": "closest",
          "mapbox": {
           "style": "light"
          },
          "paper_bgcolor": "white",
          "plot_bgcolor": "#E5ECF6",
          "polar": {
           "angularaxis": {
            "gridcolor": "white",
            "linecolor": "white",
            "ticks": ""
           },
           "bgcolor": "#E5ECF6",
           "radialaxis": {
            "gridcolor": "white",
            "linecolor": "white",
            "ticks": ""
           }
          },
          "scene": {
           "xaxis": {
            "backgroundcolor": "#E5ECF6",
            "gridcolor": "white",
            "gridwidth": 2,
            "linecolor": "white",
            "showbackground": true,
            "ticks": "",
            "zerolinecolor": "white"
           },
           "yaxis": {
            "backgroundcolor": "#E5ECF6",
            "gridcolor": "white",
            "gridwidth": 2,
            "linecolor": "white",
            "showbackground": true,
            "ticks": "",
            "zerolinecolor": "white"
           },
           "zaxis": {
            "backgroundcolor": "#E5ECF6",
            "gridcolor": "white",
            "gridwidth": 2,
            "linecolor": "white",
            "showbackground": true,
            "ticks": "",
            "zerolinecolor": "white"
           }
          },
          "shapedefaults": {
           "line": {
            "color": "#2a3f5f"
           }
          },
          "ternary": {
           "aaxis": {
            "gridcolor": "white",
            "linecolor": "white",
            "ticks": ""
           },
           "baxis": {
            "gridcolor": "white",
            "linecolor": "white",
            "ticks": ""
           },
           "bgcolor": "#E5ECF6",
           "caxis": {
            "gridcolor": "white",
            "linecolor": "white",
            "ticks": ""
           }
          },
          "title": {
           "x": 0.05
          },
          "xaxis": {
           "automargin": true,
           "gridcolor": "white",
           "linecolor": "white",
           "ticks": "",
           "title": {
            "standoff": 15
           },
           "zerolinecolor": "white",
           "zerolinewidth": 2
          },
          "yaxis": {
           "automargin": true,
           "gridcolor": "white",
           "linecolor": "white",
           "ticks": "",
           "title": {
            "standoff": 15
           },
           "zerolinecolor": "white",
           "zerolinewidth": 2
          }
         }
        },
        "title": {
         "text": "Dataset labels distribution"
        }
       }
      },
      "text/html": [
       "<div>                            <div id=\"a7c92337-1755-4c04-8cd0-470a21c7ada1\" class=\"plotly-graph-div\" style=\"height:525px; width:100%;\"></div>            <script type=\"text/javascript\">                require([\"plotly\"], function(Plotly) {                    window.PLOTLYENV=window.PLOTLYENV || {};                                    if (document.getElementById(\"a7c92337-1755-4c04-8cd0-470a21c7ada1\")) {                    Plotly.newPlot(                        \"a7c92337-1755-4c04-8cd0-470a21c7ada1\",                        [{\"labels\":[\"positif\",\"neutral\",\"negatif\"],\"name\":\"status_lexicon\",\"title\":{\"text\":\"status lexicon\"},\"values\":[11618,3720,4257],\"type\":\"pie\",\"domain\":{\"x\":[0.0,0.45],\"y\":[0.0,1.0]}},{\"labels\":[\"positif\",\"negatif\",\"neutral\"],\"name\":\"score_lexicon\",\"title\":{\"text\":\"score lexicon\"},\"values\":[12552,6208,835],\"type\":\"pie\",\"domain\":{\"x\":[0.55,1.0],\"y\":[0.0,1.0]}}],                        {\"template\":{\"data\":{\"histogram2dcontour\":[{\"type\":\"histogram2dcontour\",\"colorbar\":{\"outlinewidth\":0,\"ticks\":\"\"},\"colorscale\":[[0.0,\"#0d0887\"],[0.1111111111111111,\"#46039f\"],[0.2222222222222222,\"#7201a8\"],[0.3333333333333333,\"#9c179e\"],[0.4444444444444444,\"#bd3786\"],[0.5555555555555556,\"#d8576b\"],[0.6666666666666666,\"#ed7953\"],[0.7777777777777778,\"#fb9f3a\"],[0.8888888888888888,\"#fdca26\"],[1.0,\"#f0f921\"]]}],\"choropleth\":[{\"type\":\"choropleth\",\"colorbar\":{\"outlinewidth\":0,\"ticks\":\"\"}}],\"histogram2d\":[{\"type\":\"histogram2d\",\"colorbar\":{\"outlinewidth\":0,\"ticks\":\"\"},\"colorscale\":[[0.0,\"#0d0887\"],[0.1111111111111111,\"#46039f\"],[0.2222222222222222,\"#7201a8\"],[0.3333333333333333,\"#9c179e\"],[0.4444444444444444,\"#bd3786\"],[0.5555555555555556,\"#d8576b\"],[0.6666666666666666,\"#ed7953\"],[0.7777777777777778,\"#fb9f3a\"],[0.8888888888888888,\"#fdca26\"],[1.0,\"#f0f921\"]]}],\"heatmap\":[{\"type\":\"heatmap\",\"colorbar\":{\"outlinewidth\":0,\"ticks\":\"\"},\"colorscale\":[[0.0,\"#0d0887\"],[0.1111111111111111,\"#46039f\"],[0.2222222222222222,\"#7201a8\"],[0.3333333333333333,\"#9c179e\"],[0.4444444444444444,\"#bd3786\"],[0.5555555555555556,\"#d8576b\"],[0.6666666666666666,\"#ed7953\"],[0.7777777777777778,\"#fb9f3a\"],[0.8888888888888888,\"#fdca26\"],[1.0,\"#f0f921\"]]}],\"heatmapgl\":[{\"type\":\"heatmapgl\",\"colorbar\":{\"outlinewidth\":0,\"ticks\":\"\"},\"colorscale\":[[0.0,\"#0d0887\"],[0.1111111111111111,\"#46039f\"],[0.2222222222222222,\"#7201a8\"],[0.3333333333333333,\"#9c179e\"],[0.4444444444444444,\"#bd3786\"],[0.5555555555555556,\"#d8576b\"],[0.6666666666666666,\"#ed7953\"],[0.7777777777777778,\"#fb9f3a\"],[0.8888888888888888,\"#fdca26\"],[1.0,\"#f0f921\"]]}],\"contourcarpet\":[{\"type\":\"contourcarpet\",\"colorbar\":{\"outlinewidth\":0,\"ticks\":\"\"}}],\"contour\":[{\"type\":\"contour\",\"colorbar\":{\"outlinewidth\":0,\"ticks\":\"\"},\"colorscale\":[[0.0,\"#0d0887\"],[0.1111111111111111,\"#46039f\"],[0.2222222222222222,\"#7201a8\"],[0.3333333333333333,\"#9c179e\"],[0.4444444444444444,\"#bd3786\"],[0.5555555555555556,\"#d8576b\"],[0.6666666666666666,\"#ed7953\"],[0.7777777777777778,\"#fb9f3a\"],[0.8888888888888888,\"#fdca26\"],[1.0,\"#f0f921\"]]}],\"surface\":[{\"type\":\"surface\",\"colorbar\":{\"outlinewidth\":0,\"ticks\":\"\"},\"colorscale\":[[0.0,\"#0d0887\"],[0.1111111111111111,\"#46039f\"],[0.2222222222222222,\"#7201a8\"],[0.3333333333333333,\"#9c179e\"],[0.4444444444444444,\"#bd3786\"],[0.5555555555555556,\"#d8576b\"],[0.6666666666666666,\"#ed7953\"],[0.7777777777777778,\"#fb9f3a\"],[0.8888888888888888,\"#fdca26\"],[1.0,\"#f0f921\"]]}],\"mesh3d\":[{\"type\":\"mesh3d\",\"colorbar\":{\"outlinewidth\":0,\"ticks\":\"\"}}],\"scatter\":[{\"fillpattern\":{\"fillmode\":\"overlay\",\"size\":10,\"solidity\":0.2},\"type\":\"scatter\"}],\"parcoords\":[{\"type\":\"parcoords\",\"line\":{\"colorbar\":{\"outlinewidth\":0,\"ticks\":\"\"}}}],\"scatterpolargl\":[{\"type\":\"scatterpolargl\",\"marker\":{\"colorbar\":{\"outlinewidth\":0,\"ticks\":\"\"}}}],\"bar\":[{\"error_x\":{\"color\":\"#2a3f5f\"},\"error_y\":{\"color\":\"#2a3f5f\"},\"marker\":{\"line\":{\"color\":\"#E5ECF6\",\"width\":0.5},\"pattern\":{\"fillmode\":\"overlay\",\"size\":10,\"solidity\":0.2}},\"type\":\"bar\"}],\"scattergeo\":[{\"type\":\"scattergeo\",\"marker\":{\"colorbar\":{\"outlinewidth\":0,\"ticks\":\"\"}}}],\"scatterpolar\":[{\"type\":\"scatterpolar\",\"marker\":{\"colorbar\":{\"outlinewidth\":0,\"ticks\":\"\"}}}],\"histogram\":[{\"marker\":{\"pattern\":{\"fillmode\":\"overlay\",\"size\":10,\"solidity\":0.2}},\"type\":\"histogram\"}],\"scattergl\":[{\"type\":\"scattergl\",\"marker\":{\"colorbar\":{\"outlinewidth\":0,\"ticks\":\"\"}}}],\"scatter3d\":[{\"type\":\"scatter3d\",\"line\":{\"colorbar\":{\"outlinewidth\":0,\"ticks\":\"\"}},\"marker\":{\"colorbar\":{\"outlinewidth\":0,\"ticks\":\"\"}}}],\"scattermapbox\":[{\"type\":\"scattermapbox\",\"marker\":{\"colorbar\":{\"outlinewidth\":0,\"ticks\":\"\"}}}],\"scatterternary\":[{\"type\":\"scatterternary\",\"marker\":{\"colorbar\":{\"outlinewidth\":0,\"ticks\":\"\"}}}],\"scattercarpet\":[{\"type\":\"scattercarpet\",\"marker\":{\"colorbar\":{\"outlinewidth\":0,\"ticks\":\"\"}}}],\"carpet\":[{\"aaxis\":{\"endlinecolor\":\"#2a3f5f\",\"gridcolor\":\"white\",\"linecolor\":\"white\",\"minorgridcolor\":\"white\",\"startlinecolor\":\"#2a3f5f\"},\"baxis\":{\"endlinecolor\":\"#2a3f5f\",\"gridcolor\":\"white\",\"linecolor\":\"white\",\"minorgridcolor\":\"white\",\"startlinecolor\":\"#2a3f5f\"},\"type\":\"carpet\"}],\"table\":[{\"cells\":{\"fill\":{\"color\":\"#EBF0F8\"},\"line\":{\"color\":\"white\"}},\"header\":{\"fill\":{\"color\":\"#C8D4E3\"},\"line\":{\"color\":\"white\"}},\"type\":\"table\"}],\"barpolar\":[{\"marker\":{\"line\":{\"color\":\"#E5ECF6\",\"width\":0.5},\"pattern\":{\"fillmode\":\"overlay\",\"size\":10,\"solidity\":0.2}},\"type\":\"barpolar\"}],\"pie\":[{\"automargin\":true,\"type\":\"pie\"}]},\"layout\":{\"autotypenumbers\":\"strict\",\"colorway\":[\"#636efa\",\"#EF553B\",\"#00cc96\",\"#ab63fa\",\"#FFA15A\",\"#19d3f3\",\"#FF6692\",\"#B6E880\",\"#FF97FF\",\"#FECB52\"],\"font\":{\"color\":\"#2a3f5f\"},\"hovermode\":\"closest\",\"hoverlabel\":{\"align\":\"left\"},\"paper_bgcolor\":\"white\",\"plot_bgcolor\":\"#E5ECF6\",\"polar\":{\"bgcolor\":\"#E5ECF6\",\"angularaxis\":{\"gridcolor\":\"white\",\"linecolor\":\"white\",\"ticks\":\"\"},\"radialaxis\":{\"gridcolor\":\"white\",\"linecolor\":\"white\",\"ticks\":\"\"}},\"ternary\":{\"bgcolor\":\"#E5ECF6\",\"aaxis\":{\"gridcolor\":\"white\",\"linecolor\":\"white\",\"ticks\":\"\"},\"baxis\":{\"gridcolor\":\"white\",\"linecolor\":\"white\",\"ticks\":\"\"},\"caxis\":{\"gridcolor\":\"white\",\"linecolor\":\"white\",\"ticks\":\"\"}},\"coloraxis\":{\"colorbar\":{\"outlinewidth\":0,\"ticks\":\"\"}},\"colorscale\":{\"sequential\":[[0.0,\"#0d0887\"],[0.1111111111111111,\"#46039f\"],[0.2222222222222222,\"#7201a8\"],[0.3333333333333333,\"#9c179e\"],[0.4444444444444444,\"#bd3786\"],[0.5555555555555556,\"#d8576b\"],[0.6666666666666666,\"#ed7953\"],[0.7777777777777778,\"#fb9f3a\"],[0.8888888888888888,\"#fdca26\"],[1.0,\"#f0f921\"]],\"sequentialminus\":[[0.0,\"#0d0887\"],[0.1111111111111111,\"#46039f\"],[0.2222222222222222,\"#7201a8\"],[0.3333333333333333,\"#9c179e\"],[0.4444444444444444,\"#bd3786\"],[0.5555555555555556,\"#d8576b\"],[0.6666666666666666,\"#ed7953\"],[0.7777777777777778,\"#fb9f3a\"],[0.8888888888888888,\"#fdca26\"],[1.0,\"#f0f921\"]],\"diverging\":[[0,\"#8e0152\"],[0.1,\"#c51b7d\"],[0.2,\"#de77ae\"],[0.3,\"#f1b6da\"],[0.4,\"#fde0ef\"],[0.5,\"#f7f7f7\"],[0.6,\"#e6f5d0\"],[0.7,\"#b8e186\"],[0.8,\"#7fbc41\"],[0.9,\"#4d9221\"],[1,\"#276419\"]]},\"xaxis\":{\"gridcolor\":\"white\",\"linecolor\":\"white\",\"ticks\":\"\",\"title\":{\"standoff\":15},\"zerolinecolor\":\"white\",\"automargin\":true,\"zerolinewidth\":2},\"yaxis\":{\"gridcolor\":\"white\",\"linecolor\":\"white\",\"ticks\":\"\",\"title\":{\"standoff\":15},\"zerolinecolor\":\"white\",\"automargin\":true,\"zerolinewidth\":2},\"scene\":{\"xaxis\":{\"backgroundcolor\":\"#E5ECF6\",\"gridcolor\":\"white\",\"linecolor\":\"white\",\"showbackground\":true,\"ticks\":\"\",\"zerolinecolor\":\"white\",\"gridwidth\":2},\"yaxis\":{\"backgroundcolor\":\"#E5ECF6\",\"gridcolor\":\"white\",\"linecolor\":\"white\",\"showbackground\":true,\"ticks\":\"\",\"zerolinecolor\":\"white\",\"gridwidth\":2},\"zaxis\":{\"backgroundcolor\":\"#E5ECF6\",\"gridcolor\":\"white\",\"linecolor\":\"white\",\"showbackground\":true,\"ticks\":\"\",\"zerolinecolor\":\"white\",\"gridwidth\":2}},\"shapedefaults\":{\"line\":{\"color\":\"#2a3f5f\"}},\"annotationdefaults\":{\"arrowcolor\":\"#2a3f5f\",\"arrowhead\":0,\"arrowwidth\":1},\"geo\":{\"bgcolor\":\"white\",\"landcolor\":\"#E5ECF6\",\"subunitcolor\":\"white\",\"showland\":true,\"showlakes\":true,\"lakecolor\":\"white\"},\"title\":{\"x\":0.05},\"mapbox\":{\"style\":\"light\"}}},\"title\":{\"text\":\"Dataset labels distribution\"},\"font\":{\"color\":\"black\"},\"paper_bgcolor\":\"white\",\"plot_bgcolor\":\"black\"},                        {\"responsive\": true}                    ).then(function(){\n",
       "                            \n",
       "var gd = document.getElementById('a7c92337-1755-4c04-8cd0-470a21c7ada1');\n",
       "var x = new MutationObserver(function (mutations, observer) {{\n",
       "        var display = window.getComputedStyle(gd).display;\n",
       "        if (!display || display === 'none') {{\n",
       "            console.log([gd, 'removed!']);\n",
       "            Plotly.purge(gd);\n",
       "            observer.disconnect();\n",
       "        }}\n",
       "}});\n",
       "\n",
       "// Listen for the removal of the full notebook cells\n",
       "var notebookContainer = gd.closest('#notebook-container');\n",
       "if (notebookContainer) {{\n",
       "    x.observe(notebookContainer, {childList: true});\n",
       "}}\n",
       "\n",
       "// Listen for the clearing of the current output cell\n",
       "var outputEl = gd.closest('.output');\n",
       "if (outputEl) {{\n",
       "    x.observe(outputEl, {childList: true});\n",
       "}}\n",
       "\n",
       "                        })                };                });            </script>        </div>"
      ]
     },
     "metadata": {},
     "output_type": "display_data"
    }
   ],
   "source": [
    "import plotly.subplots as sp\n",
    "import plotly.graph_objects as go\n",
    "\n",
    "# Membuat subplot dengan 1 baris dan 2 kolom\n",
    "fig = sp.make_subplots(rows=1, cols=2, specs=[[{'type':'domain'}, {'type':'domain'}]])\n",
    "\n",
    "# Menambahkan pie chart pertama untuk status_lexicon\n",
    "fig.add_trace(go.Pie(labels=list(status_cnt.keys()), values=list(status_cnt.values()), name=\"status_lexicon\",title=\"status lexicon\"),\n",
    "              1, 1)\n",
    "\n",
    "# Menambahkan pie chart kedua untuk score_lexicon\n",
    "fig.add_trace(go.Pie(labels=list(score_cnt.keys()), values=list(score_cnt.values()), name=\"score_lexicon\",title=\"score lexicon\"),\n",
    "              1, 2)\n",
    "\n",
    "# Update layout untuk menampilkan judul dan mengubah warna\n",
    "fig.update_layout(\n",
    "    title_text=\"Dataset labels distribution\",\n",
    "    paper_bgcolor=\"white\",\n",
    "    plot_bgcolor=\"black\",\n",
    "    font=dict(color=\"black\")\n",
    ")\n",
    "\n",
    "# Menampilkan figure\n",
    "fig.show()\n"
   ]
  },
  {
   "cell_type": "markdown",
   "id": "30adbe2a",
   "metadata": {},
   "source": [
    "# Visual dengan wordCloud"
   ]
  },
  {
   "cell_type": "code",
   "execution_count": 606,
   "id": "54b054fa",
   "metadata": {},
   "outputs": [
    {
     "data": {
      "image/png": "[encoded data removed]",
      "text/plain": [
       "<Figure size 432x288 with 1 Axes>"
      ]
     },
     "metadata": {},
     "output_type": "display_data"
    }
   ],
   "source": [
    "from wordcloud import WordCloud\n",
    "# Contoh: menggabungkan semua teks dari sentimen positif dalam satu string (asumsi dataframe Anda bernama df dan kolom teksnya bernama 'text')\n",
    "positive_text = ' '.join(new_df[new_df['status_lexicon'] == 'positif']['content'].tolist())\n",
    "\n",
    "\n",
    "wc = WordCloud().generate(positive_text)\n",
    "plt.imshow(wc, interpolation='bilinear')\n",
    "plt.axis('off')\n",
    "plt.show()"
   ]
  },
  {
   "cell_type": "code",
   "execution_count": 607,
   "id": "b393cc9a",
   "metadata": {},
   "outputs": [
    {
     "data": {
      "image/png": "[encoded data removed]",
      "text/plain": [
       "<Figure size 864x576 with 1 Axes>"
      ]
     },
     "metadata": {},
     "output_type": "display_data"
    }
   ],
   "source": [
    "# Menghitung frekuensi setiap kata\n",
    "word_freq = Counter(positive_text.split())\n",
    "common_words = word_freq.most_common(20)  # Ambil 20 kata teratas atau Anda bisa mengatur sesuai kebutuhan Anda\n",
    "\n",
    "# Memisahkan kata-kata dan frekuensinya ke dalam list terpisah\n",
    "words = [word[0] for word in common_words]\n",
    "counts = [word[1] for word in common_words]\n",
    "\n",
    "# Membuat bar chart\n",
    "plt.figure(figsize=(12, 8))\n",
    "sns.barplot(x=counts, y=words, palette='viridis')\n",
    "plt.xlabel('Count')\n",
    "plt.ylabel('Word')\n",
    "plt.title('Top 20 Most Common Words in Positive Sentiments')\n",
    "plt.show()\n"
   ]
  },
  {
   "cell_type": "code",
   "execution_count": 608,
   "id": "1161b116",
   "metadata": {},
   "outputs": [
    {
     "data": {
      "image/png": "[encoded data removed]",
      "text/plain": [
       "<Figure size 432x288 with 1 Axes>"
      ]
     },
     "metadata": {},
     "output_type": "display_data"
    }
   ],
   "source": [
    "# Contoh: menggabungkan semua teks dari sentimen positif dalam satu string (asumsi dataframe Anda bernama df dan kolom teksnya bernama 'text')\n",
    "positive_text = ' '.join(new_df[new_df['score_lexicon'] == 'positif']['content'].tolist())\n",
    "\n",
    "\n",
    "wc = WordCloud().generate(positive_text)\n",
    "plt.imshow(wc, interpolation='bilinear')\n",
    "plt.axis('off')\n",
    "plt.show()"
   ]
  },
  {
   "cell_type": "code",
   "execution_count": 609,
   "id": "5822625f",
   "metadata": {},
   "outputs": [
    {
     "data": {
      "image/png": "[encoded data removed]",
      "text/plain": [
       "<Figure size 864x576 with 1 Axes>"
      ]
     },
     "metadata": {},
     "output_type": "display_data"
    }
   ],
   "source": [
    "# Menghitung frekuensi setiap kata\n",
    "word_freq = Counter(positive_text.split())\n",
    "common_words = word_freq.most_common(20)  # Ambil 20 kata teratas atau Anda bisa mengatur sesuai kebutuhan Anda\n",
    "\n",
    "# Memisahkan kata-kata dan frekuensinya ke dalam list terpisah\n",
    "words = [word[0] for word in common_words]\n",
    "counts = [word[1] for word in common_words]\n",
    "\n",
    "# Membuat bar chart\n",
    "plt.figure(figsize=(12, 8))\n",
    "sns.barplot(x=counts, y=words, palette='viridis')\n",
    "plt.xlabel('Count')\n",
    "plt.ylabel('Word')\n",
    "plt.title('Top 20 Most Common Words in score Positive Sentiments')\n",
    "plt.show()"
   ]
  },
  {
   "cell_type": "code",
   "execution_count": 610,
   "id": "afe1fd38",
   "metadata": {},
   "outputs": [
    {
     "data": {
      "image/png": "[encoded data removed]",
      "text/plain": [
       "<Figure size 432x288 with 1 Axes>"
      ]
     },
     "metadata": {},
     "output_type": "display_data"
    }
   ],
   "source": [
    "# Contoh: menggabungkan semua teks dari sentimen positif dalam satu string (asumsi dataframe Anda bernama df dan kolom teksnya bernama 'text')\n",
    "negative_text = ' '.join(new_df[new_df['status_lexicon'] == 'negatif']['content'].tolist())\n",
    "\n",
    "\n",
    "wc = WordCloud().generate(negative_text)\n",
    "plt.imshow(wc, interpolation='bilinear')\n",
    "plt.axis('off')\n",
    "plt.show()"
   ]
  },
  {
   "cell_type": "code",
   "execution_count": 611,
   "id": "8fef62cd",
   "metadata": {},
   "outputs": [
    {
     "data": {
      "image/png": "[encoded data removed]",
      "text/plain": [
       "<Figure size 864x576 with 1 Axes>"
      ]
     },
     "metadata": {},
     "output_type": "display_data"
    }
   ],
   "source": [
    "# Menghitung frekuensi setiap kata\n",
    "word_freq = Counter(negative_text.split())\n",
    "common_words = word_freq.most_common(20)  # Ambil 20 kata teratas atau Anda bisa mengatur sesuai kebutuhan Anda\n",
    "\n",
    "# Memisahkan kata-kata dan frekuensinya ke dalam list terpisah\n",
    "words = [word[0] for word in common_words]\n",
    "counts = [word[1] for word in common_words]\n",
    "\n",
    "# Membuat bar chart\n",
    "plt.figure(figsize=(12, 8))\n",
    "sns.barplot(x=counts, y=words, palette='viridis')\n",
    "plt.xlabel('Count')\n",
    "plt.ylabel('Word')\n",
    "plt.title('Top 20 Most Common Words in Status Lexicon Negative Sentiments')\n",
    "plt.show()"
   ]
  },
  {
   "cell_type": "code",
   "execution_count": 612,
   "id": "1453cc77",
   "metadata": {},
   "outputs": [
    {
     "data": {
      "image/png": "[encoded data removed]",
      "text/plain": [
       "<Figure size 432x288 with 1 Axes>"
      ]
     },
     "metadata": {},
     "output_type": "display_data"
    }
   ],
   "source": [
    "# Contoh: menggabungkan semua teks dari sentimen positif dalam satu string (asumsi dataframe Anda bernama df dan kolom teksnya bernama 'text')\n",
    "negative_text = ' '.join(new_df[new_df['score_lexicon'] == 'negatif']['content'].tolist())\n",
    "\n",
    "\n",
    "wc = WordCloud().generate(negative_text)\n",
    "plt.imshow(wc, interpolation='bilinear')\n",
    "plt.axis('off')\n",
    "plt.show()"
   ]
  },
  {
   "cell_type": "code",
   "execution_count": 613,
   "id": "3ad3cc81",
   "metadata": {},
   "outputs": [
    {
     "data": {
      "image/png": "[encoded data removed]",
      "text/plain": [
       "<Figure size 864x576 with 1 Axes>"
      ]
     },
     "metadata": {},
     "output_type": "display_data"
    }
   ],
   "source": [
    "# Menghitung frekuensi setiap kata\n",
    "word_freq = Counter(negative_text.split())\n",
    "common_words = word_freq.most_common(20)  # Ambil 20 kata teratas atau Anda bisa mengatur sesuai kebutuhan Anda\n",
    "\n",
    "# Memisahkan kata-kata dan frekuensinya ke dalam list terpisah\n",
    "words = [word[0] for word in common_words]\n",
    "counts = [word[1] for word in common_words]\n",
    "\n",
    "# Membuat bar chart\n",
    "plt.figure(figsize=(12, 8))\n",
    "sns.barplot(x=counts, y=words, palette='viridis')\n",
    "plt.xlabel('Count')\n",
    "plt.ylabel('Word')\n",
    "plt.title('Top 20 Most Common Words in Score Lexicon Negative Sentiments')\n",
    "plt.show()"
   ]
  },
  {
   "cell_type": "markdown",
   "id": "649d2ded",
   "metadata": {},
   "source": [
    "# Membuat Model ML "
   ]
  },
  {
   "cell_type": "code",
   "execution_count": 614,
   "id": "68625a75",
   "metadata": {},
   "outputs": [
    {
     "name": "stdout",
     "output_type": "stream",
     "text": [
      "              precision    recall  f1-score   support\n",
      "\n",
      "     negatif       0.63      0.63      0.63      2475\n",
      "     neutral       0.11      0.01      0.01       327\n",
      "     positif       0.80      0.85      0.82      5036\n",
      "\n",
      "    accuracy                           0.75      7838\n",
      "   macro avg       0.51      0.50      0.49      7838\n",
      "weighted avg       0.72      0.75      0.73      7838\n",
      "\n"
     ]
    }
   ],
   "source": [
    "# #import\n",
    "\n",
    "from sklearn.neighbors import KNeighborsClassifier\n",
    "tfidf = TfidfVectorizer()\n",
    "X = tfidf.fit_transform(new_df['content'])\n",
    "\n",
    "# Mengambil label\n",
    "y = new_df['score_lexicon']\n",
    "\n",
    "# Membagi data\n",
    "X_train, X_test, y_train, y_test = train_test_split(X, y, test_size=0.4, random_state=42)\n",
    "\n",
    "# Membuat model KNN\n",
    "knn = KNeighborsClassifier(n_neighbors=5)\n",
    "knn.fit(X_train, y_train)\n",
    "\n",
    "# Memprediksi label untuk set pengujian\n",
    "y_pred = knn.predict(X_test)\n",
    "\n",
    "# Menampilkan laporan klasifikasi\n",
    "print(classification_report(y_test, y_pred))"
   ]
  },
  {
   "cell_type": "code",
   "execution_count": 615,
   "id": "37b3cb9a",
   "metadata": {},
   "outputs": [
    {
     "data": {
      "text/plain": [
       "(11757,)"
      ]
     },
     "execution_count": 615,
     "metadata": {},
     "output_type": "execute_result"
    }
   ],
   "source": [
    "y_train.shape"
   ]
  },
  {
   "cell_type": "code",
   "execution_count": 616,
   "id": "9ff1abd2",
   "metadata": {},
   "outputs": [
    {
     "data": {
      "text/plain": [
       "array(['negatif'], dtype=object)"
      ]
     },
     "execution_count": 616,
     "metadata": {},
     "output_type": "execute_result"
    }
   ],
   "source": [
    "testing_kalimat = tfidf.transform(['driver ugal ugalan'])\n",
    "knn.predict(testing_kalimat)"
   ]
  },
  {
   "cell_type": "markdown",
   "id": "a5816b7d",
   "metadata": {},
   "source": [
    "# Mencoba membuat Topic modeling LDA gensim"
   ]
  },
  {
   "cell_type": "code",
   "execution_count": 617,
   "id": "d31f2e81",
   "metadata": {},
   "outputs": [],
   "source": [
    "import gensim\n",
    "from gensim.utils import simple_preprocess\n",
    "from gensim.parsing.preprocessing import STOPWORDS\n",
    "\n",
    "# Fungsi untuk pra-pemrosesan teks\n",
    "def preprocess(text):\n",
    "    return [token for token in simple_preprocess(text) if token not in STOPWORDS]\n",
    "\n",
    "# Aplikasikan fungsi pada konten ulasan Anda\n",
    "processed_docs = new_df['content'].map(preprocess)"
   ]
  },
  {
   "cell_type": "code",
   "execution_count": 618,
   "id": "7374a112",
   "metadata": {},
   "outputs": [],
   "source": [
    "dictionary = gensim.corpora.Dictionary(processed_docs)\n",
    "corpus = [dictionary.doc2bow(doc) for doc in processed_docs]\n"
   ]
  },
  {
   "cell_type": "code",
   "execution_count": 619,
   "id": "8262e5a0",
   "metadata": {},
   "outputs": [
    {
     "name": "stdout",
     "output_type": "stream",
     "text": [
      "CPU times: total: 0 ns\n",
      "Wall time: 0 ns\n"
     ]
    }
   ],
   "source": [
    "%%time\n",
    "from gensim.models import CoherenceModel\n",
    "\n",
    "# num_topics = 9  # Anda bisa menyesuaikan ini berdasarkan kebutuhan Anda\n",
    "# coherenceModel = []\n",
    "# for x in range(10,100,10):\n",
    "#     lda_model = gensim.models.LdaMulticore(corpus, num_topics=num_topics, id2word=dictionary, passes=x,iterations=10, workers=4)\n",
    "#     coherence_model_lda = CoherenceModel(model=lda_model, texts=processed_docs, dictionary=dictionary, coherence='c_v')\n",
    "#     coherence_lda = coherence_model_lda.get_coherence()\n",
    "#     coherenceModel.append(coherence_lda)\n",
    "#     print(x)\n",
    "#     print(coherence_lda)\n",
    "    "
   ]
  },
  {
   "cell_type": "code",
   "execution_count": 620,
   "id": "e4896dce",
   "metadata": {},
   "outputs": [
    {
     "name": "stdout",
     "output_type": "stream",
     "text": [
      "10\n",
      "20\n",
      "30\n",
      "40\n",
      "50\n",
      "60\n",
      "70\n",
      "80\n",
      "90\n"
     ]
    }
   ],
   "source": [
    "for x in range(10,100,10):\n",
    "    print(x)"
   ]
  },
  {
   "cell_type": "code",
   "execution_count": 621,
   "id": "b2443f2e",
   "metadata": {},
   "outputs": [],
   "source": [
    "# %%time\n",
    "# num_topics = 9  # Anda bisa menyesuaikan ini berdasarkan kebutuhan Anda\n",
    "# lda_model = gensim.models.LdaMulticore(corpus, num_topics=num_topics, id2word=dictionary, passes=30,iterations=10, workers=4)\n"
   ]
  },
  {
   "cell_type": "code",
   "execution_count": 622,
   "id": "08f55876",
   "metadata": {},
   "outputs": [],
   "source": [
    "# %%time\n",
    "# from gensim.models import CoherenceModel\n",
    "\n",
    "# # Hitung coherence score\n",
    "# coherence_model_lda = CoherenceModel(model=lda_model, texts=processed_docs, dictionary=dictionary, coherence='c_v')\n",
    "# coherence_lda = coherence_model_lda.get_coherence()\n",
    "\n",
    "# print('\\nCoherence Score: ', coherence_lda)"
   ]
  },
  {
   "cell_type": "code",
   "execution_count": 623,
   "id": "54d748a0",
   "metadata": {},
   "outputs": [],
   "source": [
    "# %%time\n",
    "# from gensim.models import CoherenceModel\n",
    "\n",
    "# # Hitung coherence score\n",
    "# coherence_model_lda = CoherenceModel(model=lda_model, texts=processed_docs, dictionary=dictionary, coherence='c_v')\n",
    "# coherence_lda = coherence_model_lda.get_coherence()\n",
    "\n",
    "# print('\\nCoherence Score: ', coherence_lda)"
   ]
  },
  {
   "cell_type": "code",
   "execution_count": 624,
   "id": "7c080ab2",
   "metadata": {},
   "outputs": [],
   "source": [
    "# for idx, topic in lda_model.print_topics(-1):\n",
    "#     print('Topik: {} \\nKata-kata: {}\\n'.format(idx, topic))\n"
   ]
  },
  {
   "cell_type": "markdown",
   "id": "75f6cca2",
   "metadata": {},
   "source": [
    "# Mencoba Uji Statistika"
   ]
  },
  {
   "cell_type": "code",
   "execution_count": 625,
   "id": "e9b960b2",
   "metadata": {},
   "outputs": [],
   "source": [
    "#uji EDA statistika dan statistika deskriptif"
   ]
  },
  {
   "cell_type": "code",
   "execution_count": 626,
   "id": "5cd9cd7d",
   "metadata": {},
   "outputs": [
    {
     "data": {
      "text/html": [
       "<div>\n",
       "<style scoped>\n",
       "    .dataframe tbody tr th:only-of-type {\n",
       "        vertical-align: middle;\n",
       "    }\n",
       "\n",
       "    .dataframe tbody tr th {\n",
       "        vertical-align: top;\n",
       "    }\n",
       "\n",
       "    .dataframe thead th {\n",
       "        text-align: right;\n",
       "    }\n",
       "</style>\n",
       "<table border=\"1\" class=\"dataframe\">\n",
       "  <thead>\n",
       "    <tr style=\"text-align: right;\">\n",
       "      <th></th>\n",
       "      <th>userName</th>\n",
       "      <th>score</th>\n",
       "      <th>at</th>\n",
       "      <th>content</th>\n",
       "      <th>[preprocessed_content]</th>\n",
       "      <th>lexicon_positif</th>\n",
       "      <th>lexicon_negatif</th>\n",
       "      <th>final_lexicon</th>\n",
       "      <th>status_lexicon</th>\n",
       "      <th>score_lexicon</th>\n",
       "    </tr>\n",
       "  </thead>\n",
       "  <tbody>\n",
       "    <tr>\n",
       "      <th>0</th>\n",
       "      <td>Robbi Eko</td>\n",
       "      <td>5</td>\n",
       "      <td>2023-03-30 14:37:38</td>\n",
       "      <td>ok terima kasih</td>\n",
       "      <td>[ok, terima, kasih]</td>\n",
       "      <td>8</td>\n",
       "      <td>-1</td>\n",
       "      <td>7</td>\n",
       "      <td>positif</td>\n",
       "      <td>positif</td>\n",
       "    </tr>\n",
       "    <tr>\n",
       "      <th>1</th>\n",
       "      <td>mimi cedar</td>\n",
       "      <td>5</td>\n",
       "      <td>2023-03-30 14:35:59</td>\n",
       "      <td>transfer gopay gopay transfer gopay</td>\n",
       "      <td>[transfer, gopay, gopay, transfer, gopay]</td>\n",
       "      <td>0</td>\n",
       "      <td>0</td>\n",
       "      <td>0</td>\n",
       "      <td>neutral</td>\n",
       "      <td>positif</td>\n",
       "    </tr>\n",
       "    <tr>\n",
       "      <th>2</th>\n",
       "      <td>Elisabeth Kiswati Ladiyo</td>\n",
       "      <td>5</td>\n",
       "      <td>2023-03-30 14:33:41</td>\n",
       "      <td>aman cepat sesuai ekspektasi</td>\n",
       "      <td>[aman, cepat, sesuai, ekspektasi]</td>\n",
       "      <td>6</td>\n",
       "      <td>-3</td>\n",
       "      <td>3</td>\n",
       "      <td>positif</td>\n",
       "      <td>positif</td>\n",
       "    </tr>\n",
       "    <tr>\n",
       "      <th>3</th>\n",
       "      <td>Jemmi Meliau ibanez</td>\n",
       "      <td>5</td>\n",
       "      <td>2023-03-30 14:23:25</td>\n",
       "      <td>aplikasi membantu</td>\n",
       "      <td>[aplikasi, membantu]</td>\n",
       "      <td>4</td>\n",
       "      <td>0</td>\n",
       "      <td>4</td>\n",
       "      <td>positif</td>\n",
       "      <td>positif</td>\n",
       "    </tr>\n",
       "    <tr>\n",
       "      <th>4</th>\n",
       "      <td>Boedi Arsih</td>\n",
       "      <td>5</td>\n",
       "      <td>2023-03-30 14:19:13</td>\n",
       "      <td>cepat sampainya</td>\n",
       "      <td>[cepat, sampainya]</td>\n",
       "      <td>3</td>\n",
       "      <td>-3</td>\n",
       "      <td>0</td>\n",
       "      <td>neutral</td>\n",
       "      <td>positif</td>\n",
       "    </tr>\n",
       "  </tbody>\n",
       "</table>\n",
       "</div>"
      ],
      "text/plain": [
       "                   userName  score                   at  \\\n",
       "0                 Robbi Eko      5  2023-03-30 14:37:38   \n",
       "1                mimi cedar      5  2023-03-30 14:35:59   \n",
       "2  Elisabeth Kiswati Ladiyo      5  2023-03-30 14:33:41   \n",
       "3       Jemmi Meliau ibanez      5  2023-03-30 14:23:25   \n",
       "4               Boedi Arsih      5  2023-03-30 14:19:13   \n",
       "\n",
       "                               content  \\\n",
       "0                      ok terima kasih   \n",
       "1  transfer gopay gopay transfer gopay   \n",
       "2         aman cepat sesuai ekspektasi   \n",
       "3                    aplikasi membantu   \n",
       "4                      cepat sampainya   \n",
       "\n",
       "                      [preprocessed_content]  lexicon_positif  \\\n",
       "0                        [ok, terima, kasih]                8   \n",
       "1  [transfer, gopay, gopay, transfer, gopay]                0   \n",
       "2          [aman, cepat, sesuai, ekspektasi]                6   \n",
       "3                       [aplikasi, membantu]                4   \n",
       "4                         [cepat, sampainya]                3   \n",
       "\n",
       "   lexicon_negatif  final_lexicon status_lexicon score_lexicon  \n",
       "0               -1              7        positif       positif  \n",
       "1                0              0        neutral       positif  \n",
       "2               -3              3        positif       positif  \n",
       "3                0              4        positif       positif  \n",
       "4               -3              0        neutral       positif  "
      ]
     },
     "execution_count": 626,
     "metadata": {},
     "output_type": "execute_result"
    }
   ],
   "source": [
    "new_df.head()"
   ]
  },
  {
   "cell_type": "code",
   "execution_count": 627,
   "id": "43eab227",
   "metadata": {},
   "outputs": [
    {
     "name": "stdout",
     "output_type": "stream",
     "text": [
      "score\n",
      "1   -1.889410\n",
      "2    0.052154\n",
      "3    0.434731\n",
      "4    1.975655\n",
      "5    2.689307\n",
      "Name: final_lexicon, dtype: float64\n"
     ]
    }
   ],
   "source": [
    "average_final_by_score = new_df.groupby('score')['final_lexicon'].mean()\n",
    "print(average_final_by_score)"
   ]
  },
  {
   "cell_type": "code",
   "execution_count": 628,
   "id": "96a2e3f2",
   "metadata": {},
   "outputs": [
    {
     "data": {
      "image/png": "[encoded data removed]",
      "text/plain": [
       "<Figure size 432x288 with 1 Axes>"
      ]
     },
     "metadata": {},
     "output_type": "display_data"
    }
   ],
   "source": [
    "average_final_by_score.plot(kind='bar', color='skyblue', edgecolor='black')\n",
    "\n",
    "plt.title('Rata-rata Final Lexicon Berdasarkan Score')\n",
    "plt.xlabel('Score Ulasan')\n",
    "plt.ylabel('Rata-rata Final Lexicon')\n",
    "plt.xticks(rotation=0)\n",
    "plt.grid(axis='y')\n",
    "\n",
    "plt.tight_layout()\n",
    "plt.show()"
   ]
  },
  {
   "cell_type": "markdown",
   "id": "e9ccf5e0",
   "metadata": {},
   "source": [
    "## Menggunakan Confusion_matrix"
   ]
  },
  {
   "cell_type": "code",
   "execution_count": 629,
   "id": "0ffafbad",
   "metadata": {},
   "outputs": [
    {
     "name": "stdout",
     "output_type": "stream",
     "text": [
      "Konsistensi antara 'status_lexicon' dan 'score_lexicon': 62.80%\n"
     ]
    }
   ],
   "source": [
    "# consisten hasil dari score dengan based lexicon\n",
    "consistency_check = new_df['status_lexicon'] == new_df['score_lexicon']\n",
    "print(f\"Konsistensi antara 'status_lexicon' dan 'score_lexicon': {consistency_check.mean() * 100:.2f}%\")"
   ]
  },
  {
   "cell_type": "code",
   "execution_count": 630,
   "id": "489581dc",
   "metadata": {},
   "outputs": [
    {
     "data": {
      "image/png": "[encoded data removed]",
      "text/plain": [
       "<Figure size 720x576 with 2 Axes>"
      ]
     },
     "metadata": {},
     "output_type": "display_data"
    }
   ],
   "source": [
    "from sklearn.metrics import confusion_matrix, plot_confusion_matrix\n",
    "# Membuat confusion matrix\n",
    "labels = ['negatif', 'neutral', 'positif']  # Urutan label penting untuk interpretasi\n",
    "cm = confusion_matrix(new_df['score_lexicon'], new_df['status_lexicon'], labels=labels)\n",
    "\n",
    "# Menampilkan confusion matrix\n",
    "fig, ax = plt.subplots(figsize=(10, 8))\n",
    "sns.heatmap(cm, annot=True, fmt='d', cmap='Blues', xticklabels=labels, yticklabels=labels)\n",
    "plt.ylabel('Actual')\n",
    "plt.xlabel('Predicted')\n",
    "plt.show()\n"
   ]
  },
  {
   "cell_type": "code",
   "execution_count": 631,
   "id": "5da3d72e",
   "metadata": {},
   "outputs": [
    {
     "name": "stdout",
     "output_type": "stream",
     "text": [
      "              precision    recall  f1-score   support\n",
      "\n",
      "     negatif       0.72      0.49      0.58      6208\n",
      "     neutral       0.04      0.18      0.07       835\n",
      "     positif       0.78      0.72      0.75     12552\n",
      "\n",
      "    accuracy                           0.63     19595\n",
      "   macro avg       0.51      0.47      0.47     19595\n",
      "weighted avg       0.73      0.63      0.67     19595\n",
      "\n"
     ]
    }
   ],
   "source": [
    "report = classification_report(new_df['score_lexicon'], new_df['status_lexicon'], target_names=labels)\n",
    "print(report)"
   ]
  },
  {
   "cell_type": "code",
   "execution_count": 632,
   "id": "0fb5c499",
   "metadata": {},
   "outputs": [
    {
     "name": "stdout",
     "output_type": "stream",
     "text": [
      "1\n",
      "2\n",
      "3\n",
      "4\n",
      "5\n",
      "6\n",
      "7\n",
      "8\n",
      "9\n",
      "10\n",
      "finish\n"
     ]
    }
   ],
   "source": [
    "#check status lexicon yang positif tetapi pada actualnya negatif\n",
    "wrong_pred_p_n = []\n",
    "stop = 10\n",
    "stop2 = 0\n",
    "for x in new_df.index:\n",
    "    for y in new_df.index:\n",
    "        if new_df.loc[x,'status_lexicon'] == 'positif' and new_df.loc[y, 'score_lexicon'] == 'negatif':\n",
    "            wrong_pred_p_n.append(y)       \n",
    "    stop2 += 1\n",
    "    print(stop2)\n",
    "    if stop == stop2:\n",
    "        break\n",
    "\n",
    "print(\"finish\")"
   ]
  },
  {
   "cell_type": "markdown",
   "id": "04a9231f",
   "metadata": {},
   "source": [
    "## Uji sample Estimasi Interval (Interval Kepercayaan)"
   ]
  },
  {
   "cell_type": "code",
   "execution_count": 633,
   "id": "3930069a",
   "metadata": {},
   "outputs": [],
   "source": [
    "min_val = new_df['final_lexicon'].min()\n",
    "max_val = new_df['final_lexicon'].max()\n",
    "\n",
    "new_df['normalized_final_lexicon'] = 1 + (new_df['final_lexicon'] - min_val) * 4 / (max_val - min_val)"
   ]
  },
  {
   "cell_type": "code",
   "execution_count": 634,
   "id": "b5a6e728",
   "metadata": {},
   "outputs": [
    {
     "name": "stdout",
     "output_type": "stream",
     "text": [
      "Interval kepercayaan 95% untuk skor `final_lexicon`: (4.646418663077586, 4.647929686272342)\n"
     ]
    }
   ],
   "source": [
    "from scipy import stats\n",
    "\n",
    "confidence_level = 0.95\n",
    "degrees_freedom = len(new_df['normalized_final_lexicon']) - 1\n",
    "sample_mean = np.mean(new_df['normalized_final_lexicon'])\n",
    "sample_standard_error = stats.sem(new_df['normalized_final_lexicon'])\n",
    "\n",
    "confidence_interval = stats.t.interval(confidence_level, degrees_freedom, sample_mean, sample_standard_error)\n",
    "print(f\"Interval kepercayaan 95% untuk skor `final_lexicon`: {confidence_interval}\")"
   ]
  },
  {
   "cell_type": "code",
   "execution_count": 635,
   "id": "7e0dcf21",
   "metadata": {},
   "outputs": [
    {
     "data": {
      "text/plain": [
       "0.0003854483724005636"
      ]
     },
     "execution_count": 635,
     "metadata": {},
     "output_type": "execute_result"
    }
   ],
   "source": [
    "sample_standard_error"
   ]
  },
  {
   "cell_type": "markdown",
   "id": "74ceb075",
   "metadata": {},
   "source": [
    "## Uji-t untuk membandingkan skor final_lexicon antara ulasan dengan score_lexicon positif dan negatif:"
   ]
  },
  {
   "cell_type": "code",
   "execution_count": 636,
   "id": "b792f051",
   "metadata": {},
   "outputs": [
    {
     "name": "stdout",
     "output_type": "stream",
     "text": [
      "t-statistic: 41.443272601132534\n",
      "p-value: 0.0\n"
     ]
    }
   ],
   "source": [
    "positif_group = new_df[new_df['score_lexicon'] == 'positif']['normalized_final_lexicon']\n",
    "negatif_group = new_df[new_df['score_lexicon'] == 'negatif']['normalized_final_lexicon']\n",
    "\n",
    "t_stat, p_value = stats.ttest_ind(positif_group, negatif_group)\n",
    "print(f\"t-statistic: {t_stat}\")\n",
    "print(f\"p-value: {p_value}\")"
   ]
  },
  {
   "cell_type": "markdown",
   "id": "13dc041c",
   "metadata": {},
   "source": [
    "##  Uji chi-kuadrat untuk membandingkan distribusi status_lexicon dan score_lexicon:"
   ]
  },
  {
   "cell_type": "code",
   "execution_count": 637,
   "id": "5e68b868",
   "metadata": {},
   "outputs": [
    {
     "name": "stdout",
     "output_type": "stream",
     "text": [
      "chi-squared: 4502.6850501514755\n",
      "p-value: 0.0\n"
     ]
    }
   ],
   "source": [
    "contingency_table = pd.crosstab(new_df['status_lexicon'], new_df['score_lexicon'])\n",
    "chi2, p, _, _ = stats.chi2_contingency(contingency_table)\n",
    "\n",
    "print(f\"chi-squared: {chi2}\")\n",
    "print(f\"p-value: {p}\")"
   ]
  },
  {
   "cell_type": "markdown",
   "id": "292c55d1",
   "metadata": {},
   "source": [
    "## ANOVA untuk membandingkan skor final_lexicon berdasarkan skor ulasan:"
   ]
  },
  {
   "cell_type": "code",
   "execution_count": 638,
   "id": "30e794e1",
   "metadata": {},
   "outputs": [
    {
     "name": "stdout",
     "output_type": "stream",
     "text": [
      "F-statistic: 457.46594784866886\n",
      "p-value: 0.0\n"
     ]
    }
   ],
   "source": [
    "groups = [new_df['normalized_final_lexicon'][new_df['score'] == score] for score in new_df['score'].unique()]\n",
    "f_stat, p_value = stats.f_oneway(*groups)\n",
    "\n",
    "print(f\"F-statistic: {f_stat}\")\n",
    "print(f\"p-value: {p_value}\")"
   ]
  },
  {
   "cell_type": "markdown",
   "id": "470f9586",
   "metadata": {},
   "source": [
    "# Membuat model menggunakan DL Neutral Network"
   ]
  },
  {
   "cell_type": "markdown",
   "id": "c90c439f",
   "metadata": {},
   "source": [
    "# Word2Vec"
   ]
  },
  {
   "cell_type": "code",
   "execution_count": 639,
   "id": "d21dffc6",
   "metadata": {},
   "outputs": [],
   "source": [
    "#Prepare\n",
    "\n",
    "#DATASET\n",
    "TRAIN_SIZE = 0.8\n",
    "\n",
    "W2V_SIZE = 100\n",
    "W2V_WINDOW = 10\n",
    "W2V_EPOCH = 32\n",
    "W2V_MIN_COUNT = 5\n",
    "\n",
    "# KERAS\n",
    "SEQUENCE_LENGTH = 300\n",
    "EPOCHS = 8\n",
    "BATCH_SIZE = 1024\n",
    "\n",
    "# SENTIMENT\n",
    "POSITIVE = \"POSITIVE\"\n",
    "NEGATIVE = \"NEGATIVE\"\n",
    "NEUTRAL = \"NEUTRAL\"\n",
    "SENTIMENT_THRESHOLDS = (0.4, 0.7)\n",
    "\n",
    "# EXPORT\n",
    "KERAS_MODEL = \"model.h5\"\n",
    "WORD2VEC_MODEL = \"model.w2v\"\n",
    "TOKENIZER_MODEL = \"tokenizer.pkl\"\n",
    "ENCODER_MODEL = \"encoder.pkl\""
   ]
  },
  {
   "cell_type": "code",
   "execution_count": 640,
   "id": "8560403c",
   "metadata": {},
   "outputs": [
    {
     "name": "stdout",
     "output_type": "stream",
     "text": [
      "TRAIN size: 15676\n",
      "TEST size: 3919\n"
     ]
    }
   ],
   "source": [
    "#Split DF\n",
    "df_train, df_test = train_test_split(new_df, test_size=1-TRAIN_SIZE, random_state=42)\n",
    "print(\"TRAIN size:\", len(df_train))\n",
    "print(\"TEST size:\", len(df_test))"
   ]
  },
  {
   "cell_type": "code",
   "execution_count": 641,
   "id": "862863cd",
   "metadata": {},
   "outputs": [
    {
     "name": "stdout",
     "output_type": "stream",
     "text": [
      "CPU times: total: 31.2 ms\n",
      "Wall time: 19 ms\n"
     ]
    }
   ],
   "source": [
    "%%time\n",
    "documents = [_content.split() for _content in df_train.content]\n"
   ]
  },
  {
   "cell_type": "code",
   "execution_count": 642,
   "id": "6f61de6b",
   "metadata": {},
   "outputs": [],
   "source": [
    "w2v_model = gensim.models.word2vec.Word2Vec(vector_size=W2V_SIZE, \n",
    "                                            window=W2V_WINDOW, \n",
    "                                            min_count=W2V_MIN_COUNT, \n",
    "                                            workers=8)"
   ]
  },
  {
   "cell_type": "code",
   "execution_count": 643,
   "id": "bbf7b0f1",
   "metadata": {},
   "outputs": [
    {
     "name": "stdout",
     "output_type": "stream",
     "text": [
      "Word2Vec<vocab=0, vector_size=100, alpha=0.025>\n"
     ]
    }
   ],
   "source": [
    "print(w2v_model)"
   ]
  },
  {
   "cell_type": "code",
   "execution_count": 644,
   "id": "62a223af",
   "metadata": {},
   "outputs": [],
   "source": [
    "w2v_model.build_vocab(documents)"
   ]
  },
  {
   "cell_type": "code",
   "execution_count": 645,
   "id": "5e711696",
   "metadata": {},
   "outputs": [
    {
     "name": "stdout",
     "output_type": "stream",
     "text": [
      "Vocab size 2007\n"
     ]
    }
   ],
   "source": [
    "words = w2v_model.wv.key_to_index.keys()\n",
    "vocab_size = len(words)\n",
    "print(\"Vocab size\", vocab_size)"
   ]
  },
  {
   "cell_type": "code",
   "execution_count": 646,
   "id": "9517b67a",
   "metadata": {},
   "outputs": [
    {
     "name": "stdout",
     "output_type": "stream",
     "text": [
      "CPU times: total: 5.95 s\n",
      "Wall time: 2.18 s\n"
     ]
    },
    {
     "data": {
      "text/plain": [
       "(1954331, 2913536)"
      ]
     },
     "execution_count": 646,
     "metadata": {},
     "output_type": "execute_result"
    }
   ],
   "source": [
    "%%time\n",
    "w2v_model.train(documents, total_examples=len(documents), epochs=W2V_EPOCH)"
   ]
  },
  {
   "cell_type": "code",
   "execution_count": 647,
   "id": "13acfa95",
   "metadata": {},
   "outputs": [
    {
     "data": {
      "text/plain": [
       "[('gopaynya', 0.741756021976471),\n",
       " ('dana', 0.7020411491394043),\n",
       " ('banding', 0.6786978840827942),\n",
       " ('saldo', 0.6754557490348816),\n",
       " ('ovo', 0.6577898859977722),\n",
       " ('qris', 0.6538590788841248),\n",
       " ('saldonya', 0.6403663754463196),\n",
       " ('ilegal', 0.6376582980155945),\n",
       " ('blokir', 0.637327253818512),\n",
       " ('pengembalian', 0.6300119161605835)]"
      ]
     },
     "execution_count": 647,
     "metadata": {},
     "output_type": "execute_result"
    }
   ],
   "source": [
    "w2v_model.wv.most_similar(\"gopay\")"
   ]
  },
  {
   "cell_type": "code",
   "execution_count": null,
   "id": "b796351b",
   "metadata": {},
   "outputs": [],
   "source": []
  }
 ],
 "metadata": {
  "kernelspec": {
   "display_name": "Python 3 (ipykernel)",
   "language": "python",
   "name": "python3"
  },
  "language_info": {
   "codemirror_mode": {
    "name": "ipython",
    "version": 3
   },
   "file_extension": ".py",
   "mimetype": "text/x-python",
   "name": "python",
   "nbconvert_exporter": "python",
   "pygments_lexer": "ipython3",
   "version": "3.9.6"
  }
 },
 "nbformat": 4,
 "nbformat_minor": 5
}
