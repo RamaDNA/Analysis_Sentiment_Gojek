{
 "cells": [
  {
   "cell_type": "code",
   "execution_count": 3,
   "id": "6e0c8b8c",
   "metadata": {},
   "outputs": [
    {
     "name": "stderr",
     "output_type": "stream",
     "text": [
      "[nltk_data] Downloading package stopwords to\n",
      "[nltk_data]     C:\\Users\\nofia\\AppData\\Roaming\\nltk_data...\n",
      "[nltk_data]   Package stopwords is already up-to-date!\n",
      "[nltk_data] Downloading package punkt to\n",
      "[nltk_data]     C:\\Users\\nofia\\AppData\\Roaming\\nltk_data...\n",
      "[nltk_data]   Unzipping tokenizers\\punkt.zip.\n"
     ]
    },
    {
     "data": {
      "text/plain": [
       "True"
      ]
     },
     "execution_count": 3,
     "metadata": {},
     "output_type": "execute_result"
    }
   ],
   "source": [
    "import nltk\n",
    "\n",
    "nltk.download('stopwords')\n",
    "nltk.download('punkt')"
   ]
  },
  {
   "cell_type": "code",
   "execution_count": 4,
   "id": "fd70573b",
   "metadata": {},
   "outputs": [
    {
     "name": "stdout",
     "output_type": "stream",
     "text": [
      "kecewa app gofood yg membatalkan pesanan driver hak membatalkan pesanan customer jg bs membatalkan pesanan resto jg rugi ganti alamat pesanan ganti menu pesanan cust driver bs batalkan resto driver gojek jg dirugikan yg bahaya orderan fiktif tolong dipikirkan upgrade aplikasi kesini menyusahkan customer\n"
     ]
    }
   ],
   "source": [
    "from nltk.corpus import stopwords\n",
    "from nltk.tokenize import word_tokenize\n",
    "import re\n",
    "\n",
    "# Contoh teks\n",
    "text = \"kecewa dengan app gofood yg baru. tidak bisa membatalkan pesanan. driver tidak ada hak membatalkan pesanan, customer jg tidak bs membatalkan pesanan, resto jg tidak mau rugi. misalkan saya ingin ganti alamat pesanan/ganti menu pesanan sedangkan dari pihak cust/driver tidak bs batalkan, apakah resto driver dan pihak gojek jg tidak dirugikan ? yg pasti bisa bahaya dan makin banyak orderan fiktif. tolong dipikirkan kembali jika ingin upgrade aplikasi. makin kesini makin menyusahkan customer !\"\n",
    "\n",
    "# Menghapus tanda baca dan mengubah teks menjadi huruf kecil\n",
    "text = re.sub(r'[^\\w\\s]', ' ', text.lower())\n",
    "\n",
    "# Tokenisasi\n",
    "words = word_tokenize(text)\n",
    "\n",
    "# Menghapus stop words\n",
    "stop_words = set(stopwords.words('indonesian'))\n",
    "words = [word for word in words if word not in stop_words]\n",
    "\n",
    "# Menggabungkan kembali kata-kata menjadi teks\n",
    "clean_text = ' '.join(words)\n",
    "\n",
    "# Hasil\n",
    "print(clean_text)\n"
   ]
  },
  {
   "cell_type": "code",
   "execution_count": null,
   "id": "6b8845e2",
   "metadata": {},
   "outputs": [],
   "source": []
  }
 ],
 "metadata": {
  "kernelspec": {
   "display_name": "Python 3 (ipykernel)",
   "language": "python",
   "name": "python3"
  },
  "language_info": {
   "codemirror_mode": {
    "name": "ipython",
    "version": 3
   },
   "file_extension": ".py",
   "mimetype": "text/x-python",
   "name": "python",
   "nbconvert_exporter": "python",
   "pygments_lexer": "ipython3",
   "version": "3.9.6"
  }
 },
 "nbformat": 4,
 "nbformat_minor": 5
}
