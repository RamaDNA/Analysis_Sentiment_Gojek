{
 "cells": [
  {
   "cell_type": "code",
   "execution_count": 1,
   "id": "126d10ca",
   "metadata": {},
   "outputs": [
    {
     "name": "stdout",
     "output_type": "stream",
     "text": [
      "0.4\n"
     ]
    }
   ],
   "source": [
    "# Contoh lexicon sederhana (tentunya lexicon sesungguhnya perlu lebih lengkap)\n",
    "indonesian_lexicon = {\n",
    "    \"senang\": 0.8,\n",
    "    \"sedih\": -0.8,\n",
    "    \"netral\": 0\n",
    "}\n",
    "\n",
    "def analyze_sentiment(sentence, lexicon):\n",
    "    words = sentence.split()\n",
    "    scores = [lexicon.get(word, 0) for word in words]  # Dapatkan skor sentimen untuk setiap kata atau 0 jika kata tidak ditemukan di lexicon\n",
    "    return sum(scores) / len(words)  # Hitung rata-rata skor\n",
    "\n",
    "sentence = \"saya senang\"\n",
    "print(analyze_sentiment(sentence, indonesian_lexicon))"
   ]
  },
  {
   "cell_type": "code",
   "execution_count": 3,
   "id": "17935298",
   "metadata": {},
   "outputs": [
    {
     "name": "stdout",
     "output_type": "stream",
     "text": [
      "{'neg': 0, 'neu': 1, 'pos': 0, 'compound': 0.0}\n"
     ]
    }
   ],
   "source": [
    "def normalize(value, min_val, max_val):\n",
    "    return (value - min_val) / (max_val - min_val)\n",
    "\n",
    "def custom_polarity_scores(word, lexicon):\n",
    "    score = lexicon.get(word, 0)\n",
    "    result = {\"neg\": 0, \"neu\": 0, \"pos\": 0, \"compound\": 0}\n",
    "    \n",
    "    # Untuk kata-kata positif\n",
    "    if score > 0:\n",
    "        result[\"pos\"] = normalize(score, 1, 5)\n",
    "    # Untuk kata-kata negatif\n",
    "    elif score < 0:\n",
    "        result[\"neg\"] = -normalize(score, -5, -1) # Note: Kami mengubah tanda skor agar menjadi positif\n",
    "    # Untuk kata netral\n",
    "    else:\n",
    "        result[\"neu\"] = 1\n",
    "    \n",
    "    # Untuk compound, Anda dapat menormalisasi dengan rentang lexicon Anda atau gunakan skor asli (dengan normalisasi yang sesuai).\n",
    "    # Di sini, saya menggunakan pendekatan sederhana dengan menganggap rentang maksimal adalah -5 hingga 5.\n",
    "    result[\"compound\"] = normalize(score, -5, 5) * 2 - 1  # Mengubah rentang dari [0,1] menjadi [-1,1]\n",
    "    \n",
    "    return result\n",
    "\n",
    "lexicon = {\n",
    "    \"senang\": 4,\n",
    "    \"sedih\": -4,\n",
    "    \"marah\": -5,\n",
    "    \"gembira\": 5,\n",
    "    \"biasa\": 0\n",
    "}\n",
    "\n",
    "word = \"saya sangat senang\"\n",
    "print(custom_polarity_scores(word, lexicon))\n"
   ]
  },
  {
   "cell_type": "code",
   "execution_count": null,
   "id": "74aaa77a",
   "metadata": {},
   "outputs": [],
   "source": []
  }
 ],
 "metadata": {
  "kernelspec": {
   "display_name": "Python 3 (ipykernel)",
   "language": "python",
   "name": "python3"
  },
  "language_info": {
   "codemirror_mode": {
    "name": "ipython",
    "version": 3
   },
   "file_extension": ".py",
   "mimetype": "text/x-python",
   "name": "python",
   "nbconvert_exporter": "python",
   "pygments_lexer": "ipython3",
   "version": "3.9.6"
  }
 },
 "nbformat": 4,
 "nbformat_minor": 5
}
